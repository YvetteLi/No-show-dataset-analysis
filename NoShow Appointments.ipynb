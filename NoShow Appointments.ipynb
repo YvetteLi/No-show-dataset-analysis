{
 "cells": [
  {
   "cell_type": "markdown",
   "metadata": {},
   "source": [
    "# **P2. Investigate a Dataset**"
   ]
  },
  {
   "cell_type": "markdown",
   "metadata": {},
   "source": [
    "# Chosen Dataset: No Show Appointments"
   ]
  },
  {
   "cell_type": "markdown",
   "metadata": {},
   "source": [
    "This dataset collects information from 100k medical appointments in Brazil and is focused on the question of whether or not patients show up for their appointment.    \n",
    "[Referece](https://www.kaggle.com/joniarroba/noshowappointments)"
   ]
  },
  {
   "cell_type": "markdown",
   "metadata": {},
   "source": [
    "# Question Posted\n",
    "\n",
    "What factors are important for us to know in order to predict if a patient will show up for their scheduled appointment?"
   ]
  },
  {
   "cell_type": "markdown",
   "metadata": {},
   "source": [
    "# Data Dictionary\n",
    "PatientId - Identification of a patient    \n",
    "AppointmentID - Identification of each appointment    \n",
    "Gender = Male or Female   \n",
    "DataMarcacaoConsulta = The day of the actuall appointment, when they have to visit the doctor   \n",
    "DataAgendamento = The day someone called or registered the appointment, this is before appointment of course    \n",
    "Age = How old is the patient   \n",
    "Neighbourhood = Where the appointment takes place    \n",
    "Scholarship = Ture of False    \n",
    "Hipertension = True or False    \n",
    "Diabetes = True or False    \n",
    "Alcoholism = True or False    \n",
    "Handcap = True or False    \n",
    "SMS_received = 1 or more messages sent to the patient    \n",
    "No-show = True or False    \n",
    "[Reference](https://www.kaggle.com/joniarroba/noshowappointments)"
   ]
  },
  {
   "cell_type": "markdown",
   "metadata": {},
   "source": [
    "# Data Summary Initial Investigation"
   ]
  },
  {
   "cell_type": "markdown",
   "metadata": {},
   "source": [
    "## Load Data"
   ]
  },
  {
   "cell_type": "code",
   "execution_count": 403,
   "metadata": {},
   "outputs": [],
   "source": [
    "import pandas as pd\n",
    "import matplotlib.pyplot as plt\n",
    "import numpy as np\n",
    "from sklearn import datasets, linear_model\n",
    "import math\n",
    "from statsmodels.graphics.mosaicplot import mosaic\n",
    "from seaborn import heatmap\n",
    "from scipy.stats import poisson"
   ]
  },
  {
   "cell_type": "code",
   "execution_count": 72,
   "metadata": {},
   "outputs": [
    {
     "data": {
      "text/html": [
       "<div>\n",
       "<style scoped>\n",
       "    .dataframe tbody tr th:only-of-type {\n",
       "        vertical-align: middle;\n",
       "    }\n",
       "\n",
       "    .dataframe tbody tr th {\n",
       "        vertical-align: top;\n",
       "    }\n",
       "\n",
       "    .dataframe thead th {\n",
       "        text-align: right;\n",
       "    }\n",
       "</style>\n",
       "<table border=\"1\" class=\"dataframe\">\n",
       "  <thead>\n",
       "    <tr style=\"text-align: right;\">\n",
       "      <th></th>\n",
       "      <th>PatientId</th>\n",
       "      <th>AppointmentID</th>\n",
       "      <th>Gender</th>\n",
       "      <th>ScheduledDay</th>\n",
       "      <th>AppointmentDay</th>\n",
       "      <th>Age</th>\n",
       "      <th>Neighbourhood</th>\n",
       "      <th>Scholarship</th>\n",
       "      <th>Hipertension</th>\n",
       "      <th>Diabetes</th>\n",
       "      <th>Alcoholism</th>\n",
       "      <th>Handcap</th>\n",
       "      <th>SMS_received</th>\n",
       "      <th>No-show</th>\n",
       "    </tr>\n",
       "  </thead>\n",
       "  <tbody>\n",
       "    <tr>\n",
       "      <th>0</th>\n",
       "      <td>2.987250e+13</td>\n",
       "      <td>5642903</td>\n",
       "      <td>F</td>\n",
       "      <td>2016-04-29T18:38:08Z</td>\n",
       "      <td>2016-04-29T00:00:00Z</td>\n",
       "      <td>62</td>\n",
       "      <td>JARDIM DA PENHA</td>\n",
       "      <td>0</td>\n",
       "      <td>1</td>\n",
       "      <td>0</td>\n",
       "      <td>0</td>\n",
       "      <td>0</td>\n",
       "      <td>0</td>\n",
       "      <td>No</td>\n",
       "    </tr>\n",
       "    <tr>\n",
       "      <th>1</th>\n",
       "      <td>5.589978e+14</td>\n",
       "      <td>5642503</td>\n",
       "      <td>M</td>\n",
       "      <td>2016-04-29T16:08:27Z</td>\n",
       "      <td>2016-04-29T00:00:00Z</td>\n",
       "      <td>56</td>\n",
       "      <td>JARDIM DA PENHA</td>\n",
       "      <td>0</td>\n",
       "      <td>0</td>\n",
       "      <td>0</td>\n",
       "      <td>0</td>\n",
       "      <td>0</td>\n",
       "      <td>0</td>\n",
       "      <td>No</td>\n",
       "    </tr>\n",
       "    <tr>\n",
       "      <th>2</th>\n",
       "      <td>4.262962e+12</td>\n",
       "      <td>5642549</td>\n",
       "      <td>F</td>\n",
       "      <td>2016-04-29T16:19:04Z</td>\n",
       "      <td>2016-04-29T00:00:00Z</td>\n",
       "      <td>62</td>\n",
       "      <td>MATA DA PRAIA</td>\n",
       "      <td>0</td>\n",
       "      <td>0</td>\n",
       "      <td>0</td>\n",
       "      <td>0</td>\n",
       "      <td>0</td>\n",
       "      <td>0</td>\n",
       "      <td>No</td>\n",
       "    </tr>\n",
       "    <tr>\n",
       "      <th>3</th>\n",
       "      <td>8.679512e+11</td>\n",
       "      <td>5642828</td>\n",
       "      <td>F</td>\n",
       "      <td>2016-04-29T17:29:31Z</td>\n",
       "      <td>2016-04-29T00:00:00Z</td>\n",
       "      <td>8</td>\n",
       "      <td>PONTAL DE CAMBURI</td>\n",
       "      <td>0</td>\n",
       "      <td>0</td>\n",
       "      <td>0</td>\n",
       "      <td>0</td>\n",
       "      <td>0</td>\n",
       "      <td>0</td>\n",
       "      <td>No</td>\n",
       "    </tr>\n",
       "    <tr>\n",
       "      <th>4</th>\n",
       "      <td>8.841186e+12</td>\n",
       "      <td>5642494</td>\n",
       "      <td>F</td>\n",
       "      <td>2016-04-29T16:07:23Z</td>\n",
       "      <td>2016-04-29T00:00:00Z</td>\n",
       "      <td>56</td>\n",
       "      <td>JARDIM DA PENHA</td>\n",
       "      <td>0</td>\n",
       "      <td>1</td>\n",
       "      <td>1</td>\n",
       "      <td>0</td>\n",
       "      <td>0</td>\n",
       "      <td>0</td>\n",
       "      <td>No</td>\n",
       "    </tr>\n",
       "  </tbody>\n",
       "</table>\n",
       "</div>"
      ],
      "text/plain": [
       "      PatientId  AppointmentID Gender          ScheduledDay  \\\n",
       "0  2.987250e+13        5642903      F  2016-04-29T18:38:08Z   \n",
       "1  5.589978e+14        5642503      M  2016-04-29T16:08:27Z   \n",
       "2  4.262962e+12        5642549      F  2016-04-29T16:19:04Z   \n",
       "3  8.679512e+11        5642828      F  2016-04-29T17:29:31Z   \n",
       "4  8.841186e+12        5642494      F  2016-04-29T16:07:23Z   \n",
       "\n",
       "         AppointmentDay  Age      Neighbourhood  Scholarship  Hipertension  \\\n",
       "0  2016-04-29T00:00:00Z   62    JARDIM DA PENHA            0             1   \n",
       "1  2016-04-29T00:00:00Z   56    JARDIM DA PENHA            0             0   \n",
       "2  2016-04-29T00:00:00Z   62      MATA DA PRAIA            0             0   \n",
       "3  2016-04-29T00:00:00Z    8  PONTAL DE CAMBURI            0             0   \n",
       "4  2016-04-29T00:00:00Z   56    JARDIM DA PENHA            0             1   \n",
       "\n",
       "   Diabetes  Alcoholism  Handcap  SMS_received No-show  \n",
       "0         0           0        0             0      No  \n",
       "1         0           0        0             0      No  \n",
       "2         0           0        0             0      No  \n",
       "3         0           0        0             0      No  \n",
       "4         1           0        0             0      No  "
      ]
     },
     "execution_count": 72,
     "metadata": {},
     "output_type": "execute_result"
    }
   ],
   "source": [
    "file = \"noshowappointments-kagglev2-may-2016.csv\"\n",
    "\n",
    "record = pd.read_csv(file)\n",
    "record.head()"
   ]
  },
  {
   "cell_type": "markdown",
   "metadata": {},
   "source": [
    "## Initial Observation\n",
    "This dataset uses PatientId to identify each patient, and AppointmentID to identify each appointment. It can be predicted that the AppointmentID is unique. Other variables include categorical variables such as Gender, Neighbourhood, Scholarship, Hipertension, Diabetes, Alcoholism, Hand(i)cap, SMS_received, where Neighbourhood has more than 2 categories. Numerical variables include, ScheduleDay, AppointmentDay and Age, where ScheduleDay and AppointmentDay are timeseries data. \n",
    "\n",
    "SMS_received can be both numerical or categorical, but I guessed the SMS sent will not by more than 3 from my life experience. The categorization strategy will be updated as more investigation has been implemented.\n",
    "\n",
    "Most of the explanatory variables are categorical, and the response variable (no-show-rate) is also categorical. Therefore, in the following document, most of the visualization will be bar plots, Mosaic plots and some scatter plots to show the information in the data sets."
   ]
  },
  {
   "cell_type": "markdown",
   "metadata": {},
   "source": [
    "## NA value Investigation"
   ]
  },
  {
   "cell_type": "code",
   "execution_count": 73,
   "metadata": {},
   "outputs": [
    {
     "data": {
      "text/plain": [
       "True"
      ]
     },
     "execution_count": 73,
     "metadata": {},
     "output_type": "execute_result"
    }
   ],
   "source": [
    "len(record) == len(record.dropna())"
   ]
  },
  {
   "cell_type": "markdown",
   "metadata": {},
   "source": [
    "The data has no NA value"
   ]
  },
  {
   "cell_type": "markdown",
   "metadata": {},
   "source": [
    "## Patient ID Analysis"
   ]
  },
  {
   "cell_type": "markdown",
   "metadata": {},
   "source": [
    "The appointment ID is unique, but the patient can be a returning patient. Let's have a look at the unique patient."
   ]
  },
  {
   "cell_type": "code",
   "execution_count": 506,
   "metadata": {},
   "outputs": [
    {
     "name": "stdout",
     "output_type": "stream",
     "text": [
      "The number of unique patient is 62298\n",
      "The number of unique Appointment ID is 110526\n"
     ]
    }
   ],
   "source": [
    "print(\"The number of unique patient is\", str(len(record[\"PatientId\"].unique())))\n",
    "print(\"The number of unique Appointment ID is\", str(len(record[\"AppointmentID\"])))"
   ]
  },
  {
   "cell_type": "markdown",
   "metadata": {},
   "source": [
    "The unique patient is about half of the appointment. Let's find out the frequent visitors"
   ]
  },
  {
   "cell_type": "code",
   "execution_count": 638,
   "metadata": {},
   "outputs": [
    {
     "data": {
      "text/html": [
       "<div>\n",
       "<style scoped>\n",
       "    .dataframe tbody tr th:only-of-type {\n",
       "        vertical-align: middle;\n",
       "    }\n",
       "\n",
       "    .dataframe tbody tr th {\n",
       "        vertical-align: top;\n",
       "    }\n",
       "\n",
       "    .dataframe thead th {\n",
       "        text-align: right;\n",
       "    }\n",
       "</style>\n",
       "<table border=\"1\" class=\"dataframe\">\n",
       "  <thead>\n",
       "    <tr style=\"text-align: right;\">\n",
       "      <th></th>\n",
       "      <th>PatientId</th>\n",
       "    </tr>\n",
       "  </thead>\n",
       "  <tbody>\n",
       "    <tr>\n",
       "      <th>8.221459e+14</th>\n",
       "      <td>88</td>\n",
       "    </tr>\n",
       "    <tr>\n",
       "      <th>9.963767e+10</th>\n",
       "      <td>84</td>\n",
       "    </tr>\n",
       "    <tr>\n",
       "      <th>2.688613e+13</th>\n",
       "      <td>70</td>\n",
       "    </tr>\n",
       "    <tr>\n",
       "      <th>3.353478e+13</th>\n",
       "      <td>65</td>\n",
       "    </tr>\n",
       "    <tr>\n",
       "      <th>7.579746e+13</th>\n",
       "      <td>62</td>\n",
       "    </tr>\n",
       "    <tr>\n",
       "      <th>2.584244e+11</th>\n",
       "      <td>62</td>\n",
       "    </tr>\n",
       "    <tr>\n",
       "      <th>8.713749e+14</th>\n",
       "      <td>62</td>\n",
       "    </tr>\n",
       "    <tr>\n",
       "      <th>6.264199e+12</th>\n",
       "      <td>62</td>\n",
       "    </tr>\n",
       "    <tr>\n",
       "      <th>6.684488e+13</th>\n",
       "      <td>57</td>\n",
       "    </tr>\n",
       "    <tr>\n",
       "      <th>8.722785e+11</th>\n",
       "      <td>55</td>\n",
       "    </tr>\n",
       "  </tbody>\n",
       "</table>\n",
       "</div>"
      ],
      "text/plain": [
       "              PatientId\n",
       "8.221459e+14         88\n",
       "9.963767e+10         84\n",
       "2.688613e+13         70\n",
       "3.353478e+13         65\n",
       "7.579746e+13         62\n",
       "2.584244e+11         62\n",
       "8.713749e+14         62\n",
       "6.264199e+12         62\n",
       "6.684488e+13         57\n",
       "8.722785e+11         55"
      ]
     },
     "execution_count": 638,
     "metadata": {},
     "output_type": "execute_result"
    }
   ],
   "source": [
    "patient = pd.DataFrame(record[\"PatientId\"].value_counts())\n",
    "patient.iloc[:10]"
   ]
  },
  {
   "cell_type": "code",
   "execution_count": 643,
   "metadata": {},
   "outputs": [
    {
     "data": {
      "text/html": [
       "<div>\n",
       "<style scoped>\n",
       "    .dataframe tbody tr th:only-of-type {\n",
       "        vertical-align: middle;\n",
       "    }\n",
       "\n",
       "    .dataframe tbody tr th {\n",
       "        vertical-align: top;\n",
       "    }\n",
       "\n",
       "    .dataframe thead th {\n",
       "        text-align: right;\n",
       "    }\n",
       "</style>\n",
       "<table border=\"1\" class=\"dataframe\">\n",
       "  <thead>\n",
       "    <tr style=\"text-align: right;\">\n",
       "      <th></th>\n",
       "      <th>PatientId</th>\n",
       "      <th>ratio</th>\n",
       "    </tr>\n",
       "  </thead>\n",
       "  <tbody>\n",
       "    <tr>\n",
       "      <th>1</th>\n",
       "      <td>37919</td>\n",
       "      <td>0.608671</td>\n",
       "    </tr>\n",
       "    <tr>\n",
       "      <th>2</th>\n",
       "      <td>13895</td>\n",
       "      <td>0.223041</td>\n",
       "    </tr>\n",
       "    <tr>\n",
       "      <th>3</th>\n",
       "      <td>5500</td>\n",
       "      <td>0.088285</td>\n",
       "    </tr>\n",
       "    <tr>\n",
       "      <th>4</th>\n",
       "      <td>2367</td>\n",
       "      <td>0.037995</td>\n",
       "    </tr>\n",
       "    <tr>\n",
       "      <th>5</th>\n",
       "      <td>1119</td>\n",
       "      <td>0.017962</td>\n",
       "    </tr>\n",
       "    <tr>\n",
       "      <th>6</th>\n",
       "      <td>553</td>\n",
       "      <td>0.008877</td>\n",
       "    </tr>\n",
       "    <tr>\n",
       "      <th>7</th>\n",
       "      <td>306</td>\n",
       "      <td>0.004912</td>\n",
       "    </tr>\n",
       "    <tr>\n",
       "      <th>8</th>\n",
       "      <td>202</td>\n",
       "      <td>0.003242</td>\n",
       "    </tr>\n",
       "    <tr>\n",
       "      <th>9</th>\n",
       "      <td>104</td>\n",
       "      <td>0.001669</td>\n",
       "    </tr>\n",
       "    <tr>\n",
       "      <th>10</th>\n",
       "      <td>85</td>\n",
       "      <td>0.001364</td>\n",
       "    </tr>\n",
       "  </tbody>\n",
       "</table>\n",
       "</div>"
      ],
      "text/plain": [
       "    PatientId     ratio\n",
       "1       37919  0.608671\n",
       "2       13895  0.223041\n",
       "3        5500  0.088285\n",
       "4        2367  0.037995\n",
       "5        1119  0.017962\n",
       "6         553  0.008877\n",
       "7         306  0.004912\n",
       "8         202  0.003242\n",
       "9         104  0.001669\n",
       "10         85  0.001364"
      ]
     },
     "execution_count": 643,
     "metadata": {},
     "output_type": "execute_result"
    }
   ],
   "source": [
    "patient_count = pd.DataFrame(patient[\"PatientId\"].value_counts())\n",
    "patient_count[\"ratio\"] = patient_count[\"PatientId\"]/len(patient)\n",
    "patient_count.iloc[:10]"
   ]
  },
  {
   "cell_type": "code",
   "execution_count": 651,
   "metadata": {},
   "outputs": [
    {
     "data": {
      "image/png": "[encoded data removed]",
      "text/plain": [
       "<matplotlib.figure.Figure at 0x1a2f738f98>"
      ]
     },
     "metadata": {},
     "output_type": "display_data"
    }
   ],
   "source": [
    "pie_plt = plt.pie(patient_count[\"ratio\"], labels=patient_count.index, autopct='%1.1f%%')"
   ]
  },
  {
   "cell_type": "markdown",
   "metadata": {},
   "source": [
    "TODO:\n",
    "\n",
    "Is no show rate independent with the frequency?\n",
    "what is the percentage of the appointments are made by people who go to clinic more than 2 times"
   ]
  },
  {
   "cell_type": "code",
   "execution_count": 652,
   "metadata": {
    "scrolled": true
   },
   "outputs": [
    {
     "data": {
      "image/png": "[encoded data removed]",
      "text/plain": [
       "<matplotlib.figure.Figure at 0x1a2d76b400>"
      ]
     },
     "metadata": {},
     "output_type": "display_data"
    }
   ],
   "source": [
    "boxplot1 = plt.boxplot(patient[\"PatientId\"])"
   ]
  },
  {
   "cell_type": "code",
   "execution_count": 535,
   "metadata": {},
   "outputs": [
    {
     "data": {
      "text/plain": [
       "count    62298.000000\n",
       "mean         1.774150\n",
       "std          1.770336\n",
       "min          1.000000\n",
       "25%          1.000000\n",
       "50%          1.000000\n",
       "75%          2.000000\n",
       "max         88.000000\n",
       "Name: PatientId, dtype: float64"
      ]
     },
     "execution_count": 535,
     "metadata": {},
     "output_type": "execute_result"
    }
   ],
   "source": [
    "patient[\"PatientId\"].describe()"
   ]
  },
  {
   "cell_type": "markdown",
   "metadata": {},
   "source": [
    "From the table, box plot and five number summary, it is quite clear that most of the people come in once or twice. However, there are quite a few people come in more than two times. I will select the patient ID from those people, and compare their other data."
   ]
  },
  {
   "cell_type": "code",
   "execution_count": 636,
   "metadata": {},
   "outputs": [
    {
     "data": {
      "text/plain": [
       "0.6086712254004945"
      ]
     },
     "execution_count": 636,
     "metadata": {},
     "output_type": "execute_result"
    }
   ],
   "source": [
    "len(patient[patient[\"PatientId\"] == 1])/len(patient)"
   ]
  },
  {
   "cell_type": "markdown",
   "metadata": {},
   "source": [
    "Since there are many outliers on the boxplot, I've decided to use histogram to select a good threshold to define \"frequent\" patient. After choosing frequncy from 1 to 20, 20 looks like a good threshold as the data looks less skewed comparing to previous numbers. The following two histograms are the patient counts being filtered by larger than 19 or 20. When the filter is chosen as 20, the histogram looks significantly less skewed"
   ]
  },
  {
   "cell_type": "code",
   "execution_count": 653,
   "metadata": {},
   "outputs": [
    {
     "data": {
      "image/png": "[encoded data removed]",
      "text/plain": [
       "<matplotlib.figure.Figure at 0x1a2d2959b0>"
      ]
     },
     "metadata": {},
     "output_type": "display_data"
    }
   ],
   "source": [
    "hist_plot_id = plt.hist(patient[patient[\"PatientId\"]> 19][\"PatientId\"], bins=20)"
   ]
  },
  {
   "cell_type": "code",
   "execution_count": 600,
   "metadata": {},
   "outputs": [
    {
     "data": {
      "text/plain": [
       "(array([7., 0., 3., 3., 2., 3., 2., 2., 2., 1., 2., 0., 4., 1., 1., 0., 0.,\n",
       "        0., 1., 1.]),\n",
       " array([21.  , 24.35, 27.7 , 31.05, 34.4 , 37.75, 41.1 , 44.45, 47.8 ,\n",
       "        51.15, 54.5 , 57.85, 61.2 , 64.55, 67.9 , 71.25, 74.6 , 77.95,\n",
       "        81.3 , 84.65, 88.  ]),\n",
       " <a list of 20 Patch objects>)"
      ]
     },
     "execution_count": 600,
     "metadata": {},
     "output_type": "execute_result"
    },
    {
     "data": {
      "image/png": "[encoded data removed]",
      "text/plain": [
       "<matplotlib.figure.Figure at 0x1a301f56d8>"
      ]
     },
     "metadata": {},
     "output_type": "display_data"
    }
   ],
   "source": [
    "plt.hist(patient[patient[\"PatientId\"]> 20][\"PatientId\"], bins=20)"
   ]
  },
  {
   "cell_type": "code",
   "execution_count": 626,
   "metadata": {
    "scrolled": false
   },
   "outputs": [
    {
     "data": {
      "text/plain": [
       "{'boxes': [<matplotlib.lines.Line2D at 0x1a303c5470>],\n",
       " 'caps': [<matplotlib.lines.Line2D at 0x1a303c5e80>,\n",
       "  <matplotlib.lines.Line2D at 0x1a303c82e8>],\n",
       " 'fliers': [<matplotlib.lines.Line2D at 0x1a303c8b38>],\n",
       " 'means': [],\n",
       " 'medians': [<matplotlib.lines.Line2D at 0x1a303c8710>],\n",
       " 'whiskers': [<matplotlib.lines.Line2D at 0x1a303c55c0>,\n",
       "  <matplotlib.lines.Line2D at 0x1a303c5a58>]}"
      ]
     },
     "execution_count": 626,
     "metadata": {},
     "output_type": "execute_result"
    },
    {
     "data": {
      "image/png": "[encoded data removed]",
      "text/plain": [
       "<matplotlib.figure.Figure at 0x1a3008fef0>"
      ]
     },
     "metadata": {},
     "output_type": "display_data"
    }
   ],
   "source": [
    "plt.boxplot(patient[patient[\"PatientId\"] > 18][\"PatientId\"])"
   ]
  },
  {
   "cell_type": "code",
   "execution_count": 625,
   "metadata": {},
   "outputs": [
    {
     "data": {
      "text/plain": [
       "count    49.000000\n",
       "mean     36.836735\n",
       "std      18.704218\n",
       "min      19.000000\n",
       "25%      20.000000\n",
       "50%      33.000000\n",
       "75%      50.000000\n",
       "max      88.000000\n",
       "Name: PatientId, dtype: float64"
      ]
     },
     "execution_count": 625,
     "metadata": {},
     "output_type": "execute_result"
    }
   ],
   "source": [
    "patient[patient[\"PatientId\"] > 18][\"PatientId\"].describe()"
   ]
  },
  {
   "cell_type": "code",
   "execution_count": 621,
   "metadata": {},
   "outputs": [
    {
     "data": {
      "text/plain": [
       "PatientId    4\n",
       "Name: 791478965583917.0, dtype: int64"
      ]
     },
     "execution_count": 621,
     "metadata": {},
     "output_type": "execute_result"
    }
   ],
   "source": [
    "len(patient)/3\n",
    "patient.iloc[3000, :]"
   ]
  },
  {
   "cell_type": "markdown",
   "metadata": {},
   "source": [
    "The boxplot now includes all points within the interquantile range. The average for the patient count is 43.74, and the the standard deviation is 17.94. The standard deviation is still quite large. The first standard deviation will cross the 25 percentile and 75 percentile"
   ]
  },
  {
   "cell_type": "markdown",
   "metadata": {},
   "source": [
    "### Frequent Customer Checkout"
   ]
  },
  {
   "cell_type": "markdown",
   "metadata": {},
   "source": [
    "## Age Analysis\n",
    "To have a closer look at the numercial data, Age and SMS_received, I use describe() to see the summary of the two variables"
   ]
  },
  {
   "cell_type": "code",
   "execution_count": 74,
   "metadata": {},
   "outputs": [
    {
     "data": {
      "text/html": [
       "<div>\n",
       "<style scoped>\n",
       "    .dataframe tbody tr th:only-of-type {\n",
       "        vertical-align: middle;\n",
       "    }\n",
       "\n",
       "    .dataframe tbody tr th {\n",
       "        vertical-align: top;\n",
       "    }\n",
       "\n",
       "    .dataframe thead th {\n",
       "        text-align: right;\n",
       "    }\n",
       "</style>\n",
       "<table border=\"1\" class=\"dataframe\">\n",
       "  <thead>\n",
       "    <tr style=\"text-align: right;\">\n",
       "      <th></th>\n",
       "      <th>Age</th>\n",
       "    </tr>\n",
       "  </thead>\n",
       "  <tbody>\n",
       "    <tr>\n",
       "      <th>mean</th>\n",
       "      <td>37.088874</td>\n",
       "    </tr>\n",
       "    <tr>\n",
       "      <th>std</th>\n",
       "      <td>23.110205</td>\n",
       "    </tr>\n",
       "    <tr>\n",
       "      <th>min</th>\n",
       "      <td>-1.000000</td>\n",
       "    </tr>\n",
       "    <tr>\n",
       "      <th>25%</th>\n",
       "      <td>18.000000</td>\n",
       "    </tr>\n",
       "    <tr>\n",
       "      <th>50%</th>\n",
       "      <td>37.000000</td>\n",
       "    </tr>\n",
       "    <tr>\n",
       "      <th>75%</th>\n",
       "      <td>55.000000</td>\n",
       "    </tr>\n",
       "    <tr>\n",
       "      <th>max</th>\n",
       "      <td>115.000000</td>\n",
       "    </tr>\n",
       "  </tbody>\n",
       "</table>\n",
       "</div>"
      ],
      "text/plain": [
       "             Age\n",
       "mean   37.088874\n",
       "std    23.110205\n",
       "min    -1.000000\n",
       "25%    18.000000\n",
       "50%    37.000000\n",
       "75%    55.000000\n",
       "max   115.000000"
      ]
     },
     "execution_count": 74,
     "metadata": {},
     "output_type": "execute_result"
    }
   ],
   "source": [
    "record[[\"Age\"]].describe()[1:] ## Not showing the Count value, since Count is not important for this dataset"
   ]
  },
  {
   "cell_type": "code",
   "execution_count": 75,
   "metadata": {},
   "outputs": [
    {
     "data": {
      "text/plain": [
       "0     3.201933\n",
       "1     2.056511\n",
       "52    1.579705\n",
       "49    1.494657\n",
       "53    1.493753\n",
       "56    1.479277\n",
       "38    1.473848\n",
       "59    1.469324\n",
       "2     1.463896\n",
       "Name: Age, dtype: float64"
      ]
     },
     "execution_count": 75,
     "metadata": {},
     "output_type": "execute_result"
    }
   ],
   "source": [
    "age_count = record[\"Age\"].value_counts()\n",
    "age_count[:9]/len(record)*100"
   ]
  },
  {
   "cell_type": "markdown",
   "metadata": {},
   "source": [
    "For all of the appointments, 0-and 1-year old children take 3.2% and 2.1% of the total. Since a patient can visit the clinic more than 1 time, it is expected to have multiple visits from one PatientID. Combining the age into age groups may grasp the larger picture of the age distribution. Also, interestingly, the minimal value for age is -1."
   ]
  },
  {
   "cell_type": "code",
   "execution_count": 202,
   "metadata": {},
   "outputs": [
    {
     "name": "stdout",
     "output_type": "stream",
     "text": [
      "The entries with age < 1 is now 0\n"
     ]
    }
   ],
   "source": [
    "print(\"The entries with age < 1 is now\", str(record[record[\"Age\"] < 0].shape[0]))"
   ]
  },
  {
   "cell_type": "markdown",
   "metadata": {},
   "source": [
    "Since there is no indication of how a lower-than-zero age is documented, age of -1 does not make much sense. I will treat this row as a typo and discard."
   ]
  },
  {
   "cell_type": "code",
   "execution_count": 77,
   "metadata": {},
   "outputs": [],
   "source": [
    "record=record[record[\"Age\"] >= 0]"
   ]
  },
  {
   "cell_type": "markdown",
   "metadata": {},
   "source": [
    "Now, the age range is from 0 to 115. Use a histogram to show the age distribution."
   ]
  },
  {
   "cell_type": "code",
   "execution_count": 78,
   "metadata": {},
   "outputs": [
    {
     "data": {
      "text/plain": [
       "<matplotlib.axes._subplots.AxesSubplot at 0x1a12422780>"
      ]
     },
     "execution_count": 78,
     "metadata": {},
     "output_type": "execute_result"
    },
    {
     "data": {
      "image/png": "[encoded data removed]",
      "text/plain": [
       "<matplotlib.figure.Figure at 0x1a0f2bf358>"
      ]
     },
     "metadata": {},
     "output_type": "display_data"
    }
   ],
   "source": [
    "record.index = record[\"AppointmentID\"]\n",
    "record[\"Age\"].plot.hist(stacked=True, bins=30)"
   ]
  },
  {
   "cell_type": "markdown",
   "metadata": {},
   "source": [
    "It seems there are a few \"bumps\" in age distribution. Age groups 0-15, 25-35 and 50-65 have high frequency. It makes sense because new-borns and elderly are prone to diseases. Age groups of 20-23 and 40-43 have the lowest frequency. The drop in 65 years old is not surprising since more people desease as age grows.    \n",
    "\n",
    "Here comes a question"
   ]
  },
  {
   "cell_type": "markdown",
   "metadata": {},
   "source": [
    "<strong> Q1. Is no-show rate correlated to age? </strong>"
   ]
  },
  {
   "cell_type": "markdown",
   "metadata": {},
   "source": [
    "First, let's divide people into 6 age groups of 20 years. ie. 0-19, 20-39, 40-59, 60-79, 80-99, 100-118."
   ]
  },
  {
   "cell_type": "code",
   "execution_count": 79,
   "metadata": {},
   "outputs": [],
   "source": [
    "record.loc[:,\"Age_Group\"] = np.array(np.floor(record.Age/20)+1)"
   ]
  },
  {
   "cell_type": "code",
   "execution_count": 80,
   "metadata": {},
   "outputs": [
    {
     "data": {
      "text/html": [
       "<div>\n",
       "<style scoped>\n",
       "    .dataframe tbody tr th:only-of-type {\n",
       "        vertical-align: middle;\n",
       "    }\n",
       "\n",
       "    .dataframe tbody tr th {\n",
       "        vertical-align: top;\n",
       "    }\n",
       "\n",
       "    .dataframe thead th {\n",
       "        text-align: right;\n",
       "    }\n",
       "</style>\n",
       "<table border=\"1\" class=\"dataframe\">\n",
       "  <thead>\n",
       "    <tr style=\"text-align: right;\">\n",
       "      <th></th>\n",
       "      <th>Age</th>\n",
       "      <th>Age_Group</th>\n",
       "    </tr>\n",
       "    <tr>\n",
       "      <th>AppointmentID</th>\n",
       "      <th></th>\n",
       "      <th></th>\n",
       "    </tr>\n",
       "  </thead>\n",
       "  <tbody>\n",
       "    <tr>\n",
       "      <th>5642903</th>\n",
       "      <td>62</td>\n",
       "      <td>4.0</td>\n",
       "    </tr>\n",
       "    <tr>\n",
       "      <th>5642503</th>\n",
       "      <td>56</td>\n",
       "      <td>3.0</td>\n",
       "    </tr>\n",
       "    <tr>\n",
       "      <th>5642549</th>\n",
       "      <td>62</td>\n",
       "      <td>4.0</td>\n",
       "    </tr>\n",
       "    <tr>\n",
       "      <th>5642828</th>\n",
       "      <td>8</td>\n",
       "      <td>1.0</td>\n",
       "    </tr>\n",
       "    <tr>\n",
       "      <th>5642494</th>\n",
       "      <td>56</td>\n",
       "      <td>3.0</td>\n",
       "    </tr>\n",
       "  </tbody>\n",
       "</table>\n",
       "</div>"
      ],
      "text/plain": [
       "               Age  Age_Group\n",
       "AppointmentID                \n",
       "5642903         62        4.0\n",
       "5642503         56        3.0\n",
       "5642549         62        4.0\n",
       "5642828          8        1.0\n",
       "5642494         56        3.0"
      ]
     },
     "execution_count": 80,
     "metadata": {},
     "output_type": "execute_result"
    }
   ],
   "source": [
    "record[[\"Age\",\"Age_Group\"]].head()"
   ]
  },
  {
   "cell_type": "code",
   "execution_count": 81,
   "metadata": {},
   "outputs": [
    {
     "data": {
      "text/plain": [
       "[1.0, 2.0, 3.0, 4.0, 5.0, 6.0]"
      ]
     },
     "execution_count": 81,
     "metadata": {},
     "output_type": "execute_result"
    }
   ],
   "source": [
    "factors = np.unique(record[\"Age_Group\"], return_inverse=True)[0].tolist()\n",
    "factors"
   ]
  },
  {
   "cell_type": "code",
   "execution_count": 193,
   "metadata": {},
   "outputs": [
    {
     "data": {
      "text/html": [
       "<div>\n",
       "<style scoped>\n",
       "    .dataframe tbody tr th:only-of-type {\n",
       "        vertical-align: middle;\n",
       "    }\n",
       "\n",
       "    .dataframe tbody tr th {\n",
       "        vertical-align: top;\n",
       "    }\n",
       "\n",
       "    .dataframe thead th {\n",
       "        text-align: right;\n",
       "    }\n",
       "</style>\n",
       "<table border=\"1\" class=\"dataframe\">\n",
       "  <thead>\n",
       "    <tr style=\"text-align: right;\">\n",
       "      <th></th>\n",
       "      <th>No_Show</th>\n",
       "      <th>Show</th>\n",
       "      <th>No_Show_Rate</th>\n",
       "      <th>Age_group</th>\n",
       "    </tr>\n",
       "  </thead>\n",
       "  <tbody>\n",
       "    <tr>\n",
       "      <th>1.0</th>\n",
       "      <td>6741</td>\n",
       "      <td>23670</td>\n",
       "      <td>0.22</td>\n",
       "      <td>0-19</td>\n",
       "    </tr>\n",
       "    <tr>\n",
       "      <th>2.0</th>\n",
       "      <td>6680</td>\n",
       "      <td>22190</td>\n",
       "      <td>0.23</td>\n",
       "      <td>20-39</td>\n",
       "    </tr>\n",
       "    <tr>\n",
       "      <th>3.0</th>\n",
       "      <td>5656</td>\n",
       "      <td>24416</td>\n",
       "      <td>0.19</td>\n",
       "      <td>40-59</td>\n",
       "    </tr>\n",
       "    <tr>\n",
       "      <th>4.0</th>\n",
       "      <td>2692</td>\n",
       "      <td>15118</td>\n",
       "      <td>0.15</td>\n",
       "      <td>60-79</td>\n",
       "    </tr>\n",
       "    <tr>\n",
       "      <th>5.0</th>\n",
       "      <td>547</td>\n",
       "      <td>2805</td>\n",
       "      <td>0.16</td>\n",
       "      <td>80-99</td>\n",
       "    </tr>\n",
       "    <tr>\n",
       "      <th>6.0</th>\n",
       "      <td>3</td>\n",
       "      <td>8</td>\n",
       "      <td>0.27</td>\n",
       "      <td>100-118</td>\n",
       "    </tr>\n",
       "  </tbody>\n",
       "</table>\n",
       "</div>"
      ],
      "text/plain": [
       "     No_Show   Show  No_Show_Rate Age_group\n",
       "1.0     6741  23670          0.22      0-19\n",
       "2.0     6680  22190          0.23     20-39\n",
       "3.0     5656  24416          0.19     40-59\n",
       "4.0     2692  15118          0.15     60-79\n",
       "5.0      547   2805          0.16     80-99\n",
       "6.0        3      8          0.27   100-118"
      ]
     },
     "execution_count": 193,
     "metadata": {},
     "output_type": "execute_result"
    }
   ],
   "source": [
    "## Now let's see the relationship between Age_Group and No Show Rate\n",
    "\n",
    "no_show_dict = {}\n",
    "show_dict = {}\n",
    "for factor in factors:\n",
    "    no_show_dict[factor] = len(record[(record[\"Age_Group\"] == factor) &(record[\"No-show\"]==\"Yes\")])\n",
    "    show_dict[factor] = len(record[(record[\"Age_Group\"] == factor) & (record[\"No-show\"]==\"No\")])\n",
    "\n",
    "age_group = [\"0-19\", \"20-39\", \"40-59\", \"60-79\", \"80-99\", \"100-118\"]\n",
    "df_age_group = pd.DataFrame(data=[no_show_dict,show_dict]).T\n",
    "df_age_group.rename(columns={0:'No_Show', 1:\"Show\"}, inplace=True)\n",
    "df_age_group[\"No_Show_Rate\"] = df_age_group[\"No_Show\"]/(df_age_group[\"No_Show\"]+df_age_group[\"Show\"])\n",
    "df_age_group[\"Age_group\"] = age_group\n",
    "df_age_group.round({\"No_Show_Rate\": 2})\n",
    "\n"
   ]
  },
  {
   "cell_type": "code",
   "execution_count": 83,
   "metadata": {},
   "outputs": [
    {
     "data": {
      "text/plain": [
       "<matplotlib.legend.Legend at 0x1a1193bc18>"
      ]
     },
     "execution_count": 83,
     "metadata": {},
     "output_type": "execute_result"
    },
    {
     "data": {
      "image/png": "[encoded data removed]",
      "text/plain": [
       "<matplotlib.figure.Figure at 0x1a124cc6a0>"
      ]
     },
     "metadata": {},
     "output_type": "display_data"
    }
   ],
   "source": [
    "p1 = plt.bar(np.arange(6), df_age_group[\"No_Show\"])\n",
    "p2 = plt.bar(np.arange(6), df_age_group[\"Show\"], bottom=df_age_group[\"No_Show\"])\n",
    "\n",
    "plt.title('No Show Rate by Age Group')\n",
    "plt.ylabel('Number of Patients')\n",
    "plt.xticks(np.arange(6), (\"0-19\", \"20-39\", \"40-59\", \"60-79\", \"80-99\", \"100-118\"))\n",
    "plt.legend((p1[0], p2[0]), ('No Show', 'Showed'))"
   ]
  },
  {
   "cell_type": "markdown",
   "metadata": {},
   "source": [
    "The no show rate slightly correlates to age group as given people in age group 0-19, 20-39, 40-59, 60-79, 80-99, and 100-118, the ratio of people who showed up and people who didn't show up is not the same across all age group. The No Show Rate is about the same for people in age 0-19 and age 20-39. The No Show rate drops after the age hits 40, and continues to remain around 15% until the age grows over 100. Please be noted that the total number of patients in age group 100 and 118 is fairly low (11 people in total). The confidence interval for the no show rate will be expected to be large. <br> <br>\n",
    "\n",
    "It would be interesting to see the mosaic plot of Age_Group and the No-show Rate"
   ]
  },
  {
   "cell_type": "markdown",
   "metadata": {},
   "source": [
    "<strong>Mosaic Plot</strong>"
   ]
  },
  {
   "cell_type": "code",
   "execution_count": 160,
   "metadata": {},
   "outputs": [
    {
     "data": {
      "text/plain": [
       "OrderedDict([(('4.0', 'No'),\n",
       "              (0.0, 0.0, 0.15720834695996927, 0.8460288650409172)),\n",
       "             (('4.0', 'Yes'),\n",
       "              (0.0,\n",
       "               0.8493511241771299,\n",
       "               0.15720834695996927,\n",
       "               0.15064887582287007)),\n",
       "             (('3.0', 'No'),\n",
       "              (0.16208639574045708,\n",
       "               0.0,\n",
       "               0.26544466085234114,\n",
       "               0.809220661111008)),\n",
       "             (('3.0', 'Yes'),\n",
       "              (0.16208639574045708,\n",
       "               0.8125429202472205,\n",
       "               0.26544466085234114,\n",
       "               0.18745707975277934)),\n",
       "             (('1.0', 'No'),\n",
       "              (0.43240910537328603,\n",
       "               0.0,\n",
       "               0.26843700389666625,\n",
       "               0.7757509495329271)),\n",
       "             (('1.0', 'Yes'),\n",
       "              (0.43240910537328603,\n",
       "               0.7790732086691396,\n",
       "               0.26843700389666625,\n",
       "               0.2209267913308602)),\n",
       "             (('2.0', 'No'),\n",
       "              (0.7057241580504401,\n",
       "               0.0,\n",
       "               0.2548346421524038,\n",
       "               0.7660643945191354)),\n",
       "             (('2.0', 'Yes'),\n",
       "              (0.7057241580504401,\n",
       "               0.769386653655348,\n",
       "               0.2548346421524038,\n",
       "               0.23061334634465191)),\n",
       "             (('5.0', 'No'),\n",
       "              (0.9654368489833317,\n",
       "               0.0,\n",
       "               0.029588005559226103,\n",
       "               0.8340337300486048)),\n",
       "             (('5.0', 'Yes'),\n",
       "              (0.9654368489833317,\n",
       "               0.8373559891848174,\n",
       "               0.029588005559226103,\n",
       "               0.16264401081518248)),\n",
       "             (('6.0', 'No'),\n",
       "              (0.9999029033230455,\n",
       "               0.0,\n",
       "               9.709667695450442e-05,\n",
       "               0.7248565388100271)),\n",
       "             (('6.0', 'Yes'),\n",
       "              (0.9999029033230455,\n",
       "               0.7281787979462397,\n",
       "               9.709667695450442e-05,\n",
       "               0.27182120205376015))])"
      ]
     },
     "execution_count": 160,
     "metadata": {},
     "output_type": "execute_result"
    },
    {
     "data": {
      "image/png": "[encoded data removed]",
      "text/plain": [
       "<matplotlib.figure.Figure at 0x1a246ad4e0>"
      ]
     },
     "metadata": {},
     "output_type": "display_data"
    }
   ],
   "source": [
    "mosaic(record, [\"Age_Group\", \"No-show\"])"
   ]
  },
  {
   "cell_type": "code",
   "execution_count": 123,
   "metadata": {},
   "outputs": [
    {
     "data": {
      "text/plain": [
       "array(['No', 'Yes'], dtype=object)"
      ]
     },
     "execution_count": 123,
     "metadata": {},
     "output_type": "execute_result"
    }
   ],
   "source": [
    "lookupTable, indexed_dataSet = np.unique(record[\"No-show\"], return_inverse=True)\n",
    "lookupTable"
   ]
  },
  {
   "cell_type": "code",
   "execution_count": 124,
   "metadata": {},
   "outputs": [
    {
     "data": {
      "text/plain": [
       "array([0, 0, 0, ..., 0, 0, 0])"
      ]
     },
     "execution_count": 124,
     "metadata": {},
     "output_type": "execute_result"
    }
   ],
   "source": [
    "indexed_dataSet"
   ]
  },
  {
   "cell_type": "code",
   "execution_count": 141,
   "metadata": {},
   "outputs": [
    {
     "data": {
      "text/plain": [
       "(0, 16)"
      ]
     },
     "execution_count": 141,
     "metadata": {},
     "output_type": "execute_result"
    }
   ],
   "source": [
    "record[\"No-show-indexed\"] = indexed_dataSet\n",
    "record[(record[\"No-show\"] == \"No\") & (record[\"No-show-indexed\"] == 1)].shape"
   ]
  },
  {
   "cell_type": "code",
   "execution_count": 142,
   "metadata": {},
   "outputs": [
    {
     "data": {
      "text/plain": [
       "(0, 16)"
      ]
     },
     "execution_count": 142,
     "metadata": {},
     "output_type": "execute_result"
    }
   ],
   "source": [
    "record[(record[\"No-show\"] == \"Yes\") & (record[\"No-show-indexed\"] == 0)].shape"
   ]
  },
  {
   "cell_type": "markdown",
   "metadata": {},
   "source": [
    "The above two blocks of code indicate that \"No\" for no-show has been coded as 0, and \"Yes\" for no-show has been coded as 1."
   ]
  },
  {
   "cell_type": "code",
   "execution_count": 453,
   "metadata": {},
   "outputs": [
    {
     "name": "stdout",
     "output_type": "stream",
     "text": [
      "The coefficient of No-show and Age Group is -0.0635\n",
      "The coefficient of No-show and Age is -0.0603\n"
     ]
    }
   ],
   "source": [
    "print(\"The coefficient of No-show and Age Group is \"\n",
    "      + str(np.corrcoef(record[\"No-show-indexed\"], record[\"Age_Group\"])[0][1].round(4)))\n",
    "print(\"The coefficient of No-show and Age is \"\n",
    "      + str(np.corrcoef(record[\"No-show-indexed\"], record[\"Age\"])[0][1].round(4)))"
   ]
  },
  {
   "cell_type": "markdown",
   "metadata": {},
   "source": [
    "### Categorical Data"
   ]
  },
  {
   "cell_type": "markdown",
   "metadata": {},
   "source": [
    "To check the categorical data, I use value_counts() for each of the categorical variables"
   ]
  },
  {
   "cell_type": "code",
   "execution_count": 498,
   "metadata": {
    "scrolled": false
   },
   "outputs": [
    {
     "name": "stdout",
     "output_type": "stream",
     "text": [
      "Table for Gender with 2 categories\n",
      "F    71839\n",
      "M    38687\n",
      "Name: Gender, dtype: int64\n",
      "\n",
      "\n",
      "Table for Scholarship with 2 categories\n",
      "0    99665\n",
      "1    10861\n",
      "Name: Scholarship, dtype: int64\n",
      "\n",
      "\n",
      "Table for Hipertension with 2 categories\n",
      "0    88725\n",
      "1    21801\n",
      "Name: Hipertension, dtype: int64\n",
      "\n",
      "\n",
      "Table for Diabetes with 2 categories\n",
      "0    102583\n",
      "1      7943\n",
      "Name: Diabetes, dtype: int64\n",
      "\n",
      "\n",
      "Table for Neighbourhood with 81 categories\n",
      "JARDIM CAMBURI     7717\n",
      "MARIA ORTIZ        5805\n",
      "RESISTÊNCIA        4431\n",
      "JARDIM DA PENHA    3877\n",
      "ITARARÉ            3514\n",
      "CENTRO             3334\n",
      "TABUAZEIRO         3132\n",
      "Name: Neighbourhood, dtype: int64\n",
      "\n",
      "\n",
      "Table for Alcoholism with 2 categories\n",
      "0    107166\n",
      "1      3360\n",
      "Name: Alcoholism, dtype: int64\n",
      "\n",
      "\n",
      "Table for Handcap with 5 categories\n",
      "0    108285\n",
      "1      2042\n",
      "2       183\n",
      "3        13\n",
      "4         3\n",
      "Name: Handcap, dtype: int64\n",
      "\n",
      "\n",
      "Table for SMS_received with 2 categories\n",
      "0    75044\n",
      "1    35482\n",
      "Name: SMS_received, dtype: int64\n",
      "\n",
      "\n"
     ]
    }
   ],
   "source": [
    "cols = [\"Gender\", \"Scholarship\",\n",
    "        'Hipertension', \"Diabetes\", \"Neighbourhood\",\n",
    "        \"Alcoholism\", \"Handcap\", \"SMS_received\"]\n",
    "for col in cols:\n",
    "    print(\"Table for \" + col + \" with \" + str(len(record[col].value_counts()))+\" categories\")\n",
    "    print(record[col].value_counts()[0:7])\n",
    "    print(\"\\n\")\n",
    "    "
   ]
  },
  {
   "cell_type": "markdown",
   "metadata": {},
   "source": [
    "It is surprising to see that \"Handcap\" is not a binary value. According to this [post](https://www.kaggle.com/joniarroba/noshowappointments/discussion/29699), \"the handcap refers to the number of desabilites a person has\". If a person is both blind and deaf, Handicap for this person will show 2.  \n",
    "\n",
    "Although I could use almost the same way to determine the no show rate, I'd like to take a closer look at the correlations among variables."
   ]
  },
  {
   "cell_type": "markdown",
   "metadata": {},
   "source": [
    "<strong> Q2: What is the correlation between all categorical variables? </strong>"
   ]
  },
  {
   "cell_type": "markdown",
   "metadata": {},
   "source": [
    "This question can be answered both graphically or mathematically. I'd like to use the mathematical method to discover the correlation to avoid code repetition"
   ]
  },
  {
   "cell_type": "code",
   "execution_count": 499,
   "metadata": {},
   "outputs": [
    {
     "data": {
      "text/html": [
       "<div>\n",
       "<style scoped>\n",
       "    .dataframe tbody tr th:only-of-type {\n",
       "        vertical-align: middle;\n",
       "    }\n",
       "\n",
       "    .dataframe tbody tr th {\n",
       "        vertical-align: top;\n",
       "    }\n",
       "\n",
       "    .dataframe thead th {\n",
       "        text-align: right;\n",
       "    }\n",
       "</style>\n",
       "<table border=\"1\" class=\"dataframe\">\n",
       "  <thead>\n",
       "    <tr style=\"text-align: right;\">\n",
       "      <th></th>\n",
       "      <th>Gender</th>\n",
       "      <th>Scholarship</th>\n",
       "      <th>Hipertension</th>\n",
       "      <th>Diabetes</th>\n",
       "      <th>Alcoholism</th>\n",
       "      <th>SMS_received</th>\n",
       "      <th>No-show-indexed</th>\n",
       "      <th>PatientId</th>\n",
       "      <th>Handcap_or_not</th>\n",
       "    </tr>\n",
       "  </thead>\n",
       "  <tbody>\n",
       "    <tr>\n",
       "      <th>Gender</th>\n",
       "      <td>1.000000</td>\n",
       "      <td>-0.114296</td>\n",
       "      <td>-0.055722</td>\n",
       "      <td>-0.032556</td>\n",
       "      <td>0.106166</td>\n",
       "      <td>-0.046302</td>\n",
       "      <td>-0.004122</td>\n",
       "      <td>0.007898</td>\n",
       "      <td>0.022421</td>\n",
       "    </tr>\n",
       "    <tr>\n",
       "      <th>Scholarship</th>\n",
       "      <td>-0.114296</td>\n",
       "      <td>1.000000</td>\n",
       "      <td>-0.019730</td>\n",
       "      <td>-0.024894</td>\n",
       "      <td>0.035022</td>\n",
       "      <td>0.001192</td>\n",
       "      <td>0.029134</td>\n",
       "      <td>-0.002877</td>\n",
       "      <td>-0.009104</td>\n",
       "    </tr>\n",
       "    <tr>\n",
       "      <th>Hipertension</th>\n",
       "      <td>-0.055722</td>\n",
       "      <td>-0.019730</td>\n",
       "      <td>1.000000</td>\n",
       "      <td>0.433085</td>\n",
       "      <td>0.087970</td>\n",
       "      <td>-0.006270</td>\n",
       "      <td>-0.035704</td>\n",
       "      <td>-0.006436</td>\n",
       "      <td>0.084851</td>\n",
       "    </tr>\n",
       "    <tr>\n",
       "      <th>Diabetes</th>\n",
       "      <td>-0.032556</td>\n",
       "      <td>-0.024894</td>\n",
       "      <td>0.433085</td>\n",
       "      <td>1.000000</td>\n",
       "      <td>0.018473</td>\n",
       "      <td>-0.014552</td>\n",
       "      <td>-0.015181</td>\n",
       "      <td>0.001608</td>\n",
       "      <td>0.059144</td>\n",
       "    </tr>\n",
       "    <tr>\n",
       "      <th>Alcoholism</th>\n",
       "      <td>0.106166</td>\n",
       "      <td>0.035022</td>\n",
       "      <td>0.087970</td>\n",
       "      <td>0.018473</td>\n",
       "      <td>1.000000</td>\n",
       "      <td>-0.026149</td>\n",
       "      <td>-0.000197</td>\n",
       "      <td>0.011014</td>\n",
       "      <td>0.003692</td>\n",
       "    </tr>\n",
       "    <tr>\n",
       "      <th>SMS_received</th>\n",
       "      <td>-0.046302</td>\n",
       "      <td>0.001192</td>\n",
       "      <td>-0.006270</td>\n",
       "      <td>-0.014552</td>\n",
       "      <td>-0.026149</td>\n",
       "      <td>1.000000</td>\n",
       "      <td>0.126428</td>\n",
       "      <td>-0.009742</td>\n",
       "      <td>-0.025221</td>\n",
       "    </tr>\n",
       "    <tr>\n",
       "      <th>No-show-indexed</th>\n",
       "      <td>-0.004122</td>\n",
       "      <td>0.029134</td>\n",
       "      <td>-0.035704</td>\n",
       "      <td>-0.015181</td>\n",
       "      <td>-0.000197</td>\n",
       "      <td>0.126428</td>\n",
       "      <td>1.000000</td>\n",
       "      <td>-0.001456</td>\n",
       "      <td>-0.007281</td>\n",
       "    </tr>\n",
       "    <tr>\n",
       "      <th>PatientId</th>\n",
       "      <td>0.007898</td>\n",
       "      <td>-0.002877</td>\n",
       "      <td>-0.006436</td>\n",
       "      <td>0.001608</td>\n",
       "      <td>0.011014</td>\n",
       "      <td>-0.009742</td>\n",
       "      <td>-0.001456</td>\n",
       "      <td>1.000000</td>\n",
       "      <td>-0.008657</td>\n",
       "    </tr>\n",
       "    <tr>\n",
       "      <th>Handcap_or_not</th>\n",
       "      <td>0.022421</td>\n",
       "      <td>-0.009104</td>\n",
       "      <td>0.084851</td>\n",
       "      <td>0.059144</td>\n",
       "      <td>0.003692</td>\n",
       "      <td>-0.025221</td>\n",
       "      <td>-0.007281</td>\n",
       "      <td>-0.008657</td>\n",
       "      <td>1.000000</td>\n",
       "    </tr>\n",
       "  </tbody>\n",
       "</table>\n",
       "</div>"
      ],
      "text/plain": [
       "                   Gender  Scholarship  Hipertension  Diabetes  Alcoholism  \\\n",
       "Gender           1.000000    -0.114296     -0.055722 -0.032556    0.106166   \n",
       "Scholarship     -0.114296     1.000000     -0.019730 -0.024894    0.035022   \n",
       "Hipertension    -0.055722    -0.019730      1.000000  0.433085    0.087970   \n",
       "Diabetes        -0.032556    -0.024894      0.433085  1.000000    0.018473   \n",
       "Alcoholism       0.106166     0.035022      0.087970  0.018473    1.000000   \n",
       "SMS_received    -0.046302     0.001192     -0.006270 -0.014552   -0.026149   \n",
       "No-show-indexed -0.004122     0.029134     -0.035704 -0.015181   -0.000197   \n",
       "PatientId        0.007898    -0.002877     -0.006436  0.001608    0.011014   \n",
       "Handcap_or_not   0.022421    -0.009104      0.084851  0.059144    0.003692   \n",
       "\n",
       "                 SMS_received  No-show-indexed  PatientId  Handcap_or_not  \n",
       "Gender              -0.046302        -0.004122   0.007898        0.022421  \n",
       "Scholarship          0.001192         0.029134  -0.002877       -0.009104  \n",
       "Hipertension        -0.006270        -0.035704  -0.006436        0.084851  \n",
       "Diabetes            -0.014552        -0.015181   0.001608        0.059144  \n",
       "Alcoholism          -0.026149        -0.000197   0.011014        0.003692  \n",
       "SMS_received         1.000000         0.126428  -0.009742       -0.025221  \n",
       "No-show-indexed      0.126428         1.000000  -0.001456       -0.007281  \n",
       "PatientId           -0.009742        -0.001456   1.000000       -0.008657  \n",
       "Handcap_or_not      -0.025221        -0.007281  -0.008657        1.000000  "
      ]
     },
     "execution_count": 499,
     "metadata": {},
     "output_type": "execute_result"
    }
   ],
   "source": [
    "cols.extend([\"No-show-indexed\"])\n",
    "subdf = record[cols].copy()\n",
    "subdf.loc[:, \"Gender\"].replace({\"F\":0, \"M\":1}, inplace=True)\n",
    "subdf.loc[:, \"Handcap_or_not\"] = subdf.loc[:, \"Handcap\"].replace({2:1, 3:1, 4:1})\n",
    "subdf.drop(columns=[\"Handcap\"], inplace=True)\n",
    "subdf.corr()"
   ]
  },
  {
   "cell_type": "code",
   "execution_count": 500,
   "metadata": {},
   "outputs": [
    {
     "data": {
      "text/plain": [
       "<matplotlib.image.AxesImage at 0x1a297e1e48>"
      ]
     },
     "execution_count": 500,
     "metadata": {},
     "output_type": "execute_result"
    },
    {
     "data": {
      "image/png": "[encoded data removed]",
      "text/plain": [
       "<matplotlib.figure.Figure at 0x1a29257e80>"
      ]
     },
     "metadata": {},
     "output_type": "display_data"
    }
   ],
   "source": [
    "plt.matshow(subdf.corr())"
   ]
  },
  {
   "cell_type": "code",
   "execution_count": 285,
   "metadata": {},
   "outputs": [
    {
     "data": {
      "text/plain": [
       "array([[1.        , 0.43308503],\n",
       "       [0.43308503, 1.        ]])"
      ]
     },
     "execution_count": 285,
     "metadata": {},
     "output_type": "execute_result"
    }
   ],
   "source": [
    "np.corrcoef(record[\"Diabetes\"].tolist(), record[\"Hipertension\"].tolist())"
   ]
  },
  {
   "cell_type": "markdown",
   "metadata": {},
   "source": [
    "The correlation coefficient for Hipertension and Diabetes is 0.42, and is much higher than the correlation for any other pairs of variables. To further demonstrate this, I created a mosaic plot."
   ]
  },
  {
   "cell_type": "code",
   "execution_count": 288,
   "metadata": {},
   "outputs": [
    {
     "data": {
      "text/plain": [
       "(<matplotlib.figure.Figure at 0x1a25681f28>,\n",
       " OrderedDict([(('No', 'Yes'),\n",
       "               (0.0, 0.0, 0.9235169717163418, 0.1487977501274958)),\n",
       "              (('No', 'No'),\n",
       "               (0.0,\n",
       "                0.15212000926370842,\n",
       "                0.9235169717163418,\n",
       "                0.8478799907362915)),\n",
       "              (('Yes', 'Yes'),\n",
       "               (0.9284920960944514,\n",
       "                0.0,\n",
       "                0.07150790390554877,\n",
       "                0.8138551966816724)),\n",
       "              (('Yes', 'No'),\n",
       "               (0.9284920960944514,\n",
       "                0.817177455817885,\n",
       "                0.07150790390554877,\n",
       "                0.18282254418211488))]))"
      ]
     },
     "execution_count": 288,
     "metadata": {},
     "output_type": "execute_result"
    },
    {
     "data": {
      "image/png": "[encoded data removed]",
      "text/plain": [
       "<matplotlib.figure.Figure at 0x1a25681f28>"
      ]
     },
     "metadata": {},
     "output_type": "display_data"
    }
   ],
   "source": [
    "observe_corr = pd.DataFrame(record[[\"Diabetes\", \"Hipertension\"]]).copy()\n",
    "observe_corr[\"Diabetes\"].replace({0: \"No\", 1:\"Yes\"}, inplace=True)\n",
    "observe_corr[\"Hipertension\"].replace({0:\"No\", 1:\"Yes\"}, inplace=True)\n",
    "mosaic(observe_corr, [\"Diabetes\", \"Hipertension\"], title=\"Mosaic Plot for Diabetes and Hipertension\")"
   ]
  },
  {
   "cell_type": "markdown",
   "metadata": {},
   "source": [
    "The mosaic plot shows a big difference on the possibiity of Hipertension is Yes given diabete is No, and the possibilty of Hipertension is Yes given diabete is yes, which means Hipertension and Diabete are not independent variables."
   ]
  },
  {
   "cell_type": "markdown",
   "metadata": {},
   "source": [
    "#### No-show vs Gender"
   ]
  },
  {
   "cell_type": "markdown",
   "metadata": {},
   "source": [
    "**Q3: Does gender affect no-show rate?**"
   ]
  },
  {
   "cell_type": "markdown",
   "metadata": {},
   "source": [
    "**Q4: From the result of no show rate vs gender, what can we conclude from other categorical data?**"
   ]
  },
  {
   "cell_type": "markdown",
   "metadata": {},
   "source": [
    "Since the correlation table above indicates a low correlation between gender and no-show rate. I guess that gender does not affect no-show rate. In the following code, I will show whether my assumption is correct or not."
   ]
  },
  {
   "cell_type": "code",
   "execution_count": 178,
   "metadata": {},
   "outputs": [
    {
     "data": {
      "text/plain": [
       "(<matplotlib.figure.Figure at 0x1a20509a20>,\n",
       " OrderedDict([(('F', 'No'),\n",
       "               (0.0, 0.0, 0.6467400615221849, 0.7942039459868248)),\n",
       "              (('F', 'Yes'),\n",
       "               (0.0,\n",
       "                0.7975262051230373,\n",
       "                0.6467400615221849,\n",
       "                0.20247379487696257)),\n",
       "              (('M', 'No'),\n",
       "               (0.6517151859002943,\n",
       "                0.0,\n",
       "                0.3482848140997058,\n",
       "                0.7976616489421403)),\n",
       "              (('M', 'Yes'),\n",
       "               (0.6517151859002943,\n",
       "                0.800983908078353,\n",
       "                0.3482848140997058,\n",
       "                0.199016091921647))]))"
      ]
     },
     "execution_count": 178,
     "metadata": {},
     "output_type": "execute_result"
    },
    {
     "data": {
      "image/png": "[encoded data removed]",
      "text/plain": [
       "<matplotlib.figure.Figure at 0x1a20509a20>"
      ]
     },
     "metadata": {},
     "output_type": "display_data"
    }
   ],
   "source": [
    "mosaic(record,[\"Gender\", \"No-show\"])"
   ]
  },
  {
   "cell_type": "code",
   "execution_count": 199,
   "metadata": {},
   "outputs": [
    {
     "data": {
      "text/html": [
       "<div>\n",
       "<style scoped>\n",
       "    .dataframe tbody tr th:only-of-type {\n",
       "        vertical-align: middle;\n",
       "    }\n",
       "\n",
       "    .dataframe tbody tr th {\n",
       "        vertical-align: top;\n",
       "    }\n",
       "\n",
       "    .dataframe thead th {\n",
       "        text-align: right;\n",
       "    }\n",
       "</style>\n",
       "<table border=\"1\" class=\"dataframe\">\n",
       "  <thead>\n",
       "    <tr style=\"text-align: right;\">\n",
       "      <th></th>\n",
       "      <th>No_Show</th>\n",
       "      <th>Show</th>\n",
       "      <th>No_Show_Rate</th>\n",
       "    </tr>\n",
       "  </thead>\n",
       "  <tbody>\n",
       "    <tr>\n",
       "      <th>F</th>\n",
       "      <td>14594</td>\n",
       "      <td>57245</td>\n",
       "      <td>0.203149</td>\n",
       "    </tr>\n",
       "    <tr>\n",
       "      <th>M</th>\n",
       "      <td>7725</td>\n",
       "      <td>30962</td>\n",
       "      <td>0.199679</td>\n",
       "    </tr>\n",
       "  </tbody>\n",
       "</table>\n",
       "</div>"
      ],
      "text/plain": [
       "   No_Show   Show  No_Show_Rate\n",
       "F    14594  57245      0.203149\n",
       "M     7725  30962      0.199679"
      ]
     },
     "execution_count": 199,
     "metadata": {},
     "output_type": "execute_result"
    }
   ],
   "source": [
    "no_show_dict = {}\n",
    "show_dict = {}\n",
    "no_show_dict[\"F\"] = len(record[(record[\"Gender\"] == \"F\") &(record[\"No-show\"]==\"Yes\")])\n",
    "no_show_dict[\"M\"] = len(record[(record[\"Gender\"] == \"M\") &(record[\"No-show\"]==\"Yes\")])\n",
    "show_dict[\"F\"] = len(record[(record[\"Gender\"] == \"F\") & (record[\"No-show\"]==\"No\")])\n",
    "show_dict[\"M\"] = len(record[(record[\"Gender\"] == \"M\") & (record[\"No-show\"]==\"No\")])\n",
    "\n",
    "df_gender_group = pd.DataFrame(data=[no_show_dict,show_dict]).T\n",
    "df_gender_group.rename(columns={0:'No_Show', 1:\"Show\"}, inplace=True)\n",
    "df_gender_group[\"No_Show_Rate\"] = df_gender_group[\"No_Show\"]/(df_gender_group[\"No_Show\"]+df_gender_group[\"Show\"])\n",
    "df_gender_group"
   ]
  },
  {
   "cell_type": "code",
   "execution_count": 215,
   "metadata": {},
   "outputs": [
    {
     "data": {
      "text/plain": [
       "<matplotlib.legend.Legend at 0x1a24ca7c18>"
      ]
     },
     "execution_count": 215,
     "metadata": {},
     "output_type": "execute_result"
    },
    {
     "data": {
      "image/png": "[encoded data removed]",
      "text/plain": [
       "<matplotlib.figure.Figure at 0x1a24ca7a58>"
      ]
     },
     "metadata": {},
     "output_type": "display_data"
    }
   ],
   "source": [
    "p1 = plt.bar(np.arange(2), df_gender_group[\"No_Show\"])\n",
    "p2 = plt.bar(np.arange(2), df_gender_group[\"Show\"], bottom=df_gender_group[\"No_Show\"])\n",
    "\n",
    "plt.title('No Show Rate by Gender Group')\n",
    "plt.ylabel('Number of Patients')\n",
    "plt.xticks(np.arange(2), (\"Female\", \"Male\"))\n",
    "plt.legend((p1[0], p2[0]), ('No Show', 'Showed'))"
   ]
  },
  {
   "cell_type": "markdown",
   "metadata": {},
   "source": [
    "**Conclusion to Q3 and Q4**"
   ]
  },
  {
   "cell_type": "markdown",
   "metadata": {},
   "source": [
    "From both the table and the mosaic plot, it seems no show rate is gender independent, which means, no matter you are female or male, the difference of no show rate is insignificant, this matches what is given from the correlation table. Therefore, we can safely guess that Hipertension, Diabetes, Alcoholism and Handcap are slightly negatively correlated to no-show. However, the correlation is small. We would expect to see patients with hipertension, diabetes, alcoholism or handcap show up at their appointment a bit more frequent than those who don't have the diseases, but the difference won't be significant.\n",
    "\n",
    "On the other hand, Scholarship and SMS received are positively correlated to no-show. If one receives a scholarship or receives an SMS message, the patient is less likely to show up to their appointment. The SMS_received shows a slightly higher correlation than other explanatory variables. This contradicts to my instinct, so I will explore this further."
   ]
  },
  {
   "cell_type": "markdown",
   "metadata": {},
   "source": [
    "**Q: What is the relationship between SMS_received and No-show?**"
   ]
  },
  {
   "cell_type": "code",
   "execution_count": 459,
   "metadata": {},
   "outputs": [
    {
     "data": {
      "text/plain": [
       "(<matplotlib.figure.Figure at 0x1a293af240>,\n",
       " OrderedDict([(('0', 'No'),\n",
       "               (0.0, 0.0, 0.6755934962467578, 0.8301973362781099)),\n",
       "              (('0', 'Yes'),\n",
       "               (0.0,\n",
       "                0.8335195954143224,\n",
       "                0.6755934962467578,\n",
       "                0.16648040458567742)),\n",
       "              (('1', 'No'),\n",
       "               (0.6805686206248673,\n",
       "                0.0,\n",
       "                0.31943137937513283,\n",
       "                0.7218483903026213)),\n",
       "              (('1', 'Yes'),\n",
       "               (0.6805686206248673,\n",
       "                0.7251706494388338,\n",
       "                0.31943137937513283,\n",
       "                0.27482935056116603))]))"
      ]
     },
     "execution_count": 459,
     "metadata": {},
     "output_type": "execute_result"
    },
    {
     "data": {
      "image/png": "[encoded data removed]",
      "text/plain": [
       "<matplotlib.figure.Figure at 0x1a293af240>"
      ]
     },
     "metadata": {},
     "output_type": "display_data"
    }
   ],
   "source": [
    "mosaic(record,[\"SMS_received\", \"No-show\"])"
   ]
  },
  {
   "cell_type": "markdown",
   "metadata": {},
   "source": [
    "The mosaic plot tells the same thing as we found from the correlation table. It could be the case that there are too few people received the message, so that the no-show rate for people received SMS has a big margin of error."
   ]
  },
  {
   "cell_type": "code",
   "execution_count": 479,
   "metadata": {
    "scrolled": false
   },
   "outputs": [
    {
     "data": {
      "text/html": [
       "<div>\n",
       "<style scoped>\n",
       "    .dataframe tbody tr th:only-of-type {\n",
       "        vertical-align: middle;\n",
       "    }\n",
       "\n",
       "    .dataframe tbody tr th {\n",
       "        vertical-align: top;\n",
       "    }\n",
       "\n",
       "    .dataframe thead th {\n",
       "        text-align: right;\n",
       "    }\n",
       "</style>\n",
       "<table border=\"1\" class=\"dataframe\">\n",
       "  <thead>\n",
       "    <tr style=\"text-align: right;\">\n",
       "      <th></th>\n",
       "      <th>SMS_received</th>\n",
       "      <th>No-show</th>\n",
       "      <th>show</th>\n",
       "      <th>No-show-rate</th>\n",
       "      <th>Total-people</th>\n",
       "    </tr>\n",
       "  </thead>\n",
       "  <tbody>\n",
       "    <tr>\n",
       "      <th>0</th>\n",
       "      <td>0</td>\n",
       "      <td>12535</td>\n",
       "      <td>62509</td>\n",
       "      <td>0.167035</td>\n",
       "      <td>75044</td>\n",
       "    </tr>\n",
       "    <tr>\n",
       "      <th>1</th>\n",
       "      <td>1</td>\n",
       "      <td>9784</td>\n",
       "      <td>25698</td>\n",
       "      <td>0.275745</td>\n",
       "      <td>35482</td>\n",
       "    </tr>\n",
       "  </tbody>\n",
       "</table>\n",
       "</div>"
      ],
      "text/plain": [
       "   SMS_received  No-show   show  No-show-rate  Total-people\n",
       "0             0    12535  62509      0.167035         75044\n",
       "1             1     9784  25698      0.275745         35482"
      ]
     },
     "execution_count": 479,
     "metadata": {},
     "output_type": "execute_result"
    }
   ],
   "source": [
    "sms_no_show =record[[\"SMS_received\",\"No-show\"]].copy()\n",
    "sms_no_show.loc[:,\"show\"] = sms_no_show[\"No-show\"]\n",
    "sms_no_show.loc[:,\"show\"].replace({\"Yes\": 0, \"No\":1}, inplace=True)\n",
    "sms_no_show.loc[:,\"No-show\"].replace({\"Yes\": 1, \"No\":0}, inplace=True)\n",
    "sms= sms_no_show.groupby(sms_no_show[\"SMS_received\"]).sum()[[\"No-show\", \"show\"]]\n",
    "sms.reset_index(inplace=True)\n",
    "sms[\"No-show-rate\"] = sms[\"No-show\"] /(sms[\"No-show\"] + sms[\"show\"])\n",
    "sms[\"Total-people\"] = sms[\"No-show\"] + sms[\"show\"]\n",
    "sms"
   ]
  },
  {
   "cell_type": "markdown",
   "metadata": {},
   "source": [
    "Since the sample size is large, we would expect a small range for 95% confidence intervals"
   ]
  },
  {
   "cell_type": "markdown",
   "metadata": {},
   "source": [
    "**What is the confidence interval for no show rate given SMS-received or not received?**"
   ]
  },
  {
   "cell_type": "code",
   "execution_count": 490,
   "metadata": {},
   "outputs": [
    {
     "name": "stdout",
     "output_type": "stream",
     "text": [
      "The upper bound for SMS not received is 0.1641 The lower bound for SMS not receive is 0.17\n"
     ]
    }
   ],
   "source": [
    "no_sms = poisson.interval(alpha=0.95, mu=sms.loc[0,\"No-show\"])/sms.loc[0, \"Total-people\"]\n",
    "print (\"The upper bound for SMS not received is\", str(no_sms[0].round(4)),\n",
    "      \"The lower bound for SMS not receive is\", str(no_sms[1].round(4)))"
   ]
  },
  {
   "cell_type": "code",
   "execution_count": 491,
   "metadata": {},
   "outputs": [
    {
     "name": "stdout",
     "output_type": "stream",
     "text": [
      "The upper bound for SMS received is 0.2703 The lower bound for SMS receive is 0.2812\n"
     ]
    }
   ],
   "source": [
    "yes_sms = poisson.interval(alpha=0.95, mu=sms.loc[1,\"No-show\"])/sms.loc[1, \"Total-people\"]\n",
    "print (\"The upper bound for SMS received is\", str(yes_sms[0].round(4)),\n",
    "      \"The lower bound for SMS receive is\", str(yes_sms[1].round(4)))"
   ]
  },
  {
   "cell_type": "markdown",
   "metadata": {},
   "source": [
    "**Q4:How is no-show rate distributed from city to city?**"
   ]
  },
  {
   "cell_type": "markdown",
   "metadata": {},
   "source": [
    "Now, let's create a heatmap for neighbourhood distribution"
   ]
  },
  {
   "cell_type": "code",
   "execution_count": 396,
   "metadata": {},
   "outputs": [
    {
     "data": {
      "text/plain": [
       "<matplotlib.axes._subplots.AxesSubplot at 0x1a29937668>"
      ]
     },
     "execution_count": 396,
     "metadata": {},
     "output_type": "execute_result"
    },
    {
     "data": {
      "image/png": "[encoded data removed]",
      "text/plain": [
       "<matplotlib.figure.Figure at 0x1a299370f0>"
      ]
     },
     "metadata": {},
     "output_type": "display_data"
    }
   ],
   "source": [
    "neighbour_no_show =record[[\"Neighbourhood\",\"No-show\"]].copy()\n",
    "neighbour_no_show.loc[:,\"show\"] = neighbour_no_show[\"No-show\"]\n",
    "neighbour_no_show.loc[:,\"show\"].replace({\"Yes\": 0, \"No\":1}, inplace=True)\n",
    "neighbour_no_show.loc[:,\"No-show\"].replace({\"Yes\": 1, \"No\":0}, inplace=True)\n",
    "new_df = neighbour_no_show.groupby(neighbour_no_show[\"Neighbourhood\"]).sum()\n",
    "new_df.loc[:,\"total-people\"] = new_df[\"No-show\"]+new_df[\"show\"]\n",
    "new_df.loc[:,\"No-show-rate\"] = new_df[\"No-show\"]/new_df.loc[:,\"total-people\"]\n",
    "heatmap(pd.DataFrame(new_df[\"No-show-rate\"]), cmap=\"YlGnBu\")"
   ]
  },
  {
   "cell_type": "markdown",
   "metadata": {},
   "source": [
    "According tbo the heatmap, most of the areas have number of people did not show up between 0-250. However, A few areas clearly have higher no-show rate. Let's take a closer look."
   ]
  },
  {
   "cell_type": "code",
   "execution_count": 397,
   "metadata": {},
   "outputs": [],
   "source": [
    "new_df.reset_index(inplace=True)"
   ]
  },
  {
   "cell_type": "code",
   "execution_count": 398,
   "metadata": {},
   "outputs": [
    {
     "data": {
      "text/plain": [
       "count    81.000000\n",
       "mean      0.205428\n",
       "std       0.097230\n",
       "min       0.000000\n",
       "25%       0.179907\n",
       "50%       0.197588\n",
       "75%       0.217454\n",
       "max       1.000000\n",
       "Name: No-show-rate, dtype: float64"
      ]
     },
     "execution_count": 398,
     "metadata": {},
     "output_type": "execute_result"
    }
   ],
   "source": [
    "summary_new_df = new_df[\"No-show-rate\"].describe()\n",
    "summary_new_df"
   ]
  },
  {
   "cell_type": "code",
   "execution_count": 399,
   "metadata": {},
   "outputs": [
    {
     "data": {
      "text/plain": [
       "{'boxes': [<matplotlib.lines.Line2D at 0x1a255a8630>],\n",
       " 'caps': [<matplotlib.lines.Line2D at 0x1a2ee91080>,\n",
       "  <matplotlib.lines.Line2D at 0x1a2ee75c88>],\n",
       " 'fliers': [<matplotlib.lines.Line2D at 0x1a286246a0>],\n",
       " 'means': [],\n",
       " 'medians': [<matplotlib.lines.Line2D at 0x1a28d797b8>],\n",
       " 'whiskers': [<matplotlib.lines.Line2D at 0x1a255a8860>,\n",
       "  <matplotlib.lines.Line2D at 0x1a29d318d0>]}"
      ]
     },
     "execution_count": 399,
     "metadata": {},
     "output_type": "execute_result"
    },
    {
     "data": {
      "image/png": "[encoded data removed]",
      "text/plain": [
       "<matplotlib.figure.Figure at 0x1a29049438>"
      ]
     },
     "metadata": {},
     "output_type": "display_data"
    }
   ],
   "source": [
    "plt.boxplot(new_df[\"No-show-rate\"])"
   ]
  },
  {
   "cell_type": "code",
   "execution_count": 455,
   "metadata": {},
   "outputs": [
    {
     "data": {
      "text/html": [
       "<div>\n",
       "<style scoped>\n",
       "    .dataframe tbody tr th:only-of-type {\n",
       "        vertical-align: middle;\n",
       "    }\n",
       "\n",
       "    .dataframe tbody tr th {\n",
       "        vertical-align: top;\n",
       "    }\n",
       "\n",
       "    .dataframe thead th {\n",
       "        text-align: right;\n",
       "    }\n",
       "</style>\n",
       "<table border=\"1\" class=\"dataframe\">\n",
       "  <thead>\n",
       "    <tr style=\"text-align: right;\">\n",
       "      <th></th>\n",
       "      <th>Neighbourhood</th>\n",
       "      <th>No-show</th>\n",
       "      <th>show</th>\n",
       "      <th>total-people</th>\n",
       "      <th>No-show-rate</th>\n",
       "    </tr>\n",
       "  </thead>\n",
       "  <tbody>\n",
       "    <tr>\n",
       "      <th>34</th>\n",
       "      <td>ILHAS OCEÂNICAS DE TRINDADE</td>\n",
       "      <td>2</td>\n",
       "      <td>0</td>\n",
       "      <td>2</td>\n",
       "      <td>1.000000</td>\n",
       "    </tr>\n",
       "    <tr>\n",
       "      <th>61</th>\n",
       "      <td>SANTA CECÍLIA</td>\n",
       "      <td>123</td>\n",
       "      <td>325</td>\n",
       "      <td>448</td>\n",
       "      <td>0.274554</td>\n",
       "    </tr>\n",
       "    <tr>\n",
       "      <th>70</th>\n",
       "      <td>SANTOS DUMONT</td>\n",
       "      <td>369</td>\n",
       "      <td>907</td>\n",
       "      <td>1276</td>\n",
       "      <td>0.289185</td>\n",
       "    </tr>\n",
       "  </tbody>\n",
       "</table>\n",
       "</div>"
      ],
      "text/plain": [
       "                  Neighbourhood  No-show  show  total-people  No-show-rate\n",
       "34  ILHAS OCEÂNICAS DE TRINDADE        2     0             2      1.000000\n",
       "61                SANTA CECÍLIA      123   325           448      0.274554\n",
       "70                SANTOS DUMONT      369   907          1276      0.289185"
      ]
     },
     "execution_count": 455,
     "metadata": {},
     "output_type": "execute_result"
    }
   ],
   "source": [
    "upper_bound = summary_new_df[\"75%\"] + 1.5*(summary_new_df[\"75%\"]-summary_new_df[\"25%\"] )\n",
    "upper_bound\n",
    "new_df[new_df[\"No-show-rate\"] > upper_bound]"
   ]
  },
  {
   "cell_type": "markdown",
   "metadata": {},
   "source": [
    "The upper \"whisker\" for the box plot is at 0.27, and the neighbourhood with highest no-show rate is ILHAS OCEÂNICAS DE TRINDADE, however, it has a low study population with total record of 2. We would expect the error for this entry is bigger than the cities with higher study population. Hence, I decided to make a barplot with no-show-rate and 95% confidence interval as error bars."
   ]
  },
  {
   "cell_type": "code",
   "execution_count": 456,
   "metadata": {},
   "outputs": [
    {
     "data": {
      "text/html": [
       "<div>\n",
       "<style scoped>\n",
       "    .dataframe tbody tr th:only-of-type {\n",
       "        vertical-align: middle;\n",
       "    }\n",
       "\n",
       "    .dataframe tbody tr th {\n",
       "        vertical-align: top;\n",
       "    }\n",
       "\n",
       "    .dataframe thead th {\n",
       "        text-align: right;\n",
       "    }\n",
       "</style>\n",
       "<table border=\"1\" class=\"dataframe\">\n",
       "  <thead>\n",
       "    <tr style=\"text-align: right;\">\n",
       "      <th></th>\n",
       "      <th>Neighbourhood</th>\n",
       "      <th>No-show-rate</th>\n",
       "      <th>No-show</th>\n",
       "      <th>total-people</th>\n",
       "    </tr>\n",
       "  </thead>\n",
       "  <tbody>\n",
       "    <tr>\n",
       "      <th>34</th>\n",
       "      <td>ILHAS OCEÂNICAS DE TRINDADE</td>\n",
       "      <td>1.000000</td>\n",
       "      <td>2</td>\n",
       "      <td>2</td>\n",
       "    </tr>\n",
       "    <tr>\n",
       "      <th>70</th>\n",
       "      <td>SANTOS DUMONT</td>\n",
       "      <td>0.289185</td>\n",
       "      <td>369</td>\n",
       "      <td>1276</td>\n",
       "    </tr>\n",
       "    <tr>\n",
       "      <th>61</th>\n",
       "      <td>SANTA CECÍLIA</td>\n",
       "      <td>0.274554</td>\n",
       "      <td>123</td>\n",
       "      <td>448</td>\n",
       "    </tr>\n",
       "    <tr>\n",
       "      <th>62</th>\n",
       "      <td>SANTA CLARA</td>\n",
       "      <td>0.264822</td>\n",
       "      <td>134</td>\n",
       "      <td>506</td>\n",
       "    </tr>\n",
       "    <tr>\n",
       "      <th>36</th>\n",
       "      <td>ITARARÉ</td>\n",
       "      <td>0.262664</td>\n",
       "      <td>923</td>\n",
       "      <td>3514</td>\n",
       "    </tr>\n",
       "    <tr>\n",
       "      <th>40</th>\n",
       "      <td>JESUS DE NAZARETH</td>\n",
       "      <td>0.243954</td>\n",
       "      <td>696</td>\n",
       "      <td>2853</td>\n",
       "    </tr>\n",
       "    <tr>\n",
       "      <th>28</th>\n",
       "      <td>HORTO</td>\n",
       "      <td>0.240000</td>\n",
       "      <td>42</td>\n",
       "      <td>175</td>\n",
       "    </tr>\n",
       "    <tr>\n",
       "      <th>33</th>\n",
       "      <td>ILHA DO PRÍNCIPE</td>\n",
       "      <td>0.234775</td>\n",
       "      <td>532</td>\n",
       "      <td>2266</td>\n",
       "    </tr>\n",
       "    <tr>\n",
       "      <th>9</th>\n",
       "      <td>CARATOÍRA</td>\n",
       "      <td>0.230409</td>\n",
       "      <td>591</td>\n",
       "      <td>2565</td>\n",
       "    </tr>\n",
       "    <tr>\n",
       "      <th>1</th>\n",
       "      <td>ANDORINHAS</td>\n",
       "      <td>0.230327</td>\n",
       "      <td>521</td>\n",
       "      <td>2262</td>\n",
       "    </tr>\n",
       "  </tbody>\n",
       "</table>\n",
       "</div>"
      ],
      "text/plain": [
       "                  Neighbourhood  No-show-rate  No-show  total-people\n",
       "34  ILHAS OCEÂNICAS DE TRINDADE      1.000000        2             2\n",
       "70                SANTOS DUMONT      0.289185      369          1276\n",
       "61                SANTA CECÍLIA      0.274554      123           448\n",
       "62                  SANTA CLARA      0.264822      134           506\n",
       "36                      ITARARÉ      0.262664      923          3514\n",
       "40            JESUS DE NAZARETH      0.243954      696          2853\n",
       "28                        HORTO      0.240000       42           175\n",
       "33             ILHA DO PRÍNCIPE      0.234775      532          2266\n",
       "9                     CARATOÍRA      0.230409      591          2565\n",
       "1                    ANDORINHAS      0.230327      521          2262"
      ]
     },
     "execution_count": 456,
     "metadata": {},
     "output_type": "execute_result"
    }
   ],
   "source": [
    "ten_highest_no_show = new_df[new_df[\"No-show-rate\"] > summary_new_df[\"75%\"]][[\"Neighbourhood\", \"No-show-rate\", \"No-show\", \"total-people\"]].sort_values(by=\"No-show-rate\", ascending=False)[:10]\n",
    "ten_highest_no_show"
   ]
  },
  {
   "cell_type": "code",
   "execution_count": 457,
   "metadata": {},
   "outputs": [
    {
     "data": {
      "text/html": [
       "<div>\n",
       "<style scoped>\n",
       "    .dataframe tbody tr th:only-of-type {\n",
       "        vertical-align: middle;\n",
       "    }\n",
       "\n",
       "    .dataframe tbody tr th {\n",
       "        vertical-align: top;\n",
       "    }\n",
       "\n",
       "    .dataframe thead th {\n",
       "        text-align: right;\n",
       "    }\n",
       "</style>\n",
       "<table border=\"1\" class=\"dataframe\">\n",
       "  <thead>\n",
       "    <tr style=\"text-align: right;\">\n",
       "      <th></th>\n",
       "      <th>Neighbourhood</th>\n",
       "      <th>No-show-rate</th>\n",
       "      <th>No-show</th>\n",
       "      <th>total-people</th>\n",
       "      <th>Lower</th>\n",
       "      <th>Upper</th>\n",
       "    </tr>\n",
       "  </thead>\n",
       "  <tbody>\n",
       "    <tr>\n",
       "      <th>34</th>\n",
       "      <td>ILHAS OCEÂNICAS DE TRINDADE</td>\n",
       "      <td>1.000000</td>\n",
       "      <td>2</td>\n",
       "      <td>2</td>\n",
       "      <td>0.000000</td>\n",
       "      <td>2.500000</td>\n",
       "    </tr>\n",
       "    <tr>\n",
       "      <th>70</th>\n",
       "      <td>SANTOS DUMONT</td>\n",
       "      <td>0.289185</td>\n",
       "      <td>369</td>\n",
       "      <td>1276</td>\n",
       "      <td>0.260188</td>\n",
       "      <td>0.318966</td>\n",
       "    </tr>\n",
       "    <tr>\n",
       "      <th>61</th>\n",
       "      <td>SANTA CECÍLIA</td>\n",
       "      <td>0.274554</td>\n",
       "      <td>123</td>\n",
       "      <td>448</td>\n",
       "      <td>0.227679</td>\n",
       "      <td>0.323661</td>\n",
       "    </tr>\n",
       "    <tr>\n",
       "      <th>62</th>\n",
       "      <td>SANTA CLARA</td>\n",
       "      <td>0.264822</td>\n",
       "      <td>134</td>\n",
       "      <td>506</td>\n",
       "      <td>0.221344</td>\n",
       "      <td>0.310277</td>\n",
       "    </tr>\n",
       "    <tr>\n",
       "      <th>36</th>\n",
       "      <td>ITARARÉ</td>\n",
       "      <td>0.262664</td>\n",
       "      <td>923</td>\n",
       "      <td>3514</td>\n",
       "      <td>0.245874</td>\n",
       "      <td>0.279738</td>\n",
       "    </tr>\n",
       "    <tr>\n",
       "      <th>40</th>\n",
       "      <td>JESUS DE NAZARETH</td>\n",
       "      <td>0.243954</td>\n",
       "      <td>696</td>\n",
       "      <td>2853</td>\n",
       "      <td>0.226078</td>\n",
       "      <td>0.262180</td>\n",
       "    </tr>\n",
       "    <tr>\n",
       "      <th>28</th>\n",
       "      <td>HORTO</td>\n",
       "      <td>0.240000</td>\n",
       "      <td>42</td>\n",
       "      <td>175</td>\n",
       "      <td>0.171429</td>\n",
       "      <td>0.314286</td>\n",
       "    </tr>\n",
       "    <tr>\n",
       "      <th>33</th>\n",
       "      <td>ILHA DO PRÍNCIPE</td>\n",
       "      <td>0.234775</td>\n",
       "      <td>532</td>\n",
       "      <td>2266</td>\n",
       "      <td>0.214916</td>\n",
       "      <td>0.255075</td>\n",
       "    </tr>\n",
       "    <tr>\n",
       "      <th>9</th>\n",
       "      <td>CARATOÍRA</td>\n",
       "      <td>0.230409</td>\n",
       "      <td>591</td>\n",
       "      <td>2565</td>\n",
       "      <td>0.212086</td>\n",
       "      <td>0.249123</td>\n",
       "    </tr>\n",
       "    <tr>\n",
       "      <th>1</th>\n",
       "      <td>ANDORINHAS</td>\n",
       "      <td>0.230327</td>\n",
       "      <td>521</td>\n",
       "      <td>2262</td>\n",
       "      <td>0.210875</td>\n",
       "      <td>0.250221</td>\n",
       "    </tr>\n",
       "  </tbody>\n",
       "</table>\n",
       "</div>"
      ],
      "text/plain": [
       "                  Neighbourhood  No-show-rate  No-show  total-people  \\\n",
       "34  ILHAS OCEÂNICAS DE TRINDADE      1.000000        2             2   \n",
       "70                SANTOS DUMONT      0.289185      369          1276   \n",
       "61                SANTA CECÍLIA      0.274554      123           448   \n",
       "62                  SANTA CLARA      0.264822      134           506   \n",
       "36                      ITARARÉ      0.262664      923          3514   \n",
       "40            JESUS DE NAZARETH      0.243954      696          2853   \n",
       "28                        HORTO      0.240000       42           175   \n",
       "33             ILHA DO PRÍNCIPE      0.234775      532          2266   \n",
       "9                     CARATOÍRA      0.230409      591          2565   \n",
       "1                    ANDORINHAS      0.230327      521          2262   \n",
       "\n",
       "       Lower     Upper  \n",
       "34  0.000000  2.500000  \n",
       "70  0.260188  0.318966  \n",
       "61  0.227679  0.323661  \n",
       "62  0.221344  0.310277  \n",
       "36  0.245874  0.279738  \n",
       "40  0.226078  0.262180  \n",
       "28  0.171429  0.314286  \n",
       "33  0.214916  0.255075  \n",
       "9   0.212086  0.249123  \n",
       "1   0.210875  0.250221  "
      ]
     },
     "execution_count": 457,
     "metadata": {},
     "output_type": "execute_result"
    }
   ],
   "source": [
    "get_poisson = lambda x: poisson.interval(alpha=0.95, mu=x)\n",
    "vfunc = np.vectorize(get_poisson)\n",
    "ten_highest_no_show[\"Lower\"] = vfunc(ten_highest_no_show[\"No-show\"].tolist())[0]/ten_highest_no_show[\"total-people\"]\n",
    "ten_highest_no_show[\"Upper\"] = vfunc(ten_highest_no_show[\"No-show\"].tolist())[1]/ten_highest_no_show[\"total-people\"]\n",
    "ten_highest_no_show"
   ]
  },
  {
   "cell_type": "code",
   "execution_count": 458,
   "metadata": {},
   "outputs": [
    {
     "data": {
      "text/plain": [
       "Text(0.5,1,'The highest 10 No Show Rate')"
      ]
     },
     "execution_count": 458,
     "metadata": {},
     "output_type": "execute_result"
    },
    {
     "data": {
      "image/png": "[encoded data removed]",
      "text/plain": [
       "<matplotlib.figure.Figure at 0x1a29441550>"
      ]
     },
     "metadata": {},
     "output_type": "display_data"
    }
   ],
   "source": [
    "fig, ax = plt.subplots()\n",
    "error = [ ten_highest_no_show[\"Lower\"], ten_highest_no_show[\"Upper\"],]\n",
    "y_pos = np.arange(len(ten_highest_no_show))\n",
    "ax.barh(y_pos, ten_highest_no_show[\"No-show-rate\"], xerr=error,\n",
    "        color='steelblue')\n",
    "ax.set_yticks(y_pos)\n",
    "ax.set_yticklabels(ten_highest_no_show[\"Neighbourhood\"])\n",
    "ax.invert_yaxis()  # labels read top-to-bottom\n",
    "ax.set_xlabel('No Show Rate')\n",
    "ax.set_title('The highest 10 No Show Rate')"
   ]
  },
  {
   "cell_type": "markdown",
   "metadata": {},
   "source": [
    "# Patient ID"
   ]
  },
  {
   "cell_type": "code",
   "execution_count": null,
   "metadata": {},
   "outputs": [],
   "source": []
  }
 ],
 "metadata": {
  "kernelspec": {
   "display_name": "Python 3",
   "language": "python",
   "name": "python3"
  },
  "language_info": {
   "codemirror_mode": {
    "name": "ipython",
    "version": 3
   },
   "file_extension": ".py",
   "mimetype": "text/x-python",
   "name": "python",
   "nbconvert_exporter": "python",
   "pygments_lexer": "ipython3",
   "version": "3.6.4"
  }
 },
 "nbformat": 4,
 "nbformat_minor": 2
}
