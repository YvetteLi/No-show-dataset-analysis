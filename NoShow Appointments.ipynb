{
 "cells": [
  {
   "cell_type": "markdown",
   "metadata": {},
   "source": [
    "# **P2. Investigate a Dataset**"
   ]
  },
  {
   "cell_type": "markdown",
   "metadata": {},
   "source": [
    "# Chosen Dataset: No Show Appointments"
   ]
  },
  {
   "cell_type": "markdown",
   "metadata": {},
   "source": [
    "This dataset collects information from 100k medical appointments in Brazil and is focused on the question of whether or not patients show up for their appointment.    \n",
    "[Referece](https://www.kaggle.com/joniarroba/noshowappointments)"
   ]
  },
  {
   "cell_type": "markdown",
   "metadata": {},
   "source": [
    "# Data Dictionary\n",
    "PatientId - Identification of a patient    \n",
    "AppointmentID - Identification of each appointment    \n",
    "Gender = Male or Female   \n",
    "DataMarcacaoConsulta = The day of the actuall appointment, when they have to visit the doctor   \n",
    "DataAgendamento = The day someone called or registered the appointment, this is before appointment of course    \n",
    "Age = How old is the patient   \n",
    "Neighbourhood = Where the appointment takes place    \n",
    "Scholarship = Ture of False    \n",
    "Hipertension = True or False    \n",
    "Diabetes = True or False    \n",
    "Alcoholism = True or False    \n",
    "Handcap = True or False    \n",
    "SMS_received = 1 or more messages sent to the patient    \n",
    "No-show = True or False    \n",
    "[Reference](https://www.kaggle.com/joniarroba/noshowappointments)"
   ]
  },
  {
   "cell_type": "markdown",
   "metadata": {},
   "source": [
    "# Data Summary Initial Investigation"
   ]
  },
  {
   "cell_type": "markdown",
   "metadata": {},
   "source": [
    "## Load Data"
   ]
  },
  {
   "cell_type": "code",
   "execution_count": 132,
   "metadata": {},
   "outputs": [],
   "source": [
    "import pandas as pd\n",
    "import matplotlib.pyplot as plt\n",
    "import numpy as np\n",
    "from sklearn import datasets, linear_model\n",
    "import math\n",
    "from statsmodels.graphics.mosaicplot import mosaic\n",
    "from seaborn import heatmap\n",
    "from scipy.stats import poisson\n",
    "%matplotlib inline"
   ]
  },
  {
   "cell_type": "code",
   "execution_count": 133,
   "metadata": {},
   "outputs": [
    {
     "data": {
      "text/html": [
       "<div>\n",
       "<style scoped>\n",
       "    .dataframe tbody tr th:only-of-type {\n",
       "        vertical-align: middle;\n",
       "    }\n",
       "\n",
       "    .dataframe tbody tr th {\n",
       "        vertical-align: top;\n",
       "    }\n",
       "\n",
       "    .dataframe thead th {\n",
       "        text-align: right;\n",
       "    }\n",
       "</style>\n",
       "<table border=\"1\" class=\"dataframe\">\n",
       "  <thead>\n",
       "    <tr style=\"text-align: right;\">\n",
       "      <th></th>\n",
       "      <th>PatientId</th>\n",
       "      <th>AppointmentID</th>\n",
       "      <th>Gender</th>\n",
       "      <th>ScheduledDay</th>\n",
       "      <th>AppointmentDay</th>\n",
       "      <th>Age</th>\n",
       "      <th>Neighbourhood</th>\n",
       "      <th>Scholarship</th>\n",
       "      <th>Hipertension</th>\n",
       "      <th>Diabetes</th>\n",
       "      <th>Alcoholism</th>\n",
       "      <th>Handcap</th>\n",
       "      <th>SMS_received</th>\n",
       "      <th>No-show</th>\n",
       "    </tr>\n",
       "  </thead>\n",
       "  <tbody>\n",
       "    <tr>\n",
       "      <th>0</th>\n",
       "      <td>2.987250e+13</td>\n",
       "      <td>5642903</td>\n",
       "      <td>F</td>\n",
       "      <td>2016-04-29T18:38:08Z</td>\n",
       "      <td>2016-04-29T00:00:00Z</td>\n",
       "      <td>62</td>\n",
       "      <td>JARDIM DA PENHA</td>\n",
       "      <td>0</td>\n",
       "      <td>1</td>\n",
       "      <td>0</td>\n",
       "      <td>0</td>\n",
       "      <td>0</td>\n",
       "      <td>0</td>\n",
       "      <td>No</td>\n",
       "    </tr>\n",
       "    <tr>\n",
       "      <th>1</th>\n",
       "      <td>5.589978e+14</td>\n",
       "      <td>5642503</td>\n",
       "      <td>M</td>\n",
       "      <td>2016-04-29T16:08:27Z</td>\n",
       "      <td>2016-04-29T00:00:00Z</td>\n",
       "      <td>56</td>\n",
       "      <td>JARDIM DA PENHA</td>\n",
       "      <td>0</td>\n",
       "      <td>0</td>\n",
       "      <td>0</td>\n",
       "      <td>0</td>\n",
       "      <td>0</td>\n",
       "      <td>0</td>\n",
       "      <td>No</td>\n",
       "    </tr>\n",
       "    <tr>\n",
       "      <th>2</th>\n",
       "      <td>4.262962e+12</td>\n",
       "      <td>5642549</td>\n",
       "      <td>F</td>\n",
       "      <td>2016-04-29T16:19:04Z</td>\n",
       "      <td>2016-04-29T00:00:00Z</td>\n",
       "      <td>62</td>\n",
       "      <td>MATA DA PRAIA</td>\n",
       "      <td>0</td>\n",
       "      <td>0</td>\n",
       "      <td>0</td>\n",
       "      <td>0</td>\n",
       "      <td>0</td>\n",
       "      <td>0</td>\n",
       "      <td>No</td>\n",
       "    </tr>\n",
       "    <tr>\n",
       "      <th>3</th>\n",
       "      <td>8.679512e+11</td>\n",
       "      <td>5642828</td>\n",
       "      <td>F</td>\n",
       "      <td>2016-04-29T17:29:31Z</td>\n",
       "      <td>2016-04-29T00:00:00Z</td>\n",
       "      <td>8</td>\n",
       "      <td>PONTAL DE CAMBURI</td>\n",
       "      <td>0</td>\n",
       "      <td>0</td>\n",
       "      <td>0</td>\n",
       "      <td>0</td>\n",
       "      <td>0</td>\n",
       "      <td>0</td>\n",
       "      <td>No</td>\n",
       "    </tr>\n",
       "    <tr>\n",
       "      <th>4</th>\n",
       "      <td>8.841186e+12</td>\n",
       "      <td>5642494</td>\n",
       "      <td>F</td>\n",
       "      <td>2016-04-29T16:07:23Z</td>\n",
       "      <td>2016-04-29T00:00:00Z</td>\n",
       "      <td>56</td>\n",
       "      <td>JARDIM DA PENHA</td>\n",
       "      <td>0</td>\n",
       "      <td>1</td>\n",
       "      <td>1</td>\n",
       "      <td>0</td>\n",
       "      <td>0</td>\n",
       "      <td>0</td>\n",
       "      <td>No</td>\n",
       "    </tr>\n",
       "  </tbody>\n",
       "</table>\n",
       "</div>"
      ],
      "text/plain": [
       "      PatientId  AppointmentID Gender          ScheduledDay  \\\n",
       "0  2.987250e+13        5642903      F  2016-04-29T18:38:08Z   \n",
       "1  5.589978e+14        5642503      M  2016-04-29T16:08:27Z   \n",
       "2  4.262962e+12        5642549      F  2016-04-29T16:19:04Z   \n",
       "3  8.679512e+11        5642828      F  2016-04-29T17:29:31Z   \n",
       "4  8.841186e+12        5642494      F  2016-04-29T16:07:23Z   \n",
       "\n",
       "         AppointmentDay  Age      Neighbourhood  Scholarship  Hipertension  \\\n",
       "0  2016-04-29T00:00:00Z   62    JARDIM DA PENHA            0             1   \n",
       "1  2016-04-29T00:00:00Z   56    JARDIM DA PENHA            0             0   \n",
       "2  2016-04-29T00:00:00Z   62      MATA DA PRAIA            0             0   \n",
       "3  2016-04-29T00:00:00Z    8  PONTAL DE CAMBURI            0             0   \n",
       "4  2016-04-29T00:00:00Z   56    JARDIM DA PENHA            0             1   \n",
       "\n",
       "   Diabetes  Alcoholism  Handcap  SMS_received No-show  \n",
       "0         0           0        0             0      No  \n",
       "1         0           0        0             0      No  \n",
       "2         0           0        0             0      No  \n",
       "3         0           0        0             0      No  \n",
       "4         1           0        0             0      No  "
      ]
     },
     "execution_count": 133,
     "metadata": {},
     "output_type": "execute_result"
    }
   ],
   "source": [
    "file = \"noshowappointments-kagglev2-may-2016.csv\"\n",
    "\n",
    "record = pd.read_csv(file)\n",
    "record.head()"
   ]
  },
  {
   "cell_type": "code",
   "execution_count": 4,
   "metadata": {},
   "outputs": [
    {
     "data": {
      "text/html": [
       "<div>\n",
       "<style scoped>\n",
       "    .dataframe tbody tr th:only-of-type {\n",
       "        vertical-align: middle;\n",
       "    }\n",
       "\n",
       "    .dataframe tbody tr th {\n",
       "        vertical-align: top;\n",
       "    }\n",
       "\n",
       "    .dataframe thead th {\n",
       "        text-align: right;\n",
       "    }\n",
       "</style>\n",
       "<table border=\"1\" class=\"dataframe\">\n",
       "  <thead>\n",
       "    <tr style=\"text-align: right;\">\n",
       "      <th></th>\n",
       "      <th>PatientId</th>\n",
       "      <th>AppointmentID</th>\n",
       "      <th>Age</th>\n",
       "      <th>Scholarship</th>\n",
       "      <th>Hipertension</th>\n",
       "      <th>Diabetes</th>\n",
       "      <th>Alcoholism</th>\n",
       "      <th>Handcap</th>\n",
       "      <th>SMS_received</th>\n",
       "    </tr>\n",
       "  </thead>\n",
       "  <tbody>\n",
       "    <tr>\n",
       "      <th>count</th>\n",
       "      <td>1.105270e+05</td>\n",
       "      <td>1.105270e+05</td>\n",
       "      <td>110527.000000</td>\n",
       "      <td>110527.000000</td>\n",
       "      <td>110527.000000</td>\n",
       "      <td>110527.000000</td>\n",
       "      <td>110527.000000</td>\n",
       "      <td>110527.000000</td>\n",
       "      <td>110527.000000</td>\n",
       "    </tr>\n",
       "    <tr>\n",
       "      <th>mean</th>\n",
       "      <td>1.474963e+14</td>\n",
       "      <td>5.675305e+06</td>\n",
       "      <td>37.088874</td>\n",
       "      <td>0.098266</td>\n",
       "      <td>0.197246</td>\n",
       "      <td>0.071865</td>\n",
       "      <td>0.030400</td>\n",
       "      <td>0.022248</td>\n",
       "      <td>0.321026</td>\n",
       "    </tr>\n",
       "    <tr>\n",
       "      <th>std</th>\n",
       "      <td>2.560949e+14</td>\n",
       "      <td>7.129575e+04</td>\n",
       "      <td>23.110205</td>\n",
       "      <td>0.297675</td>\n",
       "      <td>0.397921</td>\n",
       "      <td>0.258265</td>\n",
       "      <td>0.171686</td>\n",
       "      <td>0.161543</td>\n",
       "      <td>0.466873</td>\n",
       "    </tr>\n",
       "    <tr>\n",
       "      <th>min</th>\n",
       "      <td>3.921784e+04</td>\n",
       "      <td>5.030230e+06</td>\n",
       "      <td>-1.000000</td>\n",
       "      <td>0.000000</td>\n",
       "      <td>0.000000</td>\n",
       "      <td>0.000000</td>\n",
       "      <td>0.000000</td>\n",
       "      <td>0.000000</td>\n",
       "      <td>0.000000</td>\n",
       "    </tr>\n",
       "    <tr>\n",
       "      <th>25%</th>\n",
       "      <td>4.172614e+12</td>\n",
       "      <td>5.640286e+06</td>\n",
       "      <td>18.000000</td>\n",
       "      <td>0.000000</td>\n",
       "      <td>0.000000</td>\n",
       "      <td>0.000000</td>\n",
       "      <td>0.000000</td>\n",
       "      <td>0.000000</td>\n",
       "      <td>0.000000</td>\n",
       "    </tr>\n",
       "    <tr>\n",
       "      <th>50%</th>\n",
       "      <td>3.173184e+13</td>\n",
       "      <td>5.680573e+06</td>\n",
       "      <td>37.000000</td>\n",
       "      <td>0.000000</td>\n",
       "      <td>0.000000</td>\n",
       "      <td>0.000000</td>\n",
       "      <td>0.000000</td>\n",
       "      <td>0.000000</td>\n",
       "      <td>0.000000</td>\n",
       "    </tr>\n",
       "    <tr>\n",
       "      <th>75%</th>\n",
       "      <td>9.439172e+13</td>\n",
       "      <td>5.725524e+06</td>\n",
       "      <td>55.000000</td>\n",
       "      <td>0.000000</td>\n",
       "      <td>0.000000</td>\n",
       "      <td>0.000000</td>\n",
       "      <td>0.000000</td>\n",
       "      <td>0.000000</td>\n",
       "      <td>1.000000</td>\n",
       "    </tr>\n",
       "    <tr>\n",
       "      <th>max</th>\n",
       "      <td>9.999816e+14</td>\n",
       "      <td>5.790484e+06</td>\n",
       "      <td>115.000000</td>\n",
       "      <td>1.000000</td>\n",
       "      <td>1.000000</td>\n",
       "      <td>1.000000</td>\n",
       "      <td>1.000000</td>\n",
       "      <td>4.000000</td>\n",
       "      <td>1.000000</td>\n",
       "    </tr>\n",
       "  </tbody>\n",
       "</table>\n",
       "</div>"
      ],
      "text/plain": [
       "          PatientId  AppointmentID            Age    Scholarship  \\\n",
       "count  1.105270e+05   1.105270e+05  110527.000000  110527.000000   \n",
       "mean   1.474963e+14   5.675305e+06      37.088874       0.098266   \n",
       "std    2.560949e+14   7.129575e+04      23.110205       0.297675   \n",
       "min    3.921784e+04   5.030230e+06      -1.000000       0.000000   \n",
       "25%    4.172614e+12   5.640286e+06      18.000000       0.000000   \n",
       "50%    3.173184e+13   5.680573e+06      37.000000       0.000000   \n",
       "75%    9.439172e+13   5.725524e+06      55.000000       0.000000   \n",
       "max    9.999816e+14   5.790484e+06     115.000000       1.000000   \n",
       "\n",
       "        Hipertension       Diabetes     Alcoholism        Handcap  \\\n",
       "count  110527.000000  110527.000000  110527.000000  110527.000000   \n",
       "mean        0.197246       0.071865       0.030400       0.022248   \n",
       "std         0.397921       0.258265       0.171686       0.161543   \n",
       "min         0.000000       0.000000       0.000000       0.000000   \n",
       "25%         0.000000       0.000000       0.000000       0.000000   \n",
       "50%         0.000000       0.000000       0.000000       0.000000   \n",
       "75%         0.000000       0.000000       0.000000       0.000000   \n",
       "max         1.000000       1.000000       1.000000       4.000000   \n",
       "\n",
       "        SMS_received  \n",
       "count  110527.000000  \n",
       "mean        0.321026  \n",
       "std         0.466873  \n",
       "min         0.000000  \n",
       "25%         0.000000  \n",
       "50%         0.000000  \n",
       "75%         1.000000  \n",
       "max         1.000000  "
      ]
     },
     "execution_count": 4,
     "metadata": {},
     "output_type": "execute_result"
    }
   ],
   "source": [
    "record.describe()"
   ]
  },
  {
   "cell_type": "markdown",
   "metadata": {},
   "source": [
    "## Initial Observation\n",
    "\n",
    "This dataset uses PatientId to identify each patient, and AppointmentID to identify each appointment. It can be predicted that the AppointmentID is unique. Other variables include categorical variables such as Gender, Neighbourhood, Scholarship, Hipertension, Diabetes, Alcoholism, Hand(i)cap, SMS_received, where Neighbourhood has more than 2 categories. Numerical variables include, ScheduledDay, AppointmentDay and Age, where ScheduleDay and AppointmentDay are time series data.\n",
    "\n",
    "Here is a list of assumptions I am making.\n",
    "1. ScheduledDay should alwasy be on the same day or before AppointmentDay.\n",
    "2. Age should always be larger or equal to 0.\n",
    "3. SMS_received can be both numerical or categorical, but I guessed the SMS sent will not by more than 3 from my life experience. The categorization strategy will be updated as more investigation has been implemented.\n",
    "4. Handcap is not binary which is different from the data dictionary. \n",
    "\n",
    "The assumptions will be checked before data analysis.\n",
    "\n",
    "---"
   ]
  },
  {
   "cell_type": "markdown",
   "metadata": {},
   "source": [
    "## NA value Investigation"
   ]
  },
  {
   "cell_type": "code",
   "execution_count": 5,
   "metadata": {},
   "outputs": [
    {
     "data": {
      "text/plain": [
       "True"
      ]
     },
     "execution_count": 5,
     "metadata": {},
     "output_type": "execute_result"
    }
   ],
   "source": [
    "len(record) == len(record.dropna())"
   ]
  },
  {
   "cell_type": "markdown",
   "metadata": {},
   "source": [
    "The data has no NA value"
   ]
  },
  {
   "cell_type": "markdown",
   "metadata": {},
   "source": [
    "---"
   ]
  },
  {
   "cell_type": "markdown",
   "metadata": {},
   "source": [
    "# Question Posted\n",
    "\n",
    "The following report will focus on answering the following question approaching from different perspectives.\n",
    "\n",
    "**What factors are important for us to know in order to predict if a patient will show up for their scheduled appointment?**"
   ]
  },
  {
   "cell_type": "markdown",
   "metadata": {},
   "source": [
    "# Patient ID Analysis"
   ]
  },
  {
   "cell_type": "markdown",
   "metadata": {},
   "source": [
    "The appointment ID is unique, but the patient can be a returning patient. Let's have a look at the unique patient."
   ]
  },
  {
   "cell_type": "code",
   "execution_count": 6,
   "metadata": {},
   "outputs": [
    {
     "name": "stdout",
     "output_type": "stream",
     "text": [
      "The number of unique patient is 62299\n",
      "The number of unique Appointment ID is 110527\n"
     ]
    }
   ],
   "source": [
    "print(\"The number of unique patient is\", str(len(record[\"PatientId\"].unique())))\n",
    "print(\"The number of unique Appointment ID is\", str(len(record[\"AppointmentID\"])))"
   ]
  },
  {
   "cell_type": "markdown",
   "metadata": {},
   "source": [
    "The unique patient is about half of the appointment. Let's aggregate the count for each patient ID and find out more about the returning visitors."
   ]
  },
  {
   "cell_type": "code",
   "execution_count": 7,
   "metadata": {},
   "outputs": [
    {
     "data": {
      "text/html": [
       "<div>\n",
       "<style scoped>\n",
       "    .dataframe tbody tr th:only-of-type {\n",
       "        vertical-align: middle;\n",
       "    }\n",
       "\n",
       "    .dataframe tbody tr th {\n",
       "        vertical-align: top;\n",
       "    }\n",
       "\n",
       "    .dataframe thead th {\n",
       "        text-align: right;\n",
       "    }\n",
       "</style>\n",
       "<table border=\"1\" class=\"dataframe\">\n",
       "  <thead>\n",
       "    <tr style=\"text-align: right;\">\n",
       "      <th></th>\n",
       "      <th>PatientId</th>\n",
       "    </tr>\n",
       "  </thead>\n",
       "  <tbody>\n",
       "    <tr>\n",
       "      <th>8.221459e+14</th>\n",
       "      <td>88</td>\n",
       "    </tr>\n",
       "    <tr>\n",
       "      <th>9.963767e+10</th>\n",
       "      <td>84</td>\n",
       "    </tr>\n",
       "    <tr>\n",
       "      <th>2.688613e+13</th>\n",
       "      <td>70</td>\n",
       "    </tr>\n",
       "    <tr>\n",
       "      <th>3.353478e+13</th>\n",
       "      <td>65</td>\n",
       "    </tr>\n",
       "    <tr>\n",
       "      <th>2.584244e+11</th>\n",
       "      <td>62</td>\n",
       "    </tr>\n",
       "    <tr>\n",
       "      <th>7.579746e+13</th>\n",
       "      <td>62</td>\n",
       "    </tr>\n",
       "    <tr>\n",
       "      <th>8.713749e+14</th>\n",
       "      <td>62</td>\n",
       "    </tr>\n",
       "    <tr>\n",
       "      <th>6.264199e+12</th>\n",
       "      <td>62</td>\n",
       "    </tr>\n",
       "    <tr>\n",
       "      <th>6.684488e+13</th>\n",
       "      <td>57</td>\n",
       "    </tr>\n",
       "    <tr>\n",
       "      <th>8.722785e+11</th>\n",
       "      <td>55</td>\n",
       "    </tr>\n",
       "  </tbody>\n",
       "</table>\n",
       "</div>"
      ],
      "text/plain": [
       "              PatientId\n",
       "8.221459e+14         88\n",
       "9.963767e+10         84\n",
       "2.688613e+13         70\n",
       "3.353478e+13         65\n",
       "2.584244e+11         62\n",
       "7.579746e+13         62\n",
       "8.713749e+14         62\n",
       "6.264199e+12         62\n",
       "6.684488e+13         57\n",
       "8.722785e+11         55"
      ]
     },
     "execution_count": 7,
     "metadata": {},
     "output_type": "execute_result"
    }
   ],
   "source": [
    "patient = pd.DataFrame(record[\"PatientId\"].value_counts())\n",
    "patient.iloc[:10]"
   ]
  },
  {
   "cell_type": "code",
   "execution_count": 8,
   "metadata": {
    "scrolled": true
   },
   "outputs": [
    {
     "data": {
      "text/plain": [
       "count    62299.000000\n",
       "mean         1.774138\n",
       "std          1.770324\n",
       "min          1.000000\n",
       "25%          1.000000\n",
       "50%          1.000000\n",
       "75%          2.000000\n",
       "max         88.000000\n",
       "Name: PatientId, dtype: float64"
      ]
     },
     "execution_count": 8,
     "metadata": {},
     "output_type": "execute_result"
    }
   ],
   "source": [
    "patient[\"PatientId\"].describe()"
   ]
  },
  {
   "cell_type": "markdown",
   "metadata": {},
   "source": [
    "The table above shows the most frequent visitors. The most frequent visitor visited the clinic 88 times in the time frame, the second most frequent visitor visited the clinic 84 times, and the third visited 70 times. From the five number summary, it is quite clear that most of the people come in once or twice. However, there are quite a few people come in more than two times. I will look closer to those frequent visitors and unfrequent visitors."
   ]
  },
  {
   "cell_type": "code",
   "execution_count": 188,
   "metadata": {},
   "outputs": [
    {
     "data": {
      "text/html": [
       "<div>\n",
       "<style scoped>\n",
       "    .dataframe tbody tr th:only-of-type {\n",
       "        vertical-align: middle;\n",
       "    }\n",
       "\n",
       "    .dataframe tbody tr th {\n",
       "        vertical-align: top;\n",
       "    }\n",
       "\n",
       "    .dataframe thead th {\n",
       "        text-align: right;\n",
       "    }\n",
       "</style>\n",
       "<table border=\"1\" class=\"dataframe\">\n",
       "  <thead>\n",
       "    <tr style=\"text-align: right;\">\n",
       "      <th></th>\n",
       "      <th>PatientId_count</th>\n",
       "      <th>ratio</th>\n",
       "    </tr>\n",
       "  </thead>\n",
       "  <tbody>\n",
       "    <tr>\n",
       "      <th>1</th>\n",
       "      <td>37920</td>\n",
       "      <td>0.608678</td>\n",
       "    </tr>\n",
       "    <tr>\n",
       "      <th>2</th>\n",
       "      <td>13895</td>\n",
       "      <td>0.223037</td>\n",
       "    </tr>\n",
       "    <tr>\n",
       "      <th>3</th>\n",
       "      <td>5500</td>\n",
       "      <td>0.088284</td>\n",
       "    </tr>\n",
       "    <tr>\n",
       "      <th>4</th>\n",
       "      <td>2367</td>\n",
       "      <td>0.037994</td>\n",
       "    </tr>\n",
       "    <tr>\n",
       "      <th>5</th>\n",
       "      <td>1119</td>\n",
       "      <td>0.017962</td>\n",
       "    </tr>\n",
       "    <tr>\n",
       "      <th>6</th>\n",
       "      <td>553</td>\n",
       "      <td>0.008877</td>\n",
       "    </tr>\n",
       "    <tr>\n",
       "      <th>7</th>\n",
       "      <td>306</td>\n",
       "      <td>0.004912</td>\n",
       "    </tr>\n",
       "    <tr>\n",
       "      <th>8</th>\n",
       "      <td>202</td>\n",
       "      <td>0.003242</td>\n",
       "    </tr>\n",
       "    <tr>\n",
       "      <th>9</th>\n",
       "      <td>104</td>\n",
       "      <td>0.001669</td>\n",
       "    </tr>\n",
       "    <tr>\n",
       "      <th>10</th>\n",
       "      <td>85</td>\n",
       "      <td>0.001364</td>\n",
       "    </tr>\n",
       "  </tbody>\n",
       "</table>\n",
       "</div>"
      ],
      "text/plain": [
       "    PatientId_count     ratio\n",
       "1             37920  0.608678\n",
       "2             13895  0.223037\n",
       "3              5500  0.088284\n",
       "4              2367  0.037994\n",
       "5              1119  0.017962\n",
       "6               553  0.008877\n",
       "7               306  0.004912\n",
       "8               202  0.003242\n",
       "9               104  0.001669\n",
       "10               85  0.001364"
      ]
     },
     "execution_count": 188,
     "metadata": {},
     "output_type": "execute_result"
    }
   ],
   "source": [
    "patient_count = pd.DataFrame(patient[\"PatientId\"].value_counts())\n",
    "patient_count.columns = [\"PatientId_count\"]\n",
    "patient_count[\"ratio\"] = patient_count[\"PatientId_count\"]/len(patient)\n",
    "patient_count.iloc[:10]"
   ]
  },
  {
   "cell_type": "code",
   "execution_count": 196,
   "metadata": {},
   "outputs": [],
   "source": [
    "count_larger_5 = patient_count.loc[5:,\"PatientId_count\"].sum()\n",
    "ratio_larger_5 = patient_count.loc[5:,\"ratio\"].sum()\n",
    "new_row = {\"PatientId_count\": count_larger_5, \"ratio\":ratio_larger_5}\n",
    "patient_count_subdf = patient_count.iloc[0:4].copy()\n",
    "patient_count_subdf=patient_count_subdf.append(new_row, ignore_index=True)\n",
    "patient_count_subdf[\"ratio\"] = patient_count_subdf[\"PatientId_count\"]/len(patient)"
   ]
  },
  {
   "cell_type": "code",
   "execution_count": 197,
   "metadata": {},
   "outputs": [
    {
     "data": {
      "text/plain": [
       "Text(0.5,1,'The Ratio of Time of Visits Takes in Total Appointments')"
      ]
     },
     "execution_count": 197,
     "metadata": {},
     "output_type": "execute_result"
    },
    {
     "data": {
      "image/png": "[encoded data removed]",
      "text/plain": [
       "<matplotlib.figure.Figure at 0x1a2592c908>"
      ]
     },
     "metadata": {},
     "output_type": "display_data"
    }
   ],
   "source": [
    "pie_plt = plt.pie(patient_count_subdf[\"ratio\"], labels=[\"1\", \"2\", \"3\" ,\"4\", \">5\"], autopct='%1.2f%%')\n",
    "plt.title(\"The Ratio of Time of Visits Takes in Total Appointments\")"
   ]
  },
  {
   "cell_type": "code",
   "execution_count": 11,
   "metadata": {},
   "outputs": [
    {
     "name": "stdout",
     "output_type": "stream",
     "text": [
      "The ratio of the visitors who visit clinic under three times is 92.0 %\n"
     ]
    }
   ],
   "source": [
    "unfrequent_visitor = round(sum(patient_count[\"ratio\"][0:3]), 2)*100\n",
    "print(\"The ratio of the visitors who visit clinic under three times is\", str(unfrequent_visitor), \"%\")"
   ]
  },
  {
   "cell_type": "markdown",
   "metadata": {},
   "source": [
    "The pie chart and the table above show 60.9% of the people go to clinic only once, 22.3% of them go to clinic twice, and 8.8% go to clinic 3 times. People who visit under three times take 92% of the total unique patients. I will define people who go to clinic under or equal to 3 times as frequent visitors and more than 3 times as frequent visitors."
   ]
  },
  {
   "cell_type": "markdown",
   "metadata": {},
   "source": [
    "**Q1. What ratio of appointments do frequent visitors contribute to total appointment?**"
   ]
  },
  {
   "cell_type": "code",
   "execution_count": 12,
   "metadata": {},
   "outputs": [
    {
     "name": "stdout",
     "output_type": "stream",
     "text": [
      "The number of frequent visitors is 4984 , and it is 8.0 % of the total unique visitors.\n"
     ]
    }
   ],
   "source": [
    "frequent_visitors = patient[patient[\"PatientId\"]>3].copy()\n",
    "print(\"The number of frequent visitors is\", str(len(frequent_visitors)),\n",
    "      \", and it is\", str(round(len(frequent_visitors)/len(patient), 2)*100), \"% of the total unique visitors.\")\n",
    "frequent_visitors.reset_index(inplace=True)\n",
    "frequent_visitor_id = frequent_visitors[\"index\"].tolist()\n",
    "frequent_visitor_no_show = record[[\"PatientId\", \"No-show\"]].copy()\n",
    "is_frequent = lambda x: x in frequent_visitor_id\n",
    "vfunc = np.vectorize(is_frequent)\n",
    "frequent_visitor_no_show[\"is_frequent\"] = vfunc(frequent_visitor_no_show[\"PatientId\"])\n",
    "is_freq_count = frequent_visitor_no_show.set_index(\"PatientId\")\n",
    "is_freq = pd.DataFrame(is_freq_count[\"is_frequent\"].value_counts())\n",
    "is_freq[\"ratio\"]=is_freq[\"is_frequent\"]/len(record)\n"
   ]
  },
  {
   "cell_type": "code",
   "execution_count": 15,
   "metadata": {},
   "outputs": [
    {
     "data": {
      "text/plain": [
       "Text(0.5,1,'Pie Plot for Appointments Made by Frequent Patients')"
      ]
     },
     "execution_count": 15,
     "metadata": {},
     "output_type": "execute_result"
    },
    {
     "data": {
      "image/png": "[encoded data removed]",
      "text/plain": [
       "<matplotlib.figure.Figure at 0x10ef39240>"
      ]
     },
     "metadata": {},
     "output_type": "display_data"
    }
   ],
   "source": [
    "pie_plot_freq = plt.pie(is_freq[\"ratio\"], labels=is_freq.index, autopct='%1.1f%%')\n",
    "plt.title(\"Pie Plot for Appointments Made by Frequent Patients\")"
   ]
  },
  {
   "cell_type": "markdown",
   "metadata": {},
   "source": [
    "The above analysis shows when we set threshold as 3 for frequent visitors, 25.6% of appointments are made by frequent visitors which is much larger than 8.0% being the total unique visitors."
   ]
  },
  {
   "cell_type": "markdown",
   "metadata": {},
   "source": [
    "**Q2. How does the ratio of visits by frequent visitors change if we set threshold higher?**"
   ]
  },
  {
   "cell_type": "markdown",
   "metadata": {},
   "source": [
    "According to the frequency distribution, however, we can predict that the ratio of visists by frequent visitor out of total visits will decrease considerably if we set threshold higher. The following function does exactly that."
   ]
  },
  {
   "cell_type": "code",
   "execution_count": 14,
   "metadata": {},
   "outputs": [
    {
     "data": {
      "text/html": [
       "<div>\n",
       "<style scoped>\n",
       "    .dataframe tbody tr th:only-of-type {\n",
       "        vertical-align: middle;\n",
       "    }\n",
       "\n",
       "    .dataframe tbody tr th {\n",
       "        vertical-align: top;\n",
       "    }\n",
       "\n",
       "    .dataframe thead th {\n",
       "        text-align: right;\n",
       "    }\n",
       "</style>\n",
       "<table border=\"1\" class=\"dataframe\">\n",
       "  <thead>\n",
       "    <tr style=\"text-align: right;\">\n",
       "      <th></th>\n",
       "      <th>frequent_visitors</th>\n",
       "      <th>portion_in_all_appt</th>\n",
       "      <th>portion_unique_visitor</th>\n",
       "      <th>threshold</th>\n",
       "    </tr>\n",
       "  </thead>\n",
       "  <tbody>\n",
       "    <tr>\n",
       "      <th>0</th>\n",
       "      <td>1</td>\n",
       "      <td>0.08</td>\n",
       "      <td>0.0</td>\n",
       "      <td>87</td>\n",
       "    </tr>\n",
       "    <tr>\n",
       "      <th>1</th>\n",
       "      <td>2</td>\n",
       "      <td>0.16</td>\n",
       "      <td>0.0</td>\n",
       "      <td>83</td>\n",
       "    </tr>\n",
       "    <tr>\n",
       "      <th>2</th>\n",
       "      <td>3</td>\n",
       "      <td>0.22</td>\n",
       "      <td>0.0</td>\n",
       "      <td>69</td>\n",
       "    </tr>\n",
       "    <tr>\n",
       "      <th>3</th>\n",
       "      <td>4</td>\n",
       "      <td>0.28</td>\n",
       "      <td>0.0</td>\n",
       "      <td>64</td>\n",
       "    </tr>\n",
       "    <tr>\n",
       "      <th>4</th>\n",
       "      <td>8</td>\n",
       "      <td>0.50</td>\n",
       "      <td>0.0</td>\n",
       "      <td>61</td>\n",
       "    </tr>\n",
       "    <tr>\n",
       "      <th>5</th>\n",
       "      <td>9</td>\n",
       "      <td>0.55</td>\n",
       "      <td>0.0</td>\n",
       "      <td>56</td>\n",
       "    </tr>\n",
       "    <tr>\n",
       "      <th>6</th>\n",
       "      <td>10</td>\n",
       "      <td>0.60</td>\n",
       "      <td>0.0</td>\n",
       "      <td>54</td>\n",
       "    </tr>\n",
       "    <tr>\n",
       "      <th>7</th>\n",
       "      <td>11</td>\n",
       "      <td>0.65</td>\n",
       "      <td>0.0</td>\n",
       "      <td>53</td>\n",
       "    </tr>\n",
       "    <tr>\n",
       "      <th>8</th>\n",
       "      <td>12</td>\n",
       "      <td>0.70</td>\n",
       "      <td>0.0</td>\n",
       "      <td>50</td>\n",
       "    </tr>\n",
       "    <tr>\n",
       "      <th>9</th>\n",
       "      <td>13</td>\n",
       "      <td>0.74</td>\n",
       "      <td>0.0</td>\n",
       "      <td>49</td>\n",
       "    </tr>\n",
       "    <tr>\n",
       "      <th>10</th>\n",
       "      <td>15</td>\n",
       "      <td>0.83</td>\n",
       "      <td>0.0</td>\n",
       "      <td>45</td>\n",
       "    </tr>\n",
       "    <tr>\n",
       "      <th>11</th>\n",
       "      <td>17</td>\n",
       "      <td>0.90</td>\n",
       "      <td>0.0</td>\n",
       "      <td>41</td>\n",
       "    </tr>\n",
       "    <tr>\n",
       "      <th>12</th>\n",
       "      <td>18</td>\n",
       "      <td>0.94</td>\n",
       "      <td>0.0</td>\n",
       "      <td>39</td>\n",
       "    </tr>\n",
       "    <tr>\n",
       "      <th>13</th>\n",
       "      <td>20</td>\n",
       "      <td>1.01</td>\n",
       "      <td>0.0</td>\n",
       "      <td>37</td>\n",
       "    </tr>\n",
       "    <tr>\n",
       "      <th>14</th>\n",
       "      <td>21</td>\n",
       "      <td>1.04</td>\n",
       "      <td>0.0</td>\n",
       "      <td>36</td>\n",
       "    </tr>\n",
       "    <tr>\n",
       "      <th>15</th>\n",
       "      <td>22</td>\n",
       "      <td>1.07</td>\n",
       "      <td>0.0</td>\n",
       "      <td>34</td>\n",
       "    </tr>\n",
       "    <tr>\n",
       "      <th>16</th>\n",
       "      <td>24</td>\n",
       "      <td>1.13</td>\n",
       "      <td>0.0</td>\n",
       "      <td>33</td>\n",
       "    </tr>\n",
       "    <tr>\n",
       "      <th>17</th>\n",
       "      <td>25</td>\n",
       "      <td>1.16</td>\n",
       "      <td>0.0</td>\n",
       "      <td>32</td>\n",
       "    </tr>\n",
       "    <tr>\n",
       "      <th>18</th>\n",
       "      <td>27</td>\n",
       "      <td>1.22</td>\n",
       "      <td>0.0</td>\n",
       "      <td>29</td>\n",
       "    </tr>\n",
       "    <tr>\n",
       "      <th>19</th>\n",
       "      <td>28</td>\n",
       "      <td>1.24</td>\n",
       "      <td>0.0</td>\n",
       "      <td>28</td>\n",
       "    </tr>\n",
       "    <tr>\n",
       "      <th>20</th>\n",
       "      <td>29</td>\n",
       "      <td>1.27</td>\n",
       "      <td>0.0</td>\n",
       "      <td>23</td>\n",
       "    </tr>\n",
       "    <tr>\n",
       "      <th>21</th>\n",
       "      <td>31</td>\n",
       "      <td>1.31</td>\n",
       "      <td>0.0</td>\n",
       "      <td>22</td>\n",
       "    </tr>\n",
       "    <tr>\n",
       "      <th>22</th>\n",
       "      <td>32</td>\n",
       "      <td>1.33</td>\n",
       "      <td>0.0</td>\n",
       "      <td>21</td>\n",
       "    </tr>\n",
       "    <tr>\n",
       "      <th>23</th>\n",
       "      <td>35</td>\n",
       "      <td>1.39</td>\n",
       "      <td>0.0</td>\n",
       "      <td>20</td>\n",
       "    </tr>\n",
       "    <tr>\n",
       "      <th>24</th>\n",
       "      <td>43</td>\n",
       "      <td>1.53</td>\n",
       "      <td>0.0</td>\n",
       "      <td>19</td>\n",
       "    </tr>\n",
       "    <tr>\n",
       "      <th>25</th>\n",
       "      <td>49</td>\n",
       "      <td>1.63</td>\n",
       "      <td>0.0</td>\n",
       "      <td>18</td>\n",
       "    </tr>\n",
       "    <tr>\n",
       "      <th>26</th>\n",
       "      <td>57</td>\n",
       "      <td>1.76</td>\n",
       "      <td>0.0</td>\n",
       "      <td>17</td>\n",
       "    </tr>\n",
       "    <tr>\n",
       "      <th>27</th>\n",
       "      <td>67</td>\n",
       "      <td>1.92</td>\n",
       "      <td>0.0</td>\n",
       "      <td>16</td>\n",
       "    </tr>\n",
       "    <tr>\n",
       "      <th>28</th>\n",
       "      <td>77</td>\n",
       "      <td>2.06</td>\n",
       "      <td>0.0</td>\n",
       "      <td>15</td>\n",
       "    </tr>\n",
       "    <tr>\n",
       "      <th>29</th>\n",
       "      <td>92</td>\n",
       "      <td>2.27</td>\n",
       "      <td>0.0</td>\n",
       "      <td>14</td>\n",
       "    </tr>\n",
       "    <tr>\n",
       "      <th>30</th>\n",
       "      <td>114</td>\n",
       "      <td>2.54</td>\n",
       "      <td>0.0</td>\n",
       "      <td>13</td>\n",
       "    </tr>\n",
       "    <tr>\n",
       "      <th>31</th>\n",
       "      <td>149</td>\n",
       "      <td>2.96</td>\n",
       "      <td>0.0</td>\n",
       "      <td>12</td>\n",
       "    </tr>\n",
       "    <tr>\n",
       "      <th>32</th>\n",
       "      <td>185</td>\n",
       "      <td>3.35</td>\n",
       "      <td>0.0</td>\n",
       "      <td>11</td>\n",
       "    </tr>\n",
       "    <tr>\n",
       "      <th>33</th>\n",
       "      <td>248</td>\n",
       "      <td>3.97</td>\n",
       "      <td>0.0</td>\n",
       "      <td>10</td>\n",
       "    </tr>\n",
       "    <tr>\n",
       "      <th>34</th>\n",
       "      <td>333</td>\n",
       "      <td>4.74</td>\n",
       "      <td>1.0</td>\n",
       "      <td>9</td>\n",
       "    </tr>\n",
       "    <tr>\n",
       "      <th>35</th>\n",
       "      <td>437</td>\n",
       "      <td>5.59</td>\n",
       "      <td>1.0</td>\n",
       "      <td>8</td>\n",
       "    </tr>\n",
       "    <tr>\n",
       "      <th>36</th>\n",
       "      <td>639</td>\n",
       "      <td>7.05</td>\n",
       "      <td>1.0</td>\n",
       "      <td>7</td>\n",
       "    </tr>\n",
       "    <tr>\n",
       "      <th>37</th>\n",
       "      <td>945</td>\n",
       "      <td>8.99</td>\n",
       "      <td>2.0</td>\n",
       "      <td>6</td>\n",
       "    </tr>\n",
       "    <tr>\n",
       "      <th>38</th>\n",
       "      <td>1498</td>\n",
       "      <td>11.99</td>\n",
       "      <td>2.0</td>\n",
       "      <td>5</td>\n",
       "    </tr>\n",
       "    <tr>\n",
       "      <th>39</th>\n",
       "      <td>2617</td>\n",
       "      <td>17.05</td>\n",
       "      <td>4.0</td>\n",
       "      <td>4</td>\n",
       "    </tr>\n",
       "    <tr>\n",
       "      <th>40</th>\n",
       "      <td>4984</td>\n",
       "      <td>25.62</td>\n",
       "      <td>8.0</td>\n",
       "      <td>3</td>\n",
       "    </tr>\n",
       "  </tbody>\n",
       "</table>\n",
       "</div>"
      ],
      "text/plain": [
       "    frequent_visitors  portion_in_all_appt  portion_unique_visitor  threshold\n",
       "0                   1                 0.08                     0.0         87\n",
       "1                   2                 0.16                     0.0         83\n",
       "2                   3                 0.22                     0.0         69\n",
       "3                   4                 0.28                     0.0         64\n",
       "4                   8                 0.50                     0.0         61\n",
       "5                   9                 0.55                     0.0         56\n",
       "6                  10                 0.60                     0.0         54\n",
       "7                  11                 0.65                     0.0         53\n",
       "8                  12                 0.70                     0.0         50\n",
       "9                  13                 0.74                     0.0         49\n",
       "10                 15                 0.83                     0.0         45\n",
       "11                 17                 0.90                     0.0         41\n",
       "12                 18                 0.94                     0.0         39\n",
       "13                 20                 1.01                     0.0         37\n",
       "14                 21                 1.04                     0.0         36\n",
       "15                 22                 1.07                     0.0         34\n",
       "16                 24                 1.13                     0.0         33\n",
       "17                 25                 1.16                     0.0         32\n",
       "18                 27                 1.22                     0.0         29\n",
       "19                 28                 1.24                     0.0         28\n",
       "20                 29                 1.27                     0.0         23\n",
       "21                 31                 1.31                     0.0         22\n",
       "22                 32                 1.33                     0.0         21\n",
       "23                 35                 1.39                     0.0         20\n",
       "24                 43                 1.53                     0.0         19\n",
       "25                 49                 1.63                     0.0         18\n",
       "26                 57                 1.76                     0.0         17\n",
       "27                 67                 1.92                     0.0         16\n",
       "28                 77                 2.06                     0.0         15\n",
       "29                 92                 2.27                     0.0         14\n",
       "30                114                 2.54                     0.0         13\n",
       "31                149                 2.96                     0.0         12\n",
       "32                185                 3.35                     0.0         11\n",
       "33                248                 3.97                     0.0         10\n",
       "34                333                 4.74                     1.0          9\n",
       "35                437                 5.59                     1.0          8\n",
       "36                639                 7.05                     1.0          7\n",
       "37                945                 8.99                     2.0          6\n",
       "38               1498                11.99                     2.0          5\n",
       "39               2617                17.05                     4.0          4\n",
       "40               4984                25.62                     8.0          3"
      ]
     },
     "execution_count": 14,
     "metadata": {},
     "output_type": "execute_result"
    }
   ],
   "source": [
    "def find_freq(threshold):\n",
    "    row = {}\n",
    "    row[\"threshold\"] = threshold\n",
    "    frequent_visitors = patient[patient[\"PatientId\"]>threshold].copy()\n",
    "    row[\"frequent_visitors\"] = len(frequent_visitors)\n",
    "    row[\"portion_unique_visitor\"] = round(len(frequent_visitors)/len(patient), 2)*100\n",
    "    frequent_visitors.reset_index(inplace=True)\n",
    "    frequent_visitor_id = frequent_visitors[\"index\"].tolist()\n",
    "    frequent_visitor_no_show = record[[\"PatientId\", \"No-show\"]].copy()\n",
    "    is_frequent = lambda x: x in frequent_visitor_id\n",
    "    vfunc = np.vectorize(is_frequent)\n",
    "    frequent_visitor_no_show[\"is_frequent\"] = vfunc(frequent_visitor_no_show[\"PatientId\"])\n",
    "    is_freq_count = frequent_visitor_no_show.set_index(\"PatientId\")\n",
    "    is_freq = pd.DataFrame(is_freq_count[\"is_frequent\"].value_counts())\n",
    "    is_freq[\"ratio\"]=is_freq[\"is_frequent\"]/len(record)\n",
    "    row[\"portion_in_all_appt\"] = round(is_freq.loc[1, \"ratio\"], 4)*100\n",
    "    return (row)\n",
    "\n",
    "threshold_nparray = np.array(patient[\"PatientId\"].unique()-1)\n",
    "threshold_nparray = np.delete(threshold_nparray,[len(threshold_nparray)-1,len(threshold_nparray)-2, len(threshold_nparray)-3])\n",
    "\n",
    "apply_threshold = np.vectorize(lambda x: find_freq(x))\n",
    "rows=apply_threshold(threshold_nparray)\n",
    "get_row_dict = [r for r in rows]\n",
    "pd.DataFrame(get_row_dict)"
   ]
  },
  {
   "cell_type": "markdown",
   "metadata": {},
   "source": [
    "As shown from the analysis, the ratio of the frequent visitors drop drastically after the threshold increases. The ratio of appointment is lower than 2% the threshold reaches 16, and drops under 1% when the threshold is 37. The ratio of the frequent visitors out of total unique visitors drop below 1% when the number of visits reach 11. "
   ]
  },
  {
   "cell_type": "markdown",
   "metadata": {},
   "source": [
    "It was tempting to look at the no-show rate with frequency further, but even the people who drop by 88 times take a small amount of data comparing to the data set. I believe its still safe to assume independency."
   ]
  },
  {
   "cell_type": "markdown",
   "metadata": {},
   "source": [
    "**Q3. How is the no-show rate correlated to frequency of people coming to the clinic?**"
   ]
  },
  {
   "cell_type": "code",
   "execution_count": 16,
   "metadata": {
    "scrolled": true
   },
   "outputs": [
    {
     "data": {
      "text/plain": [
       "0.0145"
      ]
     },
     "execution_count": 16,
     "metadata": {},
     "output_type": "execute_result"
    }
   ],
   "source": [
    "lookupTable, indexed_dataSet = np.unique(frequent_visitor_no_show[\"No-show\"], return_inverse=True)\n",
    "frequent_visitor_no_show['No-show-indexed'] = indexed_dataSet\n",
    "np.corrcoef(frequent_visitor_no_show['No-show-indexed'], frequent_visitor_no_show['is_frequent'])[0][1].round(4)"
   ]
  },
  {
   "cell_type": "markdown",
   "metadata": {},
   "source": [
    "Frequency of people coming to the clinic is slightly positively correlated to no-show rate, which means if a person goes to clinic more often, it is slightly more likely that this person will not show. The threshold chosen here is 3, where there are about one fourth of appointments made by people who visit the clinic more frequent than 3. As shown from Q1.2, as the threshold raises, the frequent visitors take smaller percentage in the total unique patients. Their appointments also take smaller portion of the total appointments. To look at the appointments under 10% may not lose the larger picture of relationship of frequent patients and no-show rate."
   ]
  },
  {
   "cell_type": "markdown",
   "metadata": {},
   "source": [
    "**Q4. How does the repeated patients affect the average of the categorical variable?**"
   ]
  },
  {
   "cell_type": "markdown",
   "metadata": {},
   "source": [
    "If a patient has suffered from Hipertension, Diabetes, Alcoholism or Handicap, I would consider this person as having those diseases due to the chronic nature of the disease or disabilities. The logic of munging this data is to group by patient ID, and add up the number for the column. If the patient record ever appears to be non-zero, I will assign the value as 1. Also, I would assume the gender does not change for that person during the time frame."
   ]
  },
  {
   "cell_type": "code",
   "execution_count": 17,
   "metadata": {},
   "outputs": [],
   "source": [
    "chronic = [\"PatientId\", \"Gender\", 'Hipertension', \"Diabetes\", \"Alcoholism\", \"Handcap\"]\n",
    "record_chronic = record[chronic].copy()\n",
    "lookupTable, indexed_dataSet = np.unique(record_chronic[\"Gender\"], return_inverse=True)\n",
    "record_chronic[\"Gender-indexed\"] = indexed_dataSet\n",
    "record_chronic = record_chronic.groupby(record_chronic[\"PatientId\"]).sum()\n",
    "adjust_to_one = lambda x: x if x==0 else 1\n",
    "vfunc = np.vectorize(adjust_to_one)\n",
    "cols_to_adjust = [\"Hipertension\", \"Diabetes\", \"Alcoholism\", \"Handcap\", \"Gender-indexed\"]\n",
    "record_chronic[cols_to_adjust] = record_chronic[cols_to_adjust].apply(vfunc)\n",
    "record_chronic.drop(\"PatientId\", axis=1, inplace=True)\n",
    "col1 = record_chronic.describe().loc[\"mean\", [\"Hipertension\", \"Diabetes\", \"Alcoholism\", \"Handcap\"]]\n",
    "col1.name = \"mean_unique\""
   ]
  },
  {
   "cell_type": "code",
   "execution_count": 18,
   "metadata": {},
   "outputs": [
    {
     "data": {
      "text/html": [
       "<div>\n",
       "<style scoped>\n",
       "    .dataframe tbody tr th:only-of-type {\n",
       "        vertical-align: middle;\n",
       "    }\n",
       "\n",
       "    .dataframe tbody tr th {\n",
       "        vertical-align: top;\n",
       "    }\n",
       "\n",
       "    .dataframe thead th {\n",
       "        text-align: right;\n",
       "    }\n",
       "</style>\n",
       "<table border=\"1\" class=\"dataframe\">\n",
       "  <thead>\n",
       "    <tr style=\"text-align: right;\">\n",
       "      <th></th>\n",
       "      <th>mean_unique</th>\n",
       "      <th>mean_all_appt</th>\n",
       "      <th>change_percent</th>\n",
       "    </tr>\n",
       "  </thead>\n",
       "  <tbody>\n",
       "    <tr>\n",
       "      <th>Hipertension</th>\n",
       "      <td>0.196504</td>\n",
       "      <td>0.197246</td>\n",
       "      <td>-0.376162</td>\n",
       "    </tr>\n",
       "    <tr>\n",
       "      <th>Diabetes</th>\n",
       "      <td>0.070884</td>\n",
       "      <td>0.071865</td>\n",
       "      <td>-1.364827</td>\n",
       "    </tr>\n",
       "    <tr>\n",
       "      <th>Alcoholism</th>\n",
       "      <td>0.024174</td>\n",
       "      <td>0.030400</td>\n",
       "      <td>-20.480617</td>\n",
       "    </tr>\n",
       "    <tr>\n",
       "      <th>Handcap</th>\n",
       "      <td>0.018186</td>\n",
       "      <td>0.022248</td>\n",
       "      <td>-18.255473</td>\n",
       "    </tr>\n",
       "  </tbody>\n",
       "</table>\n",
       "</div>"
      ],
      "text/plain": [
       "              mean_unique  mean_all_appt  change_percent\n",
       "Hipertension     0.196504       0.197246       -0.376162\n",
       "Diabetes         0.070884       0.071865       -1.364827\n",
       "Alcoholism       0.024174       0.030400      -20.480617\n",
       "Handcap          0.018186       0.022248      -18.255473"
      ]
     },
     "execution_count": 18,
     "metadata": {},
     "output_type": "execute_result"
    }
   ],
   "source": [
    "col2 = record.describe().loc[\"mean\", [\"Hipertension\", \"Diabetes\", \"Alcoholism\", \"Handcap\"]]\n",
    "col2.name = \"mean_all_appt\"\n",
    "compare = pd.DataFrame([col1, col2]).T\n",
    "compare[\"change_percent\"] = ((compare[\"mean_unique\"] - compare[\"mean_all_appt\"])/compare[\"mean_all_appt\"])*100\n",
    "compare"
   ]
  },
  {
   "cell_type": "markdown",
   "metadata": {},
   "source": [
    "All of the categorical variables decreased after adjustment, which means there are more people having those chronic diseases come to the clinic more often than people who don't. Alcoholism decreased the most drastically by 20.48%, and then Handcap decreased by 18.26%. The result means people having alcoholism and handcap visit clinics more often than people who don't have them."
   ]
  },
  {
   "cell_type": "markdown",
   "metadata": {},
   "source": [
    "---"
   ]
  },
  {
   "cell_type": "markdown",
   "metadata": {},
   "source": [
    "# Age"
   ]
  },
  {
   "cell_type": "markdown",
   "metadata": {},
   "source": [
    "**Q5. How is age distributed in the data set and how does it correlate to no-show rate?**"
   ]
  },
  {
   "cell_type": "markdown",
   "metadata": {},
   "source": [
    "To have a closer look at the numercial data, Age, I use describe() to see the summary of the two variables"
   ]
  },
  {
   "cell_type": "code",
   "execution_count": 19,
   "metadata": {},
   "outputs": [
    {
     "data": {
      "text/html": [
       "<div>\n",
       "<style scoped>\n",
       "    .dataframe tbody tr th:only-of-type {\n",
       "        vertical-align: middle;\n",
       "    }\n",
       "\n",
       "    .dataframe tbody tr th {\n",
       "        vertical-align: top;\n",
       "    }\n",
       "\n",
       "    .dataframe thead th {\n",
       "        text-align: right;\n",
       "    }\n",
       "</style>\n",
       "<table border=\"1\" class=\"dataframe\">\n",
       "  <thead>\n",
       "    <tr style=\"text-align: right;\">\n",
       "      <th></th>\n",
       "      <th>Age</th>\n",
       "    </tr>\n",
       "  </thead>\n",
       "  <tbody>\n",
       "    <tr>\n",
       "      <th>mean</th>\n",
       "      <td>37.088874</td>\n",
       "    </tr>\n",
       "    <tr>\n",
       "      <th>std</th>\n",
       "      <td>23.110205</td>\n",
       "    </tr>\n",
       "    <tr>\n",
       "      <th>min</th>\n",
       "      <td>-1.000000</td>\n",
       "    </tr>\n",
       "    <tr>\n",
       "      <th>25%</th>\n",
       "      <td>18.000000</td>\n",
       "    </tr>\n",
       "    <tr>\n",
       "      <th>50%</th>\n",
       "      <td>37.000000</td>\n",
       "    </tr>\n",
       "    <tr>\n",
       "      <th>75%</th>\n",
       "      <td>55.000000</td>\n",
       "    </tr>\n",
       "    <tr>\n",
       "      <th>max</th>\n",
       "      <td>115.000000</td>\n",
       "    </tr>\n",
       "  </tbody>\n",
       "</table>\n",
       "</div>"
      ],
      "text/plain": [
       "             Age\n",
       "mean   37.088874\n",
       "std    23.110205\n",
       "min    -1.000000\n",
       "25%    18.000000\n",
       "50%    37.000000\n",
       "75%    55.000000\n",
       "max   115.000000"
      ]
     },
     "execution_count": 19,
     "metadata": {},
     "output_type": "execute_result"
    }
   ],
   "source": [
    "record[[\"Age\"]].describe()[1:] ## Not showing the Count value, since Count is not important for this dataset"
   ]
  },
  {
   "cell_type": "code",
   "execution_count": 20,
   "metadata": {},
   "outputs": [
    {
     "data": {
      "text/plain": [
       "0     3.201933\n",
       "1     2.056511\n",
       "52    1.579705\n",
       "49    1.494657\n",
       "53    1.493753\n",
       "56    1.479277\n",
       "38    1.473848\n",
       "59    1.469324\n",
       "2     1.463896\n",
       "Name: Age, dtype: float64"
      ]
     },
     "execution_count": 20,
     "metadata": {},
     "output_type": "execute_result"
    }
   ],
   "source": [
    "age_count = record[\"Age\"].value_counts()\n",
    "age_count[:9]/len(record)*100"
   ]
  },
  {
   "cell_type": "markdown",
   "metadata": {},
   "source": [
    "For all of the appointments, 0-and 1-year old children take 3.2% and 2.1% of the total. Since a patient can visit the clinic more than 1 time, it is expected to have multiple visits from one PatientID. Combining the age into age groups may grasp the larger picture of the age distribution. Also, interestingly, the minimal value for age is -1."
   ]
  },
  {
   "cell_type": "code",
   "execution_count": 21,
   "metadata": {},
   "outputs": [
    {
     "name": "stdout",
     "output_type": "stream",
     "text": [
      "The entries with age < 1 is now 1\n"
     ]
    }
   ],
   "source": [
    "print(\"The entries with age < 1 is now\", str(record[record[\"Age\"] < 0].shape[0]))"
   ]
  },
  {
   "cell_type": "markdown",
   "metadata": {},
   "source": [
    "Since there is no indication of how a lower-than-zero age is documented, age of -1 does not make much sense. I will treat this row as a typo and discard."
   ]
  },
  {
   "cell_type": "code",
   "execution_count": 22,
   "metadata": {},
   "outputs": [],
   "source": [
    "record=record[record[\"Age\"] >= 0]"
   ]
  },
  {
   "cell_type": "markdown",
   "metadata": {},
   "source": [
    "Now, the age range is from 0 to 115. Use a histogram to show the age distribution."
   ]
  },
  {
   "cell_type": "code",
   "execution_count": 23,
   "metadata": {},
   "outputs": [
    {
     "data": {
      "text/plain": [
       "Text(0.5,0,'Age of the Patients')"
      ]
     },
     "execution_count": 23,
     "metadata": {},
     "output_type": "execute_result"
    },
    {
     "data": {
      "image/png": "[encoded data removed]",
      "text/plain": [
       "<matplotlib.figure.Figure at 0x10ef2ef28>"
      ]
     },
     "metadata": {},
     "output_type": "display_data"
    }
   ],
   "source": [
    "record.index = record[\"AppointmentID\"]\n",
    "# record[\"Age\"].plot.hist(stacked=True, bins=30)\n",
    "\n",
    "p = plt.hist(record[\"Age\"])\n",
    "plt.title('No Show Rate by Age Group')\n",
    "plt.ylabel('Number of Patients')\n",
    "plt.xlabel(\"Age of the Patients\")"
   ]
  },
  {
   "cell_type": "markdown",
   "metadata": {},
   "source": [
    "It seems there are a few \"bumps\" in age distribution. Age groups 0-15, 25-35 and 50-65 have high frequency. It makes sense because new-borns and elderly are prone to diseases. Age groups of 20-23 and 40-43 have the lowest frequency. The drop in 65 years old is not surprising since more people desease as age grows.    "
   ]
  },
  {
   "cell_type": "markdown",
   "metadata": {},
   "source": [
    "<strong> Q5.1. Is no-show rate correlated to age? </strong>"
   ]
  },
  {
   "cell_type": "markdown",
   "metadata": {},
   "source": [
    "First, let's divide people into 6 age groups of 20 years. ie. 0-19, 20-39, 40-59, 60-79, 80-99, 100-118."
   ]
  },
  {
   "cell_type": "code",
   "execution_count": 24,
   "metadata": {},
   "outputs": [],
   "source": [
    "record.loc[:,\"Age_Group\"] = np.array(np.floor(record.Age/20)+1)"
   ]
  },
  {
   "cell_type": "code",
   "execution_count": 25,
   "metadata": {},
   "outputs": [
    {
     "data": {
      "text/html": [
       "<div>\n",
       "<style scoped>\n",
       "    .dataframe tbody tr th:only-of-type {\n",
       "        vertical-align: middle;\n",
       "    }\n",
       "\n",
       "    .dataframe tbody tr th {\n",
       "        vertical-align: top;\n",
       "    }\n",
       "\n",
       "    .dataframe thead th {\n",
       "        text-align: right;\n",
       "    }\n",
       "</style>\n",
       "<table border=\"1\" class=\"dataframe\">\n",
       "  <thead>\n",
       "    <tr style=\"text-align: right;\">\n",
       "      <th></th>\n",
       "      <th>Age</th>\n",
       "      <th>Age_Group</th>\n",
       "    </tr>\n",
       "    <tr>\n",
       "      <th>AppointmentID</th>\n",
       "      <th></th>\n",
       "      <th></th>\n",
       "    </tr>\n",
       "  </thead>\n",
       "  <tbody>\n",
       "    <tr>\n",
       "      <th>5642903</th>\n",
       "      <td>62</td>\n",
       "      <td>4.0</td>\n",
       "    </tr>\n",
       "    <tr>\n",
       "      <th>5642503</th>\n",
       "      <td>56</td>\n",
       "      <td>3.0</td>\n",
       "    </tr>\n",
       "    <tr>\n",
       "      <th>5642549</th>\n",
       "      <td>62</td>\n",
       "      <td>4.0</td>\n",
       "    </tr>\n",
       "    <tr>\n",
       "      <th>5642828</th>\n",
       "      <td>8</td>\n",
       "      <td>1.0</td>\n",
       "    </tr>\n",
       "    <tr>\n",
       "      <th>5642494</th>\n",
       "      <td>56</td>\n",
       "      <td>3.0</td>\n",
       "    </tr>\n",
       "  </tbody>\n",
       "</table>\n",
       "</div>"
      ],
      "text/plain": [
       "               Age  Age_Group\n",
       "AppointmentID                \n",
       "5642903         62        4.0\n",
       "5642503         56        3.0\n",
       "5642549         62        4.0\n",
       "5642828          8        1.0\n",
       "5642494         56        3.0"
      ]
     },
     "execution_count": 25,
     "metadata": {},
     "output_type": "execute_result"
    }
   ],
   "source": [
    "record[[\"Age\",\"Age_Group\"]].head()"
   ]
  },
  {
   "cell_type": "code",
   "execution_count": 26,
   "metadata": {},
   "outputs": [
    {
     "data": {
      "text/plain": [
       "[1.0, 2.0, 3.0, 4.0, 5.0, 6.0]"
      ]
     },
     "execution_count": 26,
     "metadata": {},
     "output_type": "execute_result"
    }
   ],
   "source": [
    "factors = np.unique(record[\"Age_Group\"], return_inverse=True)[0].tolist()\n",
    "factors"
   ]
  },
  {
   "cell_type": "code",
   "execution_count": 27,
   "metadata": {},
   "outputs": [
    {
     "data": {
      "text/html": [
       "<div>\n",
       "<style scoped>\n",
       "    .dataframe tbody tr th:only-of-type {\n",
       "        vertical-align: middle;\n",
       "    }\n",
       "\n",
       "    .dataframe tbody tr th {\n",
       "        vertical-align: top;\n",
       "    }\n",
       "\n",
       "    .dataframe thead th {\n",
       "        text-align: right;\n",
       "    }\n",
       "</style>\n",
       "<table border=\"1\" class=\"dataframe\">\n",
       "  <thead>\n",
       "    <tr style=\"text-align: right;\">\n",
       "      <th></th>\n",
       "      <th>No_Show</th>\n",
       "      <th>Show</th>\n",
       "      <th>No_Show_Rate</th>\n",
       "      <th>Age_group</th>\n",
       "    </tr>\n",
       "  </thead>\n",
       "  <tbody>\n",
       "    <tr>\n",
       "      <th>1.0</th>\n",
       "      <td>6741</td>\n",
       "      <td>23670</td>\n",
       "      <td>0.22</td>\n",
       "      <td>0-19</td>\n",
       "    </tr>\n",
       "    <tr>\n",
       "      <th>2.0</th>\n",
       "      <td>6680</td>\n",
       "      <td>22190</td>\n",
       "      <td>0.23</td>\n",
       "      <td>20-39</td>\n",
       "    </tr>\n",
       "    <tr>\n",
       "      <th>3.0</th>\n",
       "      <td>5656</td>\n",
       "      <td>24416</td>\n",
       "      <td>0.19</td>\n",
       "      <td>40-59</td>\n",
       "    </tr>\n",
       "    <tr>\n",
       "      <th>4.0</th>\n",
       "      <td>2692</td>\n",
       "      <td>15118</td>\n",
       "      <td>0.15</td>\n",
       "      <td>60-79</td>\n",
       "    </tr>\n",
       "    <tr>\n",
       "      <th>5.0</th>\n",
       "      <td>547</td>\n",
       "      <td>2805</td>\n",
       "      <td>0.16</td>\n",
       "      <td>80-99</td>\n",
       "    </tr>\n",
       "    <tr>\n",
       "      <th>6.0</th>\n",
       "      <td>3</td>\n",
       "      <td>8</td>\n",
       "      <td>0.27</td>\n",
       "      <td>100-118</td>\n",
       "    </tr>\n",
       "  </tbody>\n",
       "</table>\n",
       "</div>"
      ],
      "text/plain": [
       "     No_Show   Show  No_Show_Rate Age_group\n",
       "1.0     6741  23670          0.22      0-19\n",
       "2.0     6680  22190          0.23     20-39\n",
       "3.0     5656  24416          0.19     40-59\n",
       "4.0     2692  15118          0.15     60-79\n",
       "5.0      547   2805          0.16     80-99\n",
       "6.0        3      8          0.27   100-118"
      ]
     },
     "execution_count": 27,
     "metadata": {},
     "output_type": "execute_result"
    }
   ],
   "source": [
    "## Now let's see the relationship between Age_Group and No Show Rate\n",
    "\n",
    "no_show_dict = {}\n",
    "show_dict = {}\n",
    "for factor in factors:\n",
    "    no_show_dict[factor] = len(record[(record[\"Age_Group\"] == factor) &(record[\"No-show\"]==\"Yes\")])\n",
    "    show_dict[factor] = len(record[(record[\"Age_Group\"] == factor) & (record[\"No-show\"]==\"No\")])\n",
    "\n",
    "age_group = [\"0-19\", \"20-39\", \"40-59\", \"60-79\", \"80-99\", \"100-118\"]\n",
    "df_age_group = pd.DataFrame(data=[no_show_dict,show_dict]).T\n",
    "df_age_group.rename(columns={0:'No_Show', 1:\"Show\"}, inplace=True)\n",
    "df_age_group[\"No_Show_Rate\"] = df_age_group[\"No_Show\"]/(df_age_group[\"No_Show\"]+df_age_group[\"Show\"])\n",
    "df_age_group[\"Age_group\"] = age_group\n",
    "df_age_group.round({\"No_Show_Rate\": 2})\n",
    "\n"
   ]
  },
  {
   "cell_type": "code",
   "execution_count": 28,
   "metadata": {},
   "outputs": [
    {
     "data": {
      "text/plain": [
       "<matplotlib.legend.Legend at 0x10fa45c18>"
      ]
     },
     "execution_count": 28,
     "metadata": {},
     "output_type": "execute_result"
    },
    {
     "data": {
      "image/png": "[encoded data removed]",
      "text/plain": [
       "<matplotlib.figure.Figure at 0x10e038978>"
      ]
     },
     "metadata": {},
     "output_type": "display_data"
    }
   ],
   "source": [
    "p1 = plt.bar(np.arange(6), df_age_group[\"No_Show\"])\n",
    "p2 = plt.bar(np.arange(6), df_age_group[\"Show\"], bottom=df_age_group[\"No_Show\"])\n",
    "\n",
    "plt.title('No Show Rate by Age Group')\n",
    "plt.ylabel('Number of Patients')\n",
    "plt.xticks(np.arange(6), (\"0-19\", \"20-39\", \"40-59\", \"60-79\", \"80-99\", \"100-118\"))\n",
    "plt.legend((p1[0], p2[0]), ('No Show', 'Showed'))"
   ]
  },
  {
   "cell_type": "markdown",
   "metadata": {},
   "source": [
    "The no show rate slightly correlates to age group as given people in age group 0-19, 20-39, 40-59, 60-79, 80-99, and 100-118, the ratio of people who showed up and people who didn't show up is not the same across all age group. The No Show Rate is about the same for people in age 0-19 and age 20-39. The No Show rate drops after the age hits 40, and continues to remain around 15% until the age grows over 100. Please be noted that the total number of patients in age group 100 and 118 is fairly low (11 people in total). The confidence interval for the no show rate will be expected to be large. <br> <br>\n",
    "\n",
    "It would be interesting to see the mosaic plot of Age_Group and the No-show Rate"
   ]
  },
  {
   "cell_type": "markdown",
   "metadata": {},
   "source": [
    "<strong>Q5.2. Given people in different age groups, what is the probability of people do not show up for their appointment?</strong>"
   ]
  },
  {
   "cell_type": "code",
   "execution_count": 121,
   "metadata": {
    "scrolled": false
   },
   "outputs": [
    {
     "data": {
      "image/png": "[encoded data removed]",
      "text/plain": [
       "<matplotlib.figure.Figure at 0x1a21d50eb8>"
      ]
     },
     "metadata": {},
     "output_type": "display_data"
    }
   ],
   "source": [
    "m=mosaic(record, [\"Age_Group\", \"No-show\"],title=\"Mosaic Plot for No-show Rate and Age Group\")"
   ]
  },
  {
   "cell_type": "markdown",
   "metadata": {},
   "source": [
    "From the mosaic plot, people in age groups 0-19, 20-39, 40-59 and 60-79 take the largest portion of the population. When given people in age groups of 0-19 and 20-39, the no-show rate is higher than people in other groups. The mosaic plot shows no-show rate is not independent from age groups."
   ]
  },
  {
   "cell_type": "markdown",
   "metadata": {},
   "source": [
    "**Q5.3: What is the correlation between no-show rate to age and to age group?**"
   ]
  },
  {
   "cell_type": "code",
   "execution_count": 35,
   "metadata": {},
   "outputs": [],
   "source": [
    "lookupTable, indexed_dataSet = np.unique(record[\"No-show\"], return_inverse=True)\n",
    "record[\"No-show-indexed\"] = indexed_dataSet"
   ]
  },
  {
   "cell_type": "markdown",
   "metadata": {},
   "source": [
    "The above two blocks of code indicate that \"No\" for no-show has been coded as 0, and \"Yes\" for no-show has been coded as 1."
   ]
  },
  {
   "cell_type": "code",
   "execution_count": 36,
   "metadata": {},
   "outputs": [
    {
     "name": "stdout",
     "output_type": "stream",
     "text": [
      "The coefficient of No-show and Age Group is -0.0635\n",
      "The coefficient of No-show and Age is -0.0603\n"
     ]
    }
   ],
   "source": [
    "print(\"The coefficient of No-show and Age Group is \"\n",
    "      + str(np.corrcoef(record[\"No-show-indexed\"], record[\"Age_Group\"])[0][1].round(4)))\n",
    "print(\"The coefficient of No-show and Age is \"\n",
    "      + str(np.corrcoef(record[\"No-show-indexed\"], record[\"Age\"])[0][1].round(4)))"
   ]
  },
  {
   "cell_type": "markdown",
   "metadata": {},
   "source": [
    "### Categorical Data"
   ]
  },
  {
   "cell_type": "markdown",
   "metadata": {},
   "source": [
    "To check the categorical data, I use value_counts() for each of the categorical variables"
   ]
  },
  {
   "cell_type": "code",
   "execution_count": 37,
   "metadata": {
    "scrolled": true
   },
   "outputs": [
    {
     "name": "stdout",
     "output_type": "stream",
     "text": [
      "Table for Gender with 2 categories\n",
      "F    71839\n",
      "M    38687\n",
      "Name: Gender, dtype: int64\n",
      "\n",
      "\n",
      "Table for Scholarship with 2 categories\n",
      "0    99665\n",
      "1    10861\n",
      "Name: Scholarship, dtype: int64\n",
      "\n",
      "\n",
      "Table for Hipertension with 2 categories\n",
      "0    88725\n",
      "1    21801\n",
      "Name: Hipertension, dtype: int64\n",
      "\n",
      "\n",
      "Table for Diabetes with 2 categories\n",
      "0    102583\n",
      "1      7943\n",
      "Name: Diabetes, dtype: int64\n",
      "\n",
      "\n",
      "Table for Neighbourhood with 81 categories\n",
      "JARDIM CAMBURI     7717\n",
      "MARIA ORTIZ        5805\n",
      "RESISTÊNCIA        4431\n",
      "JARDIM DA PENHA    3877\n",
      "ITARARÉ            3514\n",
      "CENTRO             3334\n",
      "TABUAZEIRO         3132\n",
      "Name: Neighbourhood, dtype: int64\n",
      "\n",
      "\n",
      "Table for Alcoholism with 2 categories\n",
      "0    107166\n",
      "1      3360\n",
      "Name: Alcoholism, dtype: int64\n",
      "\n",
      "\n",
      "Table for Handcap with 5 categories\n",
      "0    108285\n",
      "1      2042\n",
      "2       183\n",
      "3        13\n",
      "4         3\n",
      "Name: Handcap, dtype: int64\n",
      "\n",
      "\n",
      "Table for SMS_received with 2 categories\n",
      "0    75044\n",
      "1    35482\n",
      "Name: SMS_received, dtype: int64\n",
      "\n",
      "\n"
     ]
    }
   ],
   "source": [
    "cols = [\"Gender\", \"Scholarship\",\n",
    "        'Hipertension', \"Diabetes\", \"Neighbourhood\",\n",
    "        \"Alcoholism\", \"Handcap\", \"SMS_received\"]\n",
    "for col in cols:\n",
    "    print(\"Table for \" + col + \" with \" + str(len(record[col].value_counts()))+\" categories\")\n",
    "    print(record[col].value_counts()[0:7])\n",
    "    print(\"\\n\")\n",
    "    "
   ]
  },
  {
   "cell_type": "markdown",
   "metadata": {},
   "source": [
    "It is surprising to see that \"Handcap\" is not a binary value. According to this [post](https://www.kaggle.com/joniarroba/noshowappointments/discussion/29699), \"the handcap refers to the number of desabilites a person has\". If a person is both blind and deaf, Handicap for this person will show 2.  \n",
    "\n",
    "Although I could use almost the same way to determine the no show rate, I'd like to take a closer look at the correlations among variables."
   ]
  },
  {
   "cell_type": "markdown",
   "metadata": {},
   "source": [
    "**Q3.1 What is the correlation between all categorical variables?**"
   ]
  },
  {
   "cell_type": "markdown",
   "metadata": {},
   "source": [
    "This question can be answered both graphically or mathematically. I'd like to use the mathematical method to discover the correlation to avoid code repetition"
   ]
  },
  {
   "cell_type": "code",
   "execution_count": 38,
   "metadata": {},
   "outputs": [
    {
     "data": {
      "text/html": [
       "<div>\n",
       "<style scoped>\n",
       "    .dataframe tbody tr th:only-of-type {\n",
       "        vertical-align: middle;\n",
       "    }\n",
       "\n",
       "    .dataframe tbody tr th {\n",
       "        vertical-align: top;\n",
       "    }\n",
       "\n",
       "    .dataframe thead th {\n",
       "        text-align: right;\n",
       "    }\n",
       "</style>\n",
       "<table border=\"1\" class=\"dataframe\">\n",
       "  <thead>\n",
       "    <tr style=\"text-align: right;\">\n",
       "      <th></th>\n",
       "      <th>Gender</th>\n",
       "      <th>Scholarship</th>\n",
       "      <th>Hipertension</th>\n",
       "      <th>Diabetes</th>\n",
       "      <th>Alcoholism</th>\n",
       "      <th>SMS_received</th>\n",
       "      <th>No-show-indexed</th>\n",
       "      <th>Handcap_or_not</th>\n",
       "    </tr>\n",
       "  </thead>\n",
       "  <tbody>\n",
       "    <tr>\n",
       "      <th>Gender</th>\n",
       "      <td>1.000000</td>\n",
       "      <td>-0.114296</td>\n",
       "      <td>-0.055722</td>\n",
       "      <td>-0.032556</td>\n",
       "      <td>0.106166</td>\n",
       "      <td>-0.046302</td>\n",
       "      <td>-0.004122</td>\n",
       "      <td>0.022421</td>\n",
       "    </tr>\n",
       "    <tr>\n",
       "      <th>Scholarship</th>\n",
       "      <td>-0.114296</td>\n",
       "      <td>1.000000</td>\n",
       "      <td>-0.019730</td>\n",
       "      <td>-0.024894</td>\n",
       "      <td>0.035022</td>\n",
       "      <td>0.001192</td>\n",
       "      <td>0.029134</td>\n",
       "      <td>-0.009104</td>\n",
       "    </tr>\n",
       "    <tr>\n",
       "      <th>Hipertension</th>\n",
       "      <td>-0.055722</td>\n",
       "      <td>-0.019730</td>\n",
       "      <td>1.000000</td>\n",
       "      <td>0.433085</td>\n",
       "      <td>0.087970</td>\n",
       "      <td>-0.006270</td>\n",
       "      <td>-0.035704</td>\n",
       "      <td>0.084851</td>\n",
       "    </tr>\n",
       "    <tr>\n",
       "      <th>Diabetes</th>\n",
       "      <td>-0.032556</td>\n",
       "      <td>-0.024894</td>\n",
       "      <td>0.433085</td>\n",
       "      <td>1.000000</td>\n",
       "      <td>0.018473</td>\n",
       "      <td>-0.014552</td>\n",
       "      <td>-0.015181</td>\n",
       "      <td>0.059144</td>\n",
       "    </tr>\n",
       "    <tr>\n",
       "      <th>Alcoholism</th>\n",
       "      <td>0.106166</td>\n",
       "      <td>0.035022</td>\n",
       "      <td>0.087970</td>\n",
       "      <td>0.018473</td>\n",
       "      <td>1.000000</td>\n",
       "      <td>-0.026149</td>\n",
       "      <td>-0.000197</td>\n",
       "      <td>0.003692</td>\n",
       "    </tr>\n",
       "    <tr>\n",
       "      <th>SMS_received</th>\n",
       "      <td>-0.046302</td>\n",
       "      <td>0.001192</td>\n",
       "      <td>-0.006270</td>\n",
       "      <td>-0.014552</td>\n",
       "      <td>-0.026149</td>\n",
       "      <td>1.000000</td>\n",
       "      <td>0.126428</td>\n",
       "      <td>-0.025221</td>\n",
       "    </tr>\n",
       "    <tr>\n",
       "      <th>No-show-indexed</th>\n",
       "      <td>-0.004122</td>\n",
       "      <td>0.029134</td>\n",
       "      <td>-0.035704</td>\n",
       "      <td>-0.015181</td>\n",
       "      <td>-0.000197</td>\n",
       "      <td>0.126428</td>\n",
       "      <td>1.000000</td>\n",
       "      <td>-0.007281</td>\n",
       "    </tr>\n",
       "    <tr>\n",
       "      <th>Handcap_or_not</th>\n",
       "      <td>0.022421</td>\n",
       "      <td>-0.009104</td>\n",
       "      <td>0.084851</td>\n",
       "      <td>0.059144</td>\n",
       "      <td>0.003692</td>\n",
       "      <td>-0.025221</td>\n",
       "      <td>-0.007281</td>\n",
       "      <td>1.000000</td>\n",
       "    </tr>\n",
       "  </tbody>\n",
       "</table>\n",
       "</div>"
      ],
      "text/plain": [
       "                   Gender  Scholarship  Hipertension  Diabetes  Alcoholism  \\\n",
       "Gender           1.000000    -0.114296     -0.055722 -0.032556    0.106166   \n",
       "Scholarship     -0.114296     1.000000     -0.019730 -0.024894    0.035022   \n",
       "Hipertension    -0.055722    -0.019730      1.000000  0.433085    0.087970   \n",
       "Diabetes        -0.032556    -0.024894      0.433085  1.000000    0.018473   \n",
       "Alcoholism       0.106166     0.035022      0.087970  0.018473    1.000000   \n",
       "SMS_received    -0.046302     0.001192     -0.006270 -0.014552   -0.026149   \n",
       "No-show-indexed -0.004122     0.029134     -0.035704 -0.015181   -0.000197   \n",
       "Handcap_or_not   0.022421    -0.009104      0.084851  0.059144    0.003692   \n",
       "\n",
       "                 SMS_received  No-show-indexed  Handcap_or_not  \n",
       "Gender              -0.046302        -0.004122        0.022421  \n",
       "Scholarship          0.001192         0.029134       -0.009104  \n",
       "Hipertension        -0.006270        -0.035704        0.084851  \n",
       "Diabetes            -0.014552        -0.015181        0.059144  \n",
       "Alcoholism          -0.026149        -0.000197        0.003692  \n",
       "SMS_received         1.000000         0.126428       -0.025221  \n",
       "No-show-indexed      0.126428         1.000000       -0.007281  \n",
       "Handcap_or_not      -0.025221        -0.007281        1.000000  "
      ]
     },
     "execution_count": 38,
     "metadata": {},
     "output_type": "execute_result"
    }
   ],
   "source": [
    "cols.extend([\"No-show-indexed\"])\n",
    "subdf = record[cols].copy()\n",
    "subdf.loc[:, \"Gender\"].replace({\"F\":0, \"M\":1}, inplace=True)\n",
    "subdf.loc[:, \"Handcap_or_not\"] = subdf.loc[:, \"Handcap\"].replace({2:1, 3:1, 4:1})\n",
    "subdf.drop(columns=[\"Handcap\"], inplace=True)\n",
    "subdf.corr()"
   ]
  },
  {
   "cell_type": "code",
   "execution_count": 114,
   "metadata": {},
   "outputs": [
    {
     "data": {
      "image/png": "[encoded data removed]",
      "text/plain": [
       "<matplotlib.figure.Figure at 0x1a1baebef0>"
      ]
     },
     "metadata": {},
     "output_type": "display_data"
    }
   ],
   "source": [
    "plt.matshow(subdf.corr())\n",
    "plt.title(\"Correlation Heatmap for Categorical Variables\")\n",
    "plt.ylabel(\"Categorical Variables\")\n",
    "plt.yticks(np.arange(8), list(subdf))\n",
    "plt.xlabel(\"Categorical Variables\")\n",
    "plt.xticks(np.arange(8), list(subdf), rotation='vertical')\n",
    "plt.tick_params(axis='x', bottom=True, labelbottom=True, labeltop=False)\n"
   ]
  },
  {
   "cell_type": "code",
   "execution_count": 169,
   "metadata": {},
   "outputs": [
    {
     "data": {
      "text/plain": [
       "0.43"
      ]
     },
     "execution_count": 169,
     "metadata": {},
     "output_type": "execute_result"
    }
   ],
   "source": [
    "np.corrcoef(record[\"Diabetes\"].tolist(), record[\"Hipertension\"].tolist())[0][1].round(2)"
   ]
  },
  {
   "cell_type": "markdown",
   "metadata": {},
   "source": [
    "The correlation coefficient for Hipertension and Diabetes is 0.42, and is much higher than the correlation for any other pairs of variables. To further demonstrate this, I created a mosaic plot."
   ]
  },
  {
   "cell_type": "code",
   "execution_count": 124,
   "metadata": {},
   "outputs": [
    {
     "data": {
      "image/png": "[encoded data removed]",
      "text/plain": [
       "<matplotlib.figure.Figure at 0x1a233827b8>"
      ]
     },
     "metadata": {},
     "output_type": "display_data"
    }
   ],
   "source": [
    "observe_corr = pd.DataFrame(record[[\"Diabetes\", \"Hipertension\"]]).copy()\n",
    "observe_corr[\"Diabetes\"].replace({0: \"W/o Diabetes\", 1:\"W Diabetes\"}, inplace=True)\n",
    "observe_corr[\"Hipertension\"].replace({0:\"W/o Hipertension\", 1:\"W Hipertension\"}, inplace=True)\n",
    "\n",
    "mos=mosaic(observe_corr, [\"Diabetes\", \"Hipertension\"], title=\"Mosaic Plot for Diabetes and Hipertension\")"
   ]
  },
  {
   "cell_type": "markdown",
   "metadata": {},
   "source": [
    "The mosaic plot shows a big difference on the possibiity of Hipertension is Yes given diabete is No, and the possibilty of Hipertension is Yes given diabete is yes, which means Hipertension and Diabete are not independent variables."
   ]
  },
  {
   "cell_type": "markdown",
   "metadata": {},
   "source": [
    "## No-show vs Gender"
   ]
  },
  {
   "cell_type": "markdown",
   "metadata": {},
   "source": [
    "**Q6: Does gender affect no-show rate?**"
   ]
  },
  {
   "cell_type": "markdown",
   "metadata": {},
   "source": [
    "**Q7: From the result of no show rate vs gender, what can we conclude from other categorical data?**"
   ]
  },
  {
   "cell_type": "markdown",
   "metadata": {},
   "source": [
    "Since the correlation table above indicates a low correlation between gender and no-show rate. I guess that gender does not affect no-show rate. In the following code, I will show whether my assumption is correct or not."
   ]
  },
  {
   "cell_type": "code",
   "execution_count": 75,
   "metadata": {},
   "outputs": [
    {
     "data": {
      "image/png": "[encoded data removed]",
      "text/plain": [
       "<matplotlib.figure.Figure at 0x1a1d900cc0>"
      ]
     },
     "metadata": {},
     "output_type": "display_data"
    }
   ],
   "source": [
    "ms = mosaic(record,[\"Gender\", \"No-show\"], title=\"Mosaic Plot for Gender and No-show rate\")"
   ]
  },
  {
   "cell_type": "code",
   "execution_count": 76,
   "metadata": {},
   "outputs": [
    {
     "data": {
      "text/html": [
       "<div>\n",
       "<style scoped>\n",
       "    .dataframe tbody tr th:only-of-type {\n",
       "        vertical-align: middle;\n",
       "    }\n",
       "\n",
       "    .dataframe tbody tr th {\n",
       "        vertical-align: top;\n",
       "    }\n",
       "\n",
       "    .dataframe thead th {\n",
       "        text-align: right;\n",
       "    }\n",
       "</style>\n",
       "<table border=\"1\" class=\"dataframe\">\n",
       "  <thead>\n",
       "    <tr style=\"text-align: right;\">\n",
       "      <th></th>\n",
       "      <th>No_Show</th>\n",
       "      <th>Show</th>\n",
       "      <th>No_Show_Rate</th>\n",
       "    </tr>\n",
       "  </thead>\n",
       "  <tbody>\n",
       "    <tr>\n",
       "      <th>F</th>\n",
       "      <td>14591</td>\n",
       "      <td>57245</td>\n",
       "      <td>0.203115</td>\n",
       "    </tr>\n",
       "    <tr>\n",
       "      <th>M</th>\n",
       "      <td>7723</td>\n",
       "      <td>30962</td>\n",
       "      <td>0.199638</td>\n",
       "    </tr>\n",
       "  </tbody>\n",
       "</table>\n",
       "</div>"
      ],
      "text/plain": [
       "   No_Show   Show  No_Show_Rate\n",
       "F    14591  57245      0.203115\n",
       "M     7723  30962      0.199638"
      ]
     },
     "execution_count": 76,
     "metadata": {},
     "output_type": "execute_result"
    }
   ],
   "source": [
    "no_show_dict = {}\n",
    "show_dict = {}\n",
    "no_show_dict[\"F\"] = len(record[(record[\"Gender\"] == \"F\") &(record[\"No-show\"]==\"Yes\")])\n",
    "no_show_dict[\"M\"] = len(record[(record[\"Gender\"] == \"M\") &(record[\"No-show\"]==\"Yes\")])\n",
    "show_dict[\"F\"] = len(record[(record[\"Gender\"] == \"F\") & (record[\"No-show\"]==\"No\")])\n",
    "show_dict[\"M\"] = len(record[(record[\"Gender\"] == \"M\") & (record[\"No-show\"]==\"No\")])\n",
    "\n",
    "df_gender_group = pd.DataFrame(data=[no_show_dict,show_dict]).T\n",
    "df_gender_group.rename(columns={0:'No_Show', 1:\"Show\"}, inplace=True)\n",
    "df_gender_group[\"No_Show_Rate\"] = df_gender_group[\"No_Show\"]/(df_gender_group[\"No_Show\"]+df_gender_group[\"Show\"])\n",
    "df_gender_group"
   ]
  },
  {
   "cell_type": "code",
   "execution_count": 77,
   "metadata": {},
   "outputs": [
    {
     "data": {
      "text/plain": [
       "<matplotlib.legend.Legend at 0x1a1d616dd8>"
      ]
     },
     "execution_count": 77,
     "metadata": {},
     "output_type": "execute_result"
    },
    {
     "data": {
      "image/png": "[encoded data removed]",
      "text/plain": [
       "<matplotlib.figure.Figure at 0x114e8c668>"
      ]
     },
     "metadata": {},
     "output_type": "display_data"
    }
   ],
   "source": [
    "p1 = plt.bar(np.arange(2), df_gender_group[\"No_Show\"])\n",
    "p2 = plt.bar(np.arange(2), df_gender_group[\"Show\"], bottom=df_gender_group[\"No_Show\"])\n",
    "\n",
    "plt.title('No Show Rate by Gender Group')\n",
    "plt.ylabel('Number of Patients')\n",
    "plt.xticks(np.arange(2), (\"Female\", \"Male\"))\n",
    "plt.legend((p1[0], p2[0]), ('No Show', 'Showed'))"
   ]
  },
  {
   "cell_type": "markdown",
   "metadata": {},
   "source": [
    "**Conclusion to Q6 and Q7 **"
   ]
  },
  {
   "cell_type": "markdown",
   "metadata": {},
   "source": [
    "From both the table and the mosaic plot, it seems no show rate is gender independent, which means, no matter you are female or male, the difference of no show rate is insignificant, this matches what is given from the correlation table. Therefore, we can safely guess that Hipertension, Diabetes, Alcoholism and Handcap are slightly negatively correlated to no-show. However, the correlation is small. We would expect to see patients with hipertension, diabetes, alcoholism or handcap show up at their appointment a bit more frequent than those who don't have the diseases, but the difference won't be significant.\n",
    "\n",
    "On the other hand, Scholarship and SMS received are positively correlated to no-show. If one receives a scholarship or receives an SMS message, the patient is less likely to show up to their appointment. The SMS_received shows a slightly higher correlation than other explanatory variables. This contradicts to my instinct, so I will explore this further."
   ]
  },
  {
   "cell_type": "markdown",
   "metadata": {},
   "source": [
    "**Q8: What is the relationship between SMS_received and No-show?**"
   ]
  },
  {
   "cell_type": "code",
   "execution_count": 97,
   "metadata": {},
   "outputs": [
    {
     "data": {
      "text/plain": [
       "Text(0.5,1,'Mosaic Plot for SMS_received and No-show Rate')"
      ]
     },
     "execution_count": 97,
     "metadata": {},
     "output_type": "execute_result"
    },
    {
     "data": {
      "image/png": "[encoded data removed]",
      "text/plain": [
       "<matplotlib.figure.Figure at 0x1a20d31978>"
      ]
     },
     "metadata": {},
     "output_type": "display_data"
    }
   ],
   "source": [
    "sms_no_show = record[[\"SMS_received\", \"No-show\"]].copy()\n",
    "sms_no_show.loc[:,\"SMS_received\"].replace({0: \"SMS_not_received\", 1:\"SMS_received\"}, inplace=True)\n",
    "ms2 =mosaic(sms_no_show,[\"SMS_received\", \"No-show\"])\n",
    "plt.title(\"Mosaic Plot for SMS_received and No-show Rate\")"
   ]
  },
  {
   "cell_type": "markdown",
   "metadata": {},
   "source": [
    "The mosaic plot tells the same thing as we found from the correlation table. It could be the case that there are too few people received the message, so that the no-show rate for people received SMS has a big margin of error."
   ]
  },
  {
   "cell_type": "code",
   "execution_count": 80,
   "metadata": {
    "scrolled": false
   },
   "outputs": [
    {
     "data": {
      "text/html": [
       "<div>\n",
       "<style scoped>\n",
       "    .dataframe tbody tr th:only-of-type {\n",
       "        vertical-align: middle;\n",
       "    }\n",
       "\n",
       "    .dataframe tbody tr th {\n",
       "        vertical-align: top;\n",
       "    }\n",
       "\n",
       "    .dataframe thead th {\n",
       "        text-align: right;\n",
       "    }\n",
       "</style>\n",
       "<table border=\"1\" class=\"dataframe\">\n",
       "  <thead>\n",
       "    <tr style=\"text-align: right;\">\n",
       "      <th></th>\n",
       "      <th>SMS_received</th>\n",
       "      <th>No-show</th>\n",
       "      <th>show</th>\n",
       "      <th>No-show-rate</th>\n",
       "      <th>Total-people</th>\n",
       "    </tr>\n",
       "  </thead>\n",
       "  <tbody>\n",
       "    <tr>\n",
       "      <th>0</th>\n",
       "      <td>0</td>\n",
       "      <td>12530</td>\n",
       "      <td>62509</td>\n",
       "      <td>0.166980</td>\n",
       "      <td>75039</td>\n",
       "    </tr>\n",
       "    <tr>\n",
       "      <th>1</th>\n",
       "      <td>1</td>\n",
       "      <td>9784</td>\n",
       "      <td>25698</td>\n",
       "      <td>0.275745</td>\n",
       "      <td>35482</td>\n",
       "    </tr>\n",
       "  </tbody>\n",
       "</table>\n",
       "</div>"
      ],
      "text/plain": [
       "   SMS_received  No-show   show  No-show-rate  Total-people\n",
       "0             0    12530  62509      0.166980         75039\n",
       "1             1     9784  25698      0.275745         35482"
      ]
     },
     "execution_count": 80,
     "metadata": {},
     "output_type": "execute_result"
    }
   ],
   "source": [
    "sms_no_show =record[[\"SMS_received\",\"No-show\"]].copy()\n",
    "sms_no_show.loc[:,\"show\"] = sms_no_show[\"No-show\"]\n",
    "sms_no_show.loc[:,\"show\"].replace({\"Yes\": 0, \"No\":1}, inplace=True)\n",
    "sms_no_show.loc[:,\"No-show\"].replace({\"Yes\": 1, \"No\":0}, inplace=True)\n",
    "sms= sms_no_show.groupby(sms_no_show[\"SMS_received\"]).sum()[[\"No-show\", \"show\"]]\n",
    "sms.reset_index(inplace=True)\n",
    "sms[\"No-show-rate\"] = sms[\"No-show\"] /(sms[\"No-show\"] + sms[\"show\"])\n",
    "sms[\"Total-people\"] = sms[\"No-show\"] + sms[\"show\"]\n",
    "sms"
   ]
  },
  {
   "cell_type": "markdown",
   "metadata": {},
   "source": [
    "Since the sample size is large, we would expect a small range for 95% confidence intervals."
   ]
  },
  {
   "cell_type": "markdown",
   "metadata": {},
   "source": [
    "**Q9: What is the confidence interval for no show rate given SMS-received or not received?**"
   ]
  },
  {
   "cell_type": "code",
   "execution_count": 81,
   "metadata": {},
   "outputs": [
    {
     "name": "stdout",
     "output_type": "stream",
     "text": [
      "The upper bound for SMS not received is 0.1641 The lower bound for SMS not receive is 0.1699\n"
     ]
    }
   ],
   "source": [
    "no_sms = poisson.interval(alpha=0.95, mu=sms.loc[0,\"No-show\"])/sms.loc[0, \"Total-people\"]\n",
    "print (\"The upper bound for SMS not received is\", str(no_sms[0].round(4)),\n",
    "      \"The lower bound for SMS not receive is\", str(no_sms[1].round(4)))"
   ]
  },
  {
   "cell_type": "code",
   "execution_count": 82,
   "metadata": {},
   "outputs": [
    {
     "name": "stdout",
     "output_type": "stream",
     "text": [
      "The upper bound for SMS received is 0.2703 The lower bound for SMS receive is 0.2812\n"
     ]
    }
   ],
   "source": [
    "yes_sms = poisson.interval(alpha=0.95, mu=sms.loc[1,\"No-show\"])/sms.loc[1, \"Total-people\"]\n",
    "print (\"The upper bound for SMS received is\", str(yes_sms[0].round(4)),\n",
    "      \"The lower bound for SMS receive is\", str(yes_sms[1].round(4)))"
   ]
  },
  {
   "cell_type": "markdown",
   "metadata": {},
   "source": [
    "**Q10: How is no-show rate distributed from city to city?**"
   ]
  },
  {
   "cell_type": "markdown",
   "metadata": {},
   "source": [
    "Now, let's create a heatmap for neighbourhood distribution"
   ]
  },
  {
   "cell_type": "code",
   "execution_count": 83,
   "metadata": {},
   "outputs": [
    {
     "data": {
      "text/plain": [
       "Text(0.5,1,'Heatmap for Neighbourhood and No-show Rate')"
      ]
     },
     "execution_count": 83,
     "metadata": {},
     "output_type": "execute_result"
    },
    {
     "data": {
      "image/png": "[encoded data removed]",
      "text/plain": [
       "<matplotlib.figure.Figure at 0x110a1ab70>"
      ]
     },
     "metadata": {},
     "output_type": "display_data"
    }
   ],
   "source": [
    "neighbour_no_show =record[[\"Neighbourhood\",\"No-show\"]].copy()\n",
    "neighbour_no_show.loc[:,\"show\"] = neighbour_no_show[\"No-show\"]\n",
    "neighbour_no_show.loc[:,\"show\"].replace({\"Yes\": 0, \"No\":1}, inplace=True)\n",
    "neighbour_no_show.loc[:,\"No-show\"].replace({\"Yes\": 1, \"No\":0}, inplace=True)\n",
    "new_df = neighbour_no_show.groupby(neighbour_no_show[\"Neighbourhood\"]).sum()\n",
    "new_df.loc[:,\"total-people\"] = new_df[\"No-show\"]+new_df[\"show\"]\n",
    "new_df.loc[:,\"No-show-rate\"] = new_df[\"No-show\"]/new_df.loc[:,\"total-people\"]\n",
    "heatmap(pd.DataFrame(new_df[\"No-show-rate\"]), cmap=\"YlGnBu\")\n",
    "plt.title(\"Heatmap for Neighbourhood and No-show Rate\")"
   ]
  },
  {
   "cell_type": "markdown",
   "metadata": {},
   "source": [
    "According tbo the heatmap, most of the areas have number of people did not show up between 0-250. However, A few areas clearly have higher no-show rate. Let's take a closer look."
   ]
  },
  {
   "cell_type": "code",
   "execution_count": 84,
   "metadata": {},
   "outputs": [],
   "source": [
    "new_df.reset_index(inplace=True)"
   ]
  },
  {
   "cell_type": "code",
   "execution_count": 85,
   "metadata": {},
   "outputs": [
    {
     "data": {
      "text/plain": [
       "count    81.000000\n",
       "mean      0.205408\n",
       "std       0.097235\n",
       "min       0.000000\n",
       "25%       0.179907\n",
       "50%       0.197588\n",
       "75%       0.217454\n",
       "max       1.000000\n",
       "Name: No-show-rate, dtype: float64"
      ]
     },
     "execution_count": 85,
     "metadata": {},
     "output_type": "execute_result"
    }
   ],
   "source": [
    "summary_new_df = new_df[\"No-show-rate\"].describe()\n",
    "summary_new_df"
   ]
  },
  {
   "cell_type": "code",
   "execution_count": 89,
   "metadata": {},
   "outputs": [
    {
     "data": {
      "text/plain": [
       "Text(0.5,0,'No-show Rate')"
      ]
     },
     "execution_count": 89,
     "metadata": {},
     "output_type": "execute_result"
    },
    {
     "data": {
      "image/png": "[encoded data removed]",
      "text/plain": [
       "<matplotlib.figure.Figure at 0x1151ff6d8>"
      ]
     },
     "metadata": {},
     "output_type": "display_data"
    }
   ],
   "source": [
    "box_plot = plt.boxplot(new_df[\"No-show-rate\"], vert=False)\n",
    "plt.title(\"Box plot for No-show Rate\")\n",
    "plt.ylabel(\"No-show Rate\")\n",
    "plt.yticks(np.arange(1), \"\")\n",
    "plt.xlabel(\"No-show Rate\")"
   ]
  },
  {
   "cell_type": "code",
   "execution_count": 87,
   "metadata": {},
   "outputs": [
    {
     "data": {
      "text/html": [
       "<div>\n",
       "<style scoped>\n",
       "    .dataframe tbody tr th:only-of-type {\n",
       "        vertical-align: middle;\n",
       "    }\n",
       "\n",
       "    .dataframe tbody tr th {\n",
       "        vertical-align: top;\n",
       "    }\n",
       "\n",
       "    .dataframe thead th {\n",
       "        text-align: right;\n",
       "    }\n",
       "</style>\n",
       "<table border=\"1\" class=\"dataframe\">\n",
       "  <thead>\n",
       "    <tr style=\"text-align: right;\">\n",
       "      <th></th>\n",
       "      <th>Neighbourhood</th>\n",
       "      <th>No-show</th>\n",
       "      <th>show</th>\n",
       "      <th>total-people</th>\n",
       "      <th>No-show-rate</th>\n",
       "    </tr>\n",
       "  </thead>\n",
       "  <tbody>\n",
       "    <tr>\n",
       "      <th>34</th>\n",
       "      <td>ILHAS OCEÂNICAS DE TRINDADE</td>\n",
       "      <td>2</td>\n",
       "      <td>0</td>\n",
       "      <td>2</td>\n",
       "      <td>1.000000</td>\n",
       "    </tr>\n",
       "    <tr>\n",
       "      <th>61</th>\n",
       "      <td>SANTA CECÍLIA</td>\n",
       "      <td>123</td>\n",
       "      <td>325</td>\n",
       "      <td>448</td>\n",
       "      <td>0.274554</td>\n",
       "    </tr>\n",
       "    <tr>\n",
       "      <th>70</th>\n",
       "      <td>SANTOS DUMONT</td>\n",
       "      <td>369</td>\n",
       "      <td>907</td>\n",
       "      <td>1276</td>\n",
       "      <td>0.289185</td>\n",
       "    </tr>\n",
       "  </tbody>\n",
       "</table>\n",
       "</div>"
      ],
      "text/plain": [
       "                  Neighbourhood  No-show  show  total-people  No-show-rate\n",
       "34  ILHAS OCEÂNICAS DE TRINDADE        2     0             2      1.000000\n",
       "61                SANTA CECÍLIA      123   325           448      0.274554\n",
       "70                SANTOS DUMONT      369   907          1276      0.289185"
      ]
     },
     "execution_count": 87,
     "metadata": {},
     "output_type": "execute_result"
    }
   ],
   "source": [
    "upper_bound = summary_new_df[\"75%\"] + 1.5*(summary_new_df[\"75%\"]-summary_new_df[\"25%\"] )\n",
    "upper_bound\n",
    "new_df[new_df[\"No-show-rate\"] > upper_bound]"
   ]
  },
  {
   "cell_type": "markdown",
   "metadata": {},
   "source": [
    "The upper \"whisker\" for the box plot is at 0.27, and the neighbourhood with highest no-show rate is ILHAS OCEÂNICAS DE TRINDADE, however, it has a low study population with total record of 2. We would expect the error for this entry is bigger than the cities with higher study population. Hence, I decided to make a barplot with no-show-rate and 95% confidence interval as error bars."
   ]
  },
  {
   "cell_type": "code",
   "execution_count": 183,
   "metadata": {},
   "outputs": [
    {
     "data": {
      "text/html": [
       "<div>\n",
       "<style scoped>\n",
       "    .dataframe tbody tr th:only-of-type {\n",
       "        vertical-align: middle;\n",
       "    }\n",
       "\n",
       "    .dataframe tbody tr th {\n",
       "        vertical-align: top;\n",
       "    }\n",
       "\n",
       "    .dataframe thead th {\n",
       "        text-align: right;\n",
       "    }\n",
       "</style>\n",
       "<table border=\"1\" class=\"dataframe\">\n",
       "  <thead>\n",
       "    <tr style=\"text-align: right;\">\n",
       "      <th></th>\n",
       "      <th>Neighbourhood</th>\n",
       "      <th>No-show-rate</th>\n",
       "      <th>No-show</th>\n",
       "      <th>total-people</th>\n",
       "    </tr>\n",
       "  </thead>\n",
       "  <tbody>\n",
       "    <tr>\n",
       "      <th>34</th>\n",
       "      <td>ILHAS OCEÂNICAS DE TRINDADE</td>\n",
       "      <td>1.000000</td>\n",
       "      <td>2</td>\n",
       "      <td>2</td>\n",
       "    </tr>\n",
       "    <tr>\n",
       "      <th>70</th>\n",
       "      <td>SANTOS DUMONT</td>\n",
       "      <td>0.289185</td>\n",
       "      <td>369</td>\n",
       "      <td>1276</td>\n",
       "    </tr>\n",
       "    <tr>\n",
       "      <th>61</th>\n",
       "      <td>SANTA CECÍLIA</td>\n",
       "      <td>0.274554</td>\n",
       "      <td>123</td>\n",
       "      <td>448</td>\n",
       "    </tr>\n",
       "    <tr>\n",
       "      <th>62</th>\n",
       "      <td>SANTA CLARA</td>\n",
       "      <td>0.264822</td>\n",
       "      <td>134</td>\n",
       "      <td>506</td>\n",
       "    </tr>\n",
       "    <tr>\n",
       "      <th>36</th>\n",
       "      <td>ITARARÉ</td>\n",
       "      <td>0.262664</td>\n",
       "      <td>923</td>\n",
       "      <td>3514</td>\n",
       "    </tr>\n",
       "    <tr>\n",
       "      <th>40</th>\n",
       "      <td>JESUS DE NAZARETH</td>\n",
       "      <td>0.243954</td>\n",
       "      <td>696</td>\n",
       "      <td>2853</td>\n",
       "    </tr>\n",
       "    <tr>\n",
       "      <th>28</th>\n",
       "      <td>HORTO</td>\n",
       "      <td>0.240000</td>\n",
       "      <td>42</td>\n",
       "      <td>175</td>\n",
       "    </tr>\n",
       "    <tr>\n",
       "      <th>33</th>\n",
       "      <td>ILHA DO PRÍNCIPE</td>\n",
       "      <td>0.234775</td>\n",
       "      <td>532</td>\n",
       "      <td>2266</td>\n",
       "    </tr>\n",
       "    <tr>\n",
       "      <th>9</th>\n",
       "      <td>CARATOÍRA</td>\n",
       "      <td>0.230409</td>\n",
       "      <td>591</td>\n",
       "      <td>2565</td>\n",
       "    </tr>\n",
       "    <tr>\n",
       "      <th>1</th>\n",
       "      <td>ANDORINHAS</td>\n",
       "      <td>0.230327</td>\n",
       "      <td>521</td>\n",
       "      <td>2262</td>\n",
       "    </tr>\n",
       "  </tbody>\n",
       "</table>\n",
       "</div>"
      ],
      "text/plain": [
       "                  Neighbourhood  No-show-rate  No-show  total-people\n",
       "34  ILHAS OCEÂNICAS DE TRINDADE      1.000000        2             2\n",
       "70                SANTOS DUMONT      0.289185      369          1276\n",
       "61                SANTA CECÍLIA      0.274554      123           448\n",
       "62                  SANTA CLARA      0.264822      134           506\n",
       "36                      ITARARÉ      0.262664      923          3514\n",
       "40            JESUS DE NAZARETH      0.243954      696          2853\n",
       "28                        HORTO      0.240000       42           175\n",
       "33             ILHA DO PRÍNCIPE      0.234775      532          2266\n",
       "9                     CARATOÍRA      0.230409      591          2565\n",
       "1                    ANDORINHAS      0.230327      521          2262"
      ]
     },
     "execution_count": 183,
     "metadata": {},
     "output_type": "execute_result"
    }
   ],
   "source": [
    "ten_highest_no_show = new_df[new_df[\"No-show-rate\"] > summary_new_df[\"75%\"]][[\"Neighbourhood\", \"No-show-rate\", \"No-show\", \"total-people\"]].sort_values(by=\"No-show-rate\", ascending=False)[:10]\n",
    "ten_highest_no_show"
   ]
  },
  {
   "cell_type": "code",
   "execution_count": 184,
   "metadata": {},
   "outputs": [
    {
     "data": {
      "text/html": [
       "<div>\n",
       "<style scoped>\n",
       "    .dataframe tbody tr th:only-of-type {\n",
       "        vertical-align: middle;\n",
       "    }\n",
       "\n",
       "    .dataframe tbody tr th {\n",
       "        vertical-align: top;\n",
       "    }\n",
       "\n",
       "    .dataframe thead th {\n",
       "        text-align: right;\n",
       "    }\n",
       "</style>\n",
       "<table border=\"1\" class=\"dataframe\">\n",
       "  <thead>\n",
       "    <tr style=\"text-align: right;\">\n",
       "      <th></th>\n",
       "      <th>Neighbourhood</th>\n",
       "      <th>No-show-rate</th>\n",
       "      <th>No-show</th>\n",
       "      <th>total-people</th>\n",
       "      <th>Lower</th>\n",
       "      <th>Upper</th>\n",
       "    </tr>\n",
       "  </thead>\n",
       "  <tbody>\n",
       "    <tr>\n",
       "      <th>34</th>\n",
       "      <td>ILHAS OCEÂNICAS DE TRINDADE</td>\n",
       "      <td>1.000000</td>\n",
       "      <td>2</td>\n",
       "      <td>2</td>\n",
       "      <td>0.000000</td>\n",
       "      <td>2.500000</td>\n",
       "    </tr>\n",
       "    <tr>\n",
       "      <th>70</th>\n",
       "      <td>SANTOS DUMONT</td>\n",
       "      <td>0.289185</td>\n",
       "      <td>369</td>\n",
       "      <td>1276</td>\n",
       "      <td>0.260188</td>\n",
       "      <td>0.318966</td>\n",
       "    </tr>\n",
       "    <tr>\n",
       "      <th>61</th>\n",
       "      <td>SANTA CECÍLIA</td>\n",
       "      <td>0.274554</td>\n",
       "      <td>123</td>\n",
       "      <td>448</td>\n",
       "      <td>0.227679</td>\n",
       "      <td>0.323661</td>\n",
       "    </tr>\n",
       "    <tr>\n",
       "      <th>62</th>\n",
       "      <td>SANTA CLARA</td>\n",
       "      <td>0.264822</td>\n",
       "      <td>134</td>\n",
       "      <td>506</td>\n",
       "      <td>0.221344</td>\n",
       "      <td>0.310277</td>\n",
       "    </tr>\n",
       "    <tr>\n",
       "      <th>36</th>\n",
       "      <td>ITARARÉ</td>\n",
       "      <td>0.262664</td>\n",
       "      <td>923</td>\n",
       "      <td>3514</td>\n",
       "      <td>0.245874</td>\n",
       "      <td>0.279738</td>\n",
       "    </tr>\n",
       "    <tr>\n",
       "      <th>40</th>\n",
       "      <td>JESUS DE NAZARETH</td>\n",
       "      <td>0.243954</td>\n",
       "      <td>696</td>\n",
       "      <td>2853</td>\n",
       "      <td>0.226078</td>\n",
       "      <td>0.262180</td>\n",
       "    </tr>\n",
       "    <tr>\n",
       "      <th>28</th>\n",
       "      <td>HORTO</td>\n",
       "      <td>0.240000</td>\n",
       "      <td>42</td>\n",
       "      <td>175</td>\n",
       "      <td>0.171429</td>\n",
       "      <td>0.314286</td>\n",
       "    </tr>\n",
       "    <tr>\n",
       "      <th>33</th>\n",
       "      <td>ILHA DO PRÍNCIPE</td>\n",
       "      <td>0.234775</td>\n",
       "      <td>532</td>\n",
       "      <td>2266</td>\n",
       "      <td>0.214916</td>\n",
       "      <td>0.255075</td>\n",
       "    </tr>\n",
       "    <tr>\n",
       "      <th>9</th>\n",
       "      <td>CARATOÍRA</td>\n",
       "      <td>0.230409</td>\n",
       "      <td>591</td>\n",
       "      <td>2565</td>\n",
       "      <td>0.212086</td>\n",
       "      <td>0.249123</td>\n",
       "    </tr>\n",
       "    <tr>\n",
       "      <th>1</th>\n",
       "      <td>ANDORINHAS</td>\n",
       "      <td>0.230327</td>\n",
       "      <td>521</td>\n",
       "      <td>2262</td>\n",
       "      <td>0.210875</td>\n",
       "      <td>0.250221</td>\n",
       "    </tr>\n",
       "  </tbody>\n",
       "</table>\n",
       "</div>"
      ],
      "text/plain": [
       "                  Neighbourhood  No-show-rate  No-show  total-people  \\\n",
       "34  ILHAS OCEÂNICAS DE TRINDADE      1.000000        2             2   \n",
       "70                SANTOS DUMONT      0.289185      369          1276   \n",
       "61                SANTA CECÍLIA      0.274554      123           448   \n",
       "62                  SANTA CLARA      0.264822      134           506   \n",
       "36                      ITARARÉ      0.262664      923          3514   \n",
       "40            JESUS DE NAZARETH      0.243954      696          2853   \n",
       "28                        HORTO      0.240000       42           175   \n",
       "33             ILHA DO PRÍNCIPE      0.234775      532          2266   \n",
       "9                     CARATOÍRA      0.230409      591          2565   \n",
       "1                    ANDORINHAS      0.230327      521          2262   \n",
       "\n",
       "       Lower     Upper  \n",
       "34  0.000000  2.500000  \n",
       "70  0.260188  0.318966  \n",
       "61  0.227679  0.323661  \n",
       "62  0.221344  0.310277  \n",
       "36  0.245874  0.279738  \n",
       "40  0.226078  0.262180  \n",
       "28  0.171429  0.314286  \n",
       "33  0.214916  0.255075  \n",
       "9   0.212086  0.249123  \n",
       "1   0.210875  0.250221  "
      ]
     },
     "execution_count": 184,
     "metadata": {},
     "output_type": "execute_result"
    }
   ],
   "source": [
    "get_poisson = lambda x: poisson.interval(alpha=0.95, mu=x)\n",
    "vfunc = np.vectorize(get_poisson)\n",
    "ten_highest_no_show[\"Lower\"] = vfunc(ten_highest_no_show[\"No-show\"].tolist())[0]/ten_highest_no_show[\"total-people\"]\n",
    "ten_highest_no_show[\"Upper\"] = vfunc(ten_highest_no_show[\"No-show\"].tolist())[1]/ten_highest_no_show[\"total-people\"]\n",
    "ten_highest_no_show"
   ]
  },
  {
   "cell_type": "code",
   "execution_count": 282,
   "metadata": {
    "scrolled": true
   },
   "outputs": [
    {
     "data": {
      "text/plain": [
       "(0, 1)"
      ]
     },
     "execution_count": 282,
     "metadata": {},
     "output_type": "execute_result"
    },
    {
     "data": {
      "image/png": "[encoded data removed]",
      "text/plain": [
       "<matplotlib.figure.Figure at 0x1a33b04438>"
      ]
     },
     "metadata": {},
     "output_type": "display_data"
    }
   ],
   "source": [
    "fig, ax = plt.subplots()\n",
    "error = [ ten_highest_no_show[\"Lower\"], ten_highest_no_show[\"Upper\"],]\n",
    "y_pos = np.arange(len(ten_highest_no_show))\n",
    "ax.barh(y_pos, ten_highest_no_show[\"No-show-rate\"], xerr=error,\n",
    "        color='steelblue')\n",
    "ax.set_yticks(y_pos)\n",
    "ax.set_yticklabels(ten_highest_no_show[\"Neighbourhood\"])\n",
    "ax.invert_yaxis()\n",
    "ax.set_xlabel('No Show Rate')\n",
    "ax.set_title('The highest 10 No-show Rate')\n",
    "plt.xlim([0, 1])"
   ]
  },
  {
   "cell_type": "markdown",
   "metadata": {},
   "source": [
    "From the bar plot data, the areas with the highest 10 No-show Rate has No-show rate at about 0.25, except ILHAS OCEÂNICAS DE TRINDADE. Other cities have 95% confidence interval from about 0.2 to about 0.4."
   ]
  },
  {
   "cell_type": "markdown",
   "metadata": {},
   "source": [
    "# Time Data"
   ]
  },
  {
   "cell_type": "markdown",
   "metadata": {},
   "source": [
    "**Q12: How does the difference in days in ScheduledDay and AppointmentDay correlate to no-show rate?**"
   ]
  },
  {
   "cell_type": "code",
   "execution_count": 135,
   "metadata": {},
   "outputs": [],
   "source": [
    "record[\"ScheduledDay\"]=pd.to_datetime(record[\"ScheduledDay\"])\n",
    "record[\"AppointmentDay\"]=pd.to_datetime(record[\"AppointmentDay\"])"
   ]
  },
  {
   "cell_type": "code",
   "execution_count": 136,
   "metadata": {},
   "outputs": [
    {
     "data": {
      "text/html": [
       "<div>\n",
       "<style scoped>\n",
       "    .dataframe tbody tr th:only-of-type {\n",
       "        vertical-align: middle;\n",
       "    }\n",
       "\n",
       "    .dataframe tbody tr th {\n",
       "        vertical-align: top;\n",
       "    }\n",
       "\n",
       "    .dataframe thead th {\n",
       "        text-align: right;\n",
       "    }\n",
       "</style>\n",
       "<table border=\"1\" class=\"dataframe\">\n",
       "  <thead>\n",
       "    <tr style=\"text-align: right;\">\n",
       "      <th></th>\n",
       "      <th>PatientId</th>\n",
       "      <th>AppointmentID</th>\n",
       "      <th>Gender</th>\n",
       "      <th>ScheduledDay</th>\n",
       "      <th>AppointmentDay</th>\n",
       "      <th>Age</th>\n",
       "      <th>Neighbourhood</th>\n",
       "      <th>Scholarship</th>\n",
       "      <th>Hipertension</th>\n",
       "      <th>Diabetes</th>\n",
       "      <th>Alcoholism</th>\n",
       "      <th>Handcap</th>\n",
       "      <th>SMS_received</th>\n",
       "      <th>No-show</th>\n",
       "      <th>day_diff</th>\n",
       "    </tr>\n",
       "  </thead>\n",
       "  <tbody>\n",
       "    <tr>\n",
       "      <th>27033</th>\n",
       "      <td>7.839273e+12</td>\n",
       "      <td>5679978</td>\n",
       "      <td>M</td>\n",
       "      <td>2016-05-10 10:51:53</td>\n",
       "      <td>2016-05-09</td>\n",
       "      <td>38</td>\n",
       "      <td>RESISTÊNCIA</td>\n",
       "      <td>0</td>\n",
       "      <td>0</td>\n",
       "      <td>0</td>\n",
       "      <td>0</td>\n",
       "      <td>1</td>\n",
       "      <td>0</td>\n",
       "      <td>Yes</td>\n",
       "      <td>-1.0</td>\n",
       "    </tr>\n",
       "    <tr>\n",
       "      <th>55226</th>\n",
       "      <td>7.896294e+12</td>\n",
       "      <td>5715660</td>\n",
       "      <td>F</td>\n",
       "      <td>2016-05-18 14:50:41</td>\n",
       "      <td>2016-05-17</td>\n",
       "      <td>19</td>\n",
       "      <td>SANTO ANTÔNIO</td>\n",
       "      <td>0</td>\n",
       "      <td>0</td>\n",
       "      <td>0</td>\n",
       "      <td>0</td>\n",
       "      <td>1</td>\n",
       "      <td>0</td>\n",
       "      <td>Yes</td>\n",
       "      <td>-1.0</td>\n",
       "    </tr>\n",
       "    <tr>\n",
       "      <th>64175</th>\n",
       "      <td>2.425226e+13</td>\n",
       "      <td>5664962</td>\n",
       "      <td>F</td>\n",
       "      <td>2016-05-05 13:43:58</td>\n",
       "      <td>2016-05-04</td>\n",
       "      <td>22</td>\n",
       "      <td>CONSOLAÇÃO</td>\n",
       "      <td>0</td>\n",
       "      <td>0</td>\n",
       "      <td>0</td>\n",
       "      <td>0</td>\n",
       "      <td>0</td>\n",
       "      <td>0</td>\n",
       "      <td>Yes</td>\n",
       "      <td>-1.0</td>\n",
       "    </tr>\n",
       "    <tr>\n",
       "      <th>71533</th>\n",
       "      <td>9.982316e+14</td>\n",
       "      <td>5686628</td>\n",
       "      <td>F</td>\n",
       "      <td>2016-05-11 13:49:20</td>\n",
       "      <td>2016-05-05</td>\n",
       "      <td>81</td>\n",
       "      <td>SANTO ANTÔNIO</td>\n",
       "      <td>0</td>\n",
       "      <td>0</td>\n",
       "      <td>0</td>\n",
       "      <td>0</td>\n",
       "      <td>0</td>\n",
       "      <td>0</td>\n",
       "      <td>Yes</td>\n",
       "      <td>-6.0</td>\n",
       "    </tr>\n",
       "    <tr>\n",
       "      <th>72362</th>\n",
       "      <td>3.787482e+12</td>\n",
       "      <td>5655637</td>\n",
       "      <td>M</td>\n",
       "      <td>2016-05-04 06:50:57</td>\n",
       "      <td>2016-05-03</td>\n",
       "      <td>7</td>\n",
       "      <td>TABUAZEIRO</td>\n",
       "      <td>0</td>\n",
       "      <td>0</td>\n",
       "      <td>0</td>\n",
       "      <td>0</td>\n",
       "      <td>0</td>\n",
       "      <td>0</td>\n",
       "      <td>Yes</td>\n",
       "      <td>-1.0</td>\n",
       "    </tr>\n",
       "  </tbody>\n",
       "</table>\n",
       "</div>"
      ],
      "text/plain": [
       "          PatientId  AppointmentID Gender        ScheduledDay AppointmentDay  \\\n",
       "27033  7.839273e+12        5679978      M 2016-05-10 10:51:53     2016-05-09   \n",
       "55226  7.896294e+12        5715660      F 2016-05-18 14:50:41     2016-05-17   \n",
       "64175  2.425226e+13        5664962      F 2016-05-05 13:43:58     2016-05-04   \n",
       "71533  9.982316e+14        5686628      F 2016-05-11 13:49:20     2016-05-05   \n",
       "72362  3.787482e+12        5655637      M 2016-05-04 06:50:57     2016-05-03   \n",
       "\n",
       "       Age  Neighbourhood  Scholarship  Hipertension  Diabetes  Alcoholism  \\\n",
       "27033   38    RESISTÊNCIA            0             0         0           0   \n",
       "55226   19  SANTO ANTÔNIO            0             0         0           0   \n",
       "64175   22     CONSOLAÇÃO            0             0         0           0   \n",
       "71533   81  SANTO ANTÔNIO            0             0         0           0   \n",
       "72362    7     TABUAZEIRO            0             0         0           0   \n",
       "\n",
       "       Handcap  SMS_received No-show  day_diff  \n",
       "27033        1             0     Yes      -1.0  \n",
       "55226        1             0     Yes      -1.0  \n",
       "64175        0             0     Yes      -1.0  \n",
       "71533        0             0     Yes      -6.0  \n",
       "72362        0             0     Yes      -1.0  "
      ]
     },
     "execution_count": 136,
     "metadata": {},
     "output_type": "execute_result"
    }
   ],
   "source": [
    "time_diff = record[\"AppointmentDay\"] - record[\"ScheduledDay\"]\n",
    "record[\"day_diff\"] = time_diff/np.timedelta64(1,'D')\n",
    "record[\"day_diff\"] = record[\"day_diff\"].apply(np.floor)\n",
    "record[\"day_diff\"] = record[\"day_diff\"]+1\n",
    "record[record[\"day_diff\"] <0]"
   ]
  },
  {
   "cell_type": "code",
   "execution_count": 57,
   "metadata": {},
   "outputs": [
    {
     "data": {
      "text/plain": [
       "count    110521.000000\n",
       "mean         10.184345\n",
       "std          15.255153\n",
       "min           0.000000\n",
       "25%           0.000000\n",
       "50%           4.000000\n",
       "75%          15.000000\n",
       "max         179.000000\n",
       "Name: day_diff, dtype: float64"
      ]
     },
     "execution_count": 57,
     "metadata": {},
     "output_type": "execute_result"
    }
   ],
   "source": [
    "record =  record[record[\"day_diff\"] >= 0]\n",
    "record[\"day_diff\"].describe()"
   ]
  },
  {
   "cell_type": "code",
   "execution_count": 58,
   "metadata": {},
   "outputs": [
    {
     "data": {
      "text/plain": [
       "37.5"
      ]
     },
     "execution_count": 58,
     "metadata": {},
     "output_type": "execute_result"
    }
   ],
   "source": [
    "IQR = record[\"day_diff\"].describe()[\"75%\"] - record[\"day_diff\"].describe()[\"25%\"]\n",
    "outlier = record[\"day_diff\"].describe()[\"75%\"] + 1.5*IQR\n",
    "outlier"
   ]
  },
  {
   "cell_type": "code",
   "execution_count": 59,
   "metadata": {},
   "outputs": [
    {
     "data": {
      "text/plain": [
       "0.052505858615104824"
      ]
     },
     "execution_count": 59,
     "metadata": {},
     "output_type": "execute_result"
    }
   ],
   "source": [
    "len(record[record[\"day_diff\"] > outlier])/len(record)"
   ]
  },
  {
   "cell_type": "markdown",
   "metadata": {},
   "source": [
    "Although the documentation says the scheduled day is earlier than appotinment day, there are five entries that appointment day is earlier than scheduled day, and not surprisingly the patient didn't show up for the appointment"
   ]
  },
  {
   "cell_type": "code",
   "execution_count": 60,
   "metadata": {},
   "outputs": [
    {
     "data": {
      "text/plain": [
       "0.1863"
      ]
     },
     "execution_count": 60,
     "metadata": {},
     "output_type": "execute_result"
    }
   ],
   "source": [
    "np.corrcoef(record['day_diff'], record['No-show-indexed'])[0][1].round(4)"
   ]
  },
  {
   "cell_type": "markdown",
   "metadata": {},
   "source": [
    "The correlation coefficient for day and no-show rate is 0.1868, which means the larger the difference of shceduled day from the appointment day, the patient is less likely to show."
   ]
  },
  {
   "cell_type": "code",
   "execution_count": 61,
   "metadata": {},
   "outputs": [
    {
     "data": {
      "text/html": [
       "<div>\n",
       "<style scoped>\n",
       "    .dataframe tbody tr th:only-of-type {\n",
       "        vertical-align: middle;\n",
       "    }\n",
       "\n",
       "    .dataframe tbody tr th {\n",
       "        vertical-align: top;\n",
       "    }\n",
       "\n",
       "    .dataframe thead th {\n",
       "        text-align: right;\n",
       "    }\n",
       "</style>\n",
       "<table border=\"1\" class=\"dataframe\">\n",
       "  <thead>\n",
       "    <tr style=\"text-align: right;\">\n",
       "      <th></th>\n",
       "      <th>day_diff</th>\n",
       "      <th>No-show-indexed</th>\n",
       "      <th>no-show-rate</th>\n",
       "      <th>ratio</th>\n",
       "    </tr>\n",
       "    <tr>\n",
       "      <th>day_diff_c</th>\n",
       "      <th></th>\n",
       "      <th></th>\n",
       "      <th></th>\n",
       "      <th></th>\n",
       "    </tr>\n",
       "  </thead>\n",
       "  <tbody>\n",
       "    <tr>\n",
       "      <th>0.0</th>\n",
       "      <td>38562</td>\n",
       "      <td>1792</td>\n",
       "      <td>4.647062</td>\n",
       "      <td>34.891107</td>\n",
       "    </tr>\n",
       "    <tr>\n",
       "      <th>1.0</th>\n",
       "      <td>5213</td>\n",
       "      <td>1113</td>\n",
       "      <td>21.350470</td>\n",
       "      <td>4.716751</td>\n",
       "    </tr>\n",
       "    <tr>\n",
       "      <th>2.0</th>\n",
       "      <td>6725</td>\n",
       "      <td>1602</td>\n",
       "      <td>23.821561</td>\n",
       "      <td>6.084816</td>\n",
       "    </tr>\n",
       "    <tr>\n",
       "      <th>3.0</th>\n",
       "      <td>2737</td>\n",
       "      <td>644</td>\n",
       "      <td>23.529412</td>\n",
       "      <td>2.476452</td>\n",
       "    </tr>\n",
       "    <tr>\n",
       "      <th>4.0</th>\n",
       "      <td>5290</td>\n",
       "      <td>1231</td>\n",
       "      <td>23.270321</td>\n",
       "      <td>4.786421</td>\n",
       "    </tr>\n",
       "    <tr>\n",
       "      <th>5.0</th>\n",
       "      <td>3277</td>\n",
       "      <td>872</td>\n",
       "      <td>26.609704</td>\n",
       "      <td>2.965047</td>\n",
       "    </tr>\n",
       "    <tr>\n",
       "      <th>6.0</th>\n",
       "      <td>4037</td>\n",
       "      <td>1001</td>\n",
       "      <td>24.795640</td>\n",
       "      <td>3.652699</td>\n",
       "    </tr>\n",
       "    <tr>\n",
       "      <th>7.0</th>\n",
       "      <td>4906</td>\n",
       "      <td>1309</td>\n",
       "      <td>26.681614</td>\n",
       "      <td>4.438975</td>\n",
       "    </tr>\n",
       "    <tr>\n",
       "      <th>8.0</th>\n",
       "      <td>2332</td>\n",
       "      <td>670</td>\n",
       "      <td>28.730703</td>\n",
       "      <td>2.110006</td>\n",
       "    </tr>\n",
       "    <tr>\n",
       "      <th>9.0</th>\n",
       "      <td>1605</td>\n",
       "      <td>440</td>\n",
       "      <td>27.414330</td>\n",
       "      <td>1.452213</td>\n",
       "    </tr>\n",
       "    <tr>\n",
       "      <th>10.0</th>\n",
       "      <td>1391</td>\n",
       "      <td>440</td>\n",
       "      <td>31.631919</td>\n",
       "      <td>1.258584</td>\n",
       "    </tr>\n",
       "  </tbody>\n",
       "</table>\n",
       "</div>"
      ],
      "text/plain": [
       "            day_diff  No-show-indexed  no-show-rate      ratio\n",
       "day_diff_c                                                    \n",
       "0.0            38562             1792      4.647062  34.891107\n",
       "1.0             5213             1113     21.350470   4.716751\n",
       "2.0             6725             1602     23.821561   6.084816\n",
       "3.0             2737              644     23.529412   2.476452\n",
       "4.0             5290             1231     23.270321   4.786421\n",
       "5.0             3277              872     26.609704   2.965047\n",
       "6.0             4037             1001     24.795640   3.652699\n",
       "7.0             4906             1309     26.681614   4.438975\n",
       "8.0             2332              670     28.730703   2.110006\n",
       "9.0             1605              440     27.414330   1.452213\n",
       "10.0            1391              440     31.631919   1.258584"
      ]
     },
     "execution_count": 61,
     "metadata": {},
     "output_type": "execute_result"
    }
   ],
   "source": [
    "day_diff_df = record[[\"day_diff\", \"No-show-indexed\"]].copy()\n",
    "day_diff_df[\"day_diff_c\"] = day_diff_df[\"day_diff\"]\n",
    "day_diff_df = (day_diff_df.groupby(\"day_diff_c\")\n",
    "                .agg({\"day_diff\": 'count', \"No-show-indexed\":'sum'}))\n",
    "day_diff_df[\"no-show-rate\"] = (day_diff_df[\"No-show-indexed\"]/day_diff_df[\"day_diff\"])*100\n",
    "day_diff_df[\"ratio\"] = (day_diff_df[\"day_diff\"]/len(record))*100\n",
    "day_diff_df[:10]"
   ]
  },
  {
   "cell_type": "code",
   "execution_count": 62,
   "metadata": {},
   "outputs": [
    {
     "data": {
      "text/plain": [
       "<matplotlib.legend.Legend at 0x1a207f3710>"
      ]
     },
     "execution_count": 62,
     "metadata": {},
     "output_type": "execute_result"
    },
    {
     "data": {
      "image/png": "[encoded data removed]",
      "text/plain": [
       "<matplotlib.figure.Figure at 0x1a1f2bf860>"
      ]
     },
     "metadata": {},
     "output_type": "display_data"
    }
   ],
   "source": [
    "day_diff_df.reset_index(inplace=True)\n",
    "p3 = plt.plot(day_diff_df[\"day_diff_c\"], day_diff_df[\"no-show-rate\"])\n",
    "p4 = plt.plot(day_diff_df[\"day_diff_c\"], day_diff_df[\"ratio\"])\n",
    "plt.title(\"Line Graph for No-show Rate and the Time Difference on Scheduled Day and Appointment Day\")\n",
    "plt.xlabel(\"Time Difference\")\n",
    "plt.legend((p3[0], p4[0]), ('No-show Rate', 'Ratio of Count of Time Difference'))\n",
    "plt.ylabel(\"No-show Rate/Ratio of Count of Time Difference\")"
   ]
  },
  {
   "cell_type": "markdown",
   "metadata": {},
   "source": [
    "The walk-in people take 34.89% of the total appointment, which is the highest in all day differences. The walk-in appointments also have the lowest no-show-rate of 4.64%. No-show-rate fluctuates more drastically as the the time difference increase. However, the number of appointments drop drastically after 37.5. The no-show rate also increases as the time difference increases."
   ]
  },
  {
   "cell_type": "markdown",
   "metadata": {},
   "source": [
    "**Q13: How is no-show rate distributed with date?**"
   ]
  },
  {
   "cell_type": "code",
   "execution_count": 63,
   "metadata": {},
   "outputs": [],
   "source": [
    "sd = lambda x: x.date()\n",
    "get_week_day = lambda x: x.weekday()"
   ]
  },
  {
   "cell_type": "code",
   "execution_count": 64,
   "metadata": {},
   "outputs": [
    {
     "data": {
      "text/html": [
       "<div>\n",
       "<style scoped>\n",
       "    .dataframe tbody tr th:only-of-type {\n",
       "        vertical-align: middle;\n",
       "    }\n",
       "\n",
       "    .dataframe tbody tr th {\n",
       "        vertical-align: top;\n",
       "    }\n",
       "\n",
       "    .dataframe thead th {\n",
       "        text-align: right;\n",
       "    }\n",
       "</style>\n",
       "<table border=\"1\" class=\"dataframe\">\n",
       "  <thead>\n",
       "    <tr style=\"text-align: right;\">\n",
       "      <th></th>\n",
       "      <th>ScheduledDay</th>\n",
       "      <th>AppointmentDay</th>\n",
       "      <th>No-show-indexed</th>\n",
       "      <th>ScheduledDate</th>\n",
       "      <th>ScheduledDayofWeek</th>\n",
       "      <th>ApptDayofWeek</th>\n",
       "    </tr>\n",
       "    <tr>\n",
       "      <th>AppointmentID</th>\n",
       "      <th></th>\n",
       "      <th></th>\n",
       "      <th></th>\n",
       "      <th></th>\n",
       "      <th></th>\n",
       "      <th></th>\n",
       "    </tr>\n",
       "  </thead>\n",
       "  <tbody>\n",
       "    <tr>\n",
       "      <th>5642903</th>\n",
       "      <td>2016-04-29 18:38:08</td>\n",
       "      <td>2016-04-29</td>\n",
       "      <td>0</td>\n",
       "      <td>2016-04-29</td>\n",
       "      <td>4</td>\n",
       "      <td>4</td>\n",
       "    </tr>\n",
       "    <tr>\n",
       "      <th>5642503</th>\n",
       "      <td>2016-04-29 16:08:27</td>\n",
       "      <td>2016-04-29</td>\n",
       "      <td>0</td>\n",
       "      <td>2016-04-29</td>\n",
       "      <td>4</td>\n",
       "      <td>4</td>\n",
       "    </tr>\n",
       "    <tr>\n",
       "      <th>5642549</th>\n",
       "      <td>2016-04-29 16:19:04</td>\n",
       "      <td>2016-04-29</td>\n",
       "      <td>0</td>\n",
       "      <td>2016-04-29</td>\n",
       "      <td>4</td>\n",
       "      <td>4</td>\n",
       "    </tr>\n",
       "    <tr>\n",
       "      <th>5642828</th>\n",
       "      <td>2016-04-29 17:29:31</td>\n",
       "      <td>2016-04-29</td>\n",
       "      <td>0</td>\n",
       "      <td>2016-04-29</td>\n",
       "      <td>4</td>\n",
       "      <td>4</td>\n",
       "    </tr>\n",
       "    <tr>\n",
       "      <th>5642494</th>\n",
       "      <td>2016-04-29 16:07:23</td>\n",
       "      <td>2016-04-29</td>\n",
       "      <td>0</td>\n",
       "      <td>2016-04-29</td>\n",
       "      <td>4</td>\n",
       "      <td>4</td>\n",
       "    </tr>\n",
       "  </tbody>\n",
       "</table>\n",
       "</div>"
      ],
      "text/plain": [
       "                     ScheduledDay AppointmentDay  No-show-indexed  \\\n",
       "AppointmentID                                                       \n",
       "5642903       2016-04-29 18:38:08     2016-04-29                0   \n",
       "5642503       2016-04-29 16:08:27     2016-04-29                0   \n",
       "5642549       2016-04-29 16:19:04     2016-04-29                0   \n",
       "5642828       2016-04-29 17:29:31     2016-04-29                0   \n",
       "5642494       2016-04-29 16:07:23     2016-04-29                0   \n",
       "\n",
       "              ScheduledDate  ScheduledDayofWeek  ApptDayofWeek  \n",
       "AppointmentID                                                   \n",
       "5642903          2016-04-29                   4              4  \n",
       "5642503          2016-04-29                   4              4  \n",
       "5642549          2016-04-29                   4              4  \n",
       "5642828          2016-04-29                   4              4  \n",
       "5642494          2016-04-29                   4              4  "
      ]
     },
     "execution_count": 64,
     "metadata": {},
     "output_type": "execute_result"
    }
   ],
   "source": [
    "time_exploration = record[[\"ScheduledDay\", \"AppointmentDay\", \"No-show-indexed\"]].copy()\n",
    "time_exploration[\"ScheduledDate\"] = time_exploration[\"ScheduledDay\"].apply(sd)\n",
    "time_exploration[\"ScheduledDayofWeek\"] = time_exploration[\"ScheduledDay\"].apply(get_week_day)\n",
    "time_exploration[\"ApptDayofWeek\"] = time_exploration[\"AppointmentDay\"].apply(get_week_day)\n",
    "time_exploration.head()"
   ]
  },
  {
   "cell_type": "code",
   "execution_count": 65,
   "metadata": {},
   "outputs": [
    {
     "data": {
      "text/plain": [
       "count    111.000000\n",
       "mean       0.256775\n",
       "std        0.199894\n",
       "min        0.000000\n",
       "25%        0.141744\n",
       "50%        0.247776\n",
       "75%        0.346451\n",
       "max        1.000000\n",
       "Name: no-show-rate, dtype: float64"
      ]
     },
     "execution_count": 65,
     "metadata": {},
     "output_type": "execute_result"
    }
   ],
   "source": [
    "schedule_date  = (time_exploration.groupby(\"ScheduledDate\")\n",
    "                 .agg({'ScheduledDay':'count','No-show-indexed': 'sum'})\n",
    "                 .reset_index()\n",
    "                .rename( columns={'ScheduledDay':'ScheduledDay_Count'}))\n",
    "schedule_date[\"no-show-rate\"] = schedule_date[\"No-show-indexed\"]/schedule_date[\"ScheduledDay_Count\"]\n",
    "schedule_date.loc[:, 'no-show-rate'].describe()"
   ]
  },
  {
   "cell_type": "markdown",
   "metadata": {},
   "source": [
    "The no-show-rate for each day is 25.68%, the first standard deviation from the mean is 5.7% and 45.6% "
   ]
  },
  {
   "cell_type": "code",
   "execution_count": 66,
   "metadata": {
    "scrolled": true
   },
   "outputs": [
    {
     "data": {
      "text/plain": [
       "Text(0,0.5,'No-show Rate')"
      ]
     },
     "execution_count": 66,
     "metadata": {},
     "output_type": "execute_result"
    },
    {
     "data": {
      "image/png": "[encoded data removed]",
      "text/plain": [
       "<matplotlib.figure.Figure at 0x1a1f2831d0>"
      ]
     },
     "metadata": {},
     "output_type": "display_data"
    }
   ],
   "source": [
    "plt.plot(schedule_date[\"ScheduledDate\"], schedule_date[\"no-show-rate\"] )\n",
    "plt.title(\"Line Graph for Scheduled Day\")\n",
    "plt.xlabel(\"Date\")\n",
    "plt.ylabel(\"No-show Rate\")"
   ]
  },
  {
   "cell_type": "markdown",
   "metadata": {},
   "source": [
    "From the graph shown above, the no show rate from January to February in 2016 has a drastic flutuation. From the middle of February, the no-show rate drops below 20% and then gradually increase to about 40% until April. Then the no-show rate gradually drops till the end of the recording cycle. From the middle of Feburay to the end of the recording cycle, there are on average, two dips, in no-show rate each month. However, since the longitudinal of the time frame is not enough to observe a clearer pattern in the relationship of no-show rate and scheduled date, it is hard to make a conclusion on how the periodicity of the data."
   ]
  },
  {
   "cell_type": "markdown",
   "metadata": {},
   "source": [
    "**Q14: How is no-show rate distributed with appointment day?**"
   ]
  },
  {
   "cell_type": "code",
   "execution_count": 67,
   "metadata": {},
   "outputs": [
    {
     "data": {
      "text/html": [
       "<div>\n",
       "<style scoped>\n",
       "    .dataframe tbody tr th:only-of-type {\n",
       "        vertical-align: middle;\n",
       "    }\n",
       "\n",
       "    .dataframe tbody tr th {\n",
       "        vertical-align: top;\n",
       "    }\n",
       "\n",
       "    .dataframe thead th {\n",
       "        text-align: right;\n",
       "    }\n",
       "</style>\n",
       "<table border=\"1\" class=\"dataframe\">\n",
       "  <thead>\n",
       "    <tr style=\"text-align: right;\">\n",
       "      <th></th>\n",
       "      <th>appt</th>\n",
       "      <th>ApptDay_Count</th>\n",
       "      <th>No-show-indexed</th>\n",
       "      <th>no-show-rate</th>\n",
       "    </tr>\n",
       "  </thead>\n",
       "  <tbody>\n",
       "    <tr>\n",
       "      <th>0</th>\n",
       "      <td>2016-04-29</td>\n",
       "      <td>3235</td>\n",
       "      <td>633</td>\n",
       "      <td>0.195672</td>\n",
       "    </tr>\n",
       "    <tr>\n",
       "      <th>1</th>\n",
       "      <td>2016-05-02</td>\n",
       "      <td>4376</td>\n",
       "      <td>861</td>\n",
       "      <td>0.196755</td>\n",
       "    </tr>\n",
       "    <tr>\n",
       "      <th>2</th>\n",
       "      <td>2016-05-03</td>\n",
       "      <td>4255</td>\n",
       "      <td>830</td>\n",
       "      <td>0.195065</td>\n",
       "    </tr>\n",
       "    <tr>\n",
       "      <th>3</th>\n",
       "      <td>2016-05-04</td>\n",
       "      <td>4167</td>\n",
       "      <td>972</td>\n",
       "      <td>0.233261</td>\n",
       "    </tr>\n",
       "    <tr>\n",
       "      <th>4</th>\n",
       "      <td>2016-05-05</td>\n",
       "      <td>4272</td>\n",
       "      <td>806</td>\n",
       "      <td>0.188670</td>\n",
       "    </tr>\n",
       "  </tbody>\n",
       "</table>\n",
       "</div>"
      ],
      "text/plain": [
       "        appt  ApptDay_Count  No-show-indexed  no-show-rate\n",
       "0 2016-04-29           3235              633      0.195672\n",
       "1 2016-05-02           4376              861      0.196755\n",
       "2 2016-05-03           4255              830      0.195065\n",
       "3 2016-05-04           4167              972      0.233261\n",
       "4 2016-05-05           4272              806      0.188670"
      ]
     },
     "execution_count": 67,
     "metadata": {},
     "output_type": "execute_result"
    }
   ],
   "source": [
    "time_exploration[\"appt\"] = time_exploration[\"AppointmentDay\"]\n",
    "appt_date  = (time_exploration.groupby(\"appt\")\n",
    "                 .agg({'AppointmentDay':'count','No-show-indexed': 'sum'})\n",
    "                 .reset_index()\n",
    "                .rename( columns={'AppointmentDay':'ApptDay_Count'}))\n",
    "appt_date[\"no-show-rate\"] = appt_date[\"No-show-indexed\"]/appt_date[\"ApptDay_Count\"]\n",
    "appt_date.head()"
   ]
  },
  {
   "cell_type": "code",
   "execution_count": 68,
   "metadata": {},
   "outputs": [
    {
     "data": {
      "text/plain": [
       "count    27.000000\n",
       "mean      0.203157\n",
       "std       0.018386\n",
       "min       0.172806\n",
       "25%       0.189579\n",
       "50%       0.196822\n",
       "75%       0.219476\n",
       "max       0.234848\n",
       "Name: no-show-rate, dtype: float64"
      ]
     },
     "execution_count": 68,
     "metadata": {},
     "output_type": "execute_result"
    }
   ],
   "source": [
    "appt_date.loc[:, 'no-show-rate'].describe()"
   ]
  },
  {
   "cell_type": "code",
   "execution_count": 69,
   "metadata": {
    "scrolled": false
   },
   "outputs": [
    {
     "data": {
      "text/plain": [
       "(array([736085., 736092., 736099., 736106., 736113., 736120.]),\n",
       " <a list of 6 Text xticklabel objects>)"
      ]
     },
     "execution_count": 69,
     "metadata": {},
     "output_type": "execute_result"
    },
    {
     "data": {
      "image/png": "[encoded data removed]",
      "text/plain": [
       "<matplotlib.figure.Figure at 0x1154d6eb8>"
      ]
     },
     "metadata": {},
     "output_type": "display_data"
    }
   ],
   "source": [
    "plt.plot(appt_date[\"appt\"], appt_date[\"no-show-rate\"])\n",
    "plt.title(\"Line Graph for No-show Rate and Appointment Date\")\n",
    "plt.xlabel(\"Appointment Date\")\n",
    "plt.ylabel(\"No-show Rate\")\n",
    "plt.xticks(rotation=\"vertical\")"
   ]
  },
  {
   "cell_type": "code",
   "execution_count": 70,
   "metadata": {},
   "outputs": [
    {
     "data": {
      "text/html": [
       "<div>\n",
       "<style scoped>\n",
       "    .dataframe tbody tr th:only-of-type {\n",
       "        vertical-align: middle;\n",
       "    }\n",
       "\n",
       "    .dataframe tbody tr th {\n",
       "        vertical-align: top;\n",
       "    }\n",
       "\n",
       "    .dataframe thead th {\n",
       "        text-align: right;\n",
       "    }\n",
       "</style>\n",
       "<table border=\"1\" class=\"dataframe\">\n",
       "  <thead>\n",
       "    <tr style=\"text-align: right;\">\n",
       "      <th></th>\n",
       "      <th>appt</th>\n",
       "      <th>ApptDay_Count</th>\n",
       "      <th>No-show-indexed</th>\n",
       "      <th>no-show-rate</th>\n",
       "      <th>weekday</th>\n",
       "    </tr>\n",
       "  </thead>\n",
       "  <tbody>\n",
       "    <tr>\n",
       "      <th>3</th>\n",
       "      <td>2016-05-04</td>\n",
       "      <td>4167</td>\n",
       "      <td>972</td>\n",
       "      <td>0.233261</td>\n",
       "      <td>2</td>\n",
       "    </tr>\n",
       "    <tr>\n",
       "      <th>5</th>\n",
       "      <td>2016-05-06</td>\n",
       "      <td>3879</td>\n",
       "      <td>795</td>\n",
       "      <td>0.204950</td>\n",
       "      <td>4</td>\n",
       "    </tr>\n",
       "    <tr>\n",
       "      <th>6</th>\n",
       "      <td>2016-05-09</td>\n",
       "      <td>4519</td>\n",
       "      <td>1018</td>\n",
       "      <td>0.225271</td>\n",
       "      <td>0</td>\n",
       "    </tr>\n",
       "    <tr>\n",
       "      <th>7</th>\n",
       "      <td>2016-05-10</td>\n",
       "      <td>4308</td>\n",
       "      <td>992</td>\n",
       "      <td>0.230269</td>\n",
       "      <td>1</td>\n",
       "    </tr>\n",
       "    <tr>\n",
       "      <th>10</th>\n",
       "      <td>2016-05-13</td>\n",
       "      <td>3987</td>\n",
       "      <td>905</td>\n",
       "      <td>0.226988</td>\n",
       "      <td>4</td>\n",
       "    </tr>\n",
       "    <tr>\n",
       "      <th>11</th>\n",
       "      <td>2016-05-14</td>\n",
       "      <td>39</td>\n",
       "      <td>9</td>\n",
       "      <td>0.230769</td>\n",
       "      <td>5</td>\n",
       "    </tr>\n",
       "    <tr>\n",
       "      <th>12</th>\n",
       "      <td>2016-05-16</td>\n",
       "      <td>4613</td>\n",
       "      <td>1049</td>\n",
       "      <td>0.227401</td>\n",
       "      <td>0</td>\n",
       "    </tr>\n",
       "    <tr>\n",
       "      <th>13</th>\n",
       "      <td>2016-05-17</td>\n",
       "      <td>4371</td>\n",
       "      <td>934</td>\n",
       "      <td>0.213681</td>\n",
       "      <td>1</td>\n",
       "    </tr>\n",
       "    <tr>\n",
       "      <th>14</th>\n",
       "      <td>2016-05-18</td>\n",
       "      <td>4373</td>\n",
       "      <td>890</td>\n",
       "      <td>0.203522</td>\n",
       "      <td>2</td>\n",
       "    </tr>\n",
       "    <tr>\n",
       "      <th>15</th>\n",
       "      <td>2016-05-19</td>\n",
       "      <td>4270</td>\n",
       "      <td>892</td>\n",
       "      <td>0.208899</td>\n",
       "      <td>3</td>\n",
       "    </tr>\n",
       "    <tr>\n",
       "      <th>16</th>\n",
       "      <td>2016-05-20</td>\n",
       "      <td>3828</td>\n",
       "      <td>899</td>\n",
       "      <td>0.234848</td>\n",
       "      <td>4</td>\n",
       "    </tr>\n",
       "  </tbody>\n",
       "</table>\n",
       "</div>"
      ],
      "text/plain": [
       "         appt  ApptDay_Count  No-show-indexed  no-show-rate  weekday\n",
       "3  2016-05-04           4167              972      0.233261        2\n",
       "5  2016-05-06           3879              795      0.204950        4\n",
       "6  2016-05-09           4519             1018      0.225271        0\n",
       "7  2016-05-10           4308              992      0.230269        1\n",
       "10 2016-05-13           3987              905      0.226988        4\n",
       "11 2016-05-14             39                9      0.230769        5\n",
       "12 2016-05-16           4613             1049      0.227401        0\n",
       "13 2016-05-17           4371              934      0.213681        1\n",
       "14 2016-05-18           4373              890      0.203522        2\n",
       "15 2016-05-19           4270              892      0.208899        3\n",
       "16 2016-05-20           3828              899      0.234848        4"
      ]
     },
     "execution_count": 70,
     "metadata": {},
     "output_type": "execute_result"
    }
   ],
   "source": [
    "above_avg = appt_date[appt_date[\"no-show-rate\"] > appt_date.loc[:, 'no-show-rate'].describe()[\"mean\"]].copy()\n",
    "above_avg[\"weekday\"] = above_avg[\"appt\"].apply(get_week_day)\n",
    "above_avg"
   ]
  },
  {
   "cell_type": "code",
   "execution_count": 225,
   "metadata": {},
   "outputs": [
    {
     "data": {
      "text/html": [
       "<div>\n",
       "<style scoped>\n",
       "    .dataframe tbody tr th:only-of-type {\n",
       "        vertical-align: middle;\n",
       "    }\n",
       "\n",
       "    .dataframe tbody tr th {\n",
       "        vertical-align: top;\n",
       "    }\n",
       "\n",
       "    .dataframe thead th {\n",
       "        text-align: right;\n",
       "    }\n",
       "</style>\n",
       "<table border=\"1\" class=\"dataframe\">\n",
       "  <thead>\n",
       "    <tr style=\"text-align: right;\">\n",
       "      <th></th>\n",
       "      <th>appt</th>\n",
       "      <th>ApptDay_Count</th>\n",
       "      <th>No-show-indexed</th>\n",
       "      <th>no-show-rate</th>\n",
       "      <th>weekday</th>\n",
       "    </tr>\n",
       "  </thead>\n",
       "  <tbody>\n",
       "    <tr>\n",
       "      <th>0</th>\n",
       "      <td>2016-04-29</td>\n",
       "      <td>3235</td>\n",
       "      <td>633</td>\n",
       "      <td>0.195672</td>\n",
       "      <td>4</td>\n",
       "    </tr>\n",
       "    <tr>\n",
       "      <th>1</th>\n",
       "      <td>2016-05-02</td>\n",
       "      <td>4376</td>\n",
       "      <td>861</td>\n",
       "      <td>0.196755</td>\n",
       "      <td>0</td>\n",
       "    </tr>\n",
       "    <tr>\n",
       "      <th>2</th>\n",
       "      <td>2016-05-03</td>\n",
       "      <td>4255</td>\n",
       "      <td>830</td>\n",
       "      <td>0.195065</td>\n",
       "      <td>1</td>\n",
       "    </tr>\n",
       "    <tr>\n",
       "      <th>4</th>\n",
       "      <td>2016-05-05</td>\n",
       "      <td>4272</td>\n",
       "      <td>806</td>\n",
       "      <td>0.188670</td>\n",
       "      <td>3</td>\n",
       "    </tr>\n",
       "    <tr>\n",
       "      <th>8</th>\n",
       "      <td>2016-05-11</td>\n",
       "      <td>4474</td>\n",
       "      <td>885</td>\n",
       "      <td>0.197810</td>\n",
       "      <td>2</td>\n",
       "    </tr>\n",
       "    <tr>\n",
       "      <th>9</th>\n",
       "      <td>2016-05-12</td>\n",
       "      <td>4394</td>\n",
       "      <td>837</td>\n",
       "      <td>0.190487</td>\n",
       "      <td>3</td>\n",
       "    </tr>\n",
       "    <tr>\n",
       "      <th>17</th>\n",
       "      <td>2016-05-24</td>\n",
       "      <td>4009</td>\n",
       "      <td>811</td>\n",
       "      <td>0.202295</td>\n",
       "      <td>1</td>\n",
       "    </tr>\n",
       "    <tr>\n",
       "      <th>18</th>\n",
       "      <td>2016-05-25</td>\n",
       "      <td>3909</td>\n",
       "      <td>759</td>\n",
       "      <td>0.194167</td>\n",
       "      <td>2</td>\n",
       "    </tr>\n",
       "    <tr>\n",
       "      <th>19</th>\n",
       "      <td>2016-05-30</td>\n",
       "      <td>4514</td>\n",
       "      <td>888</td>\n",
       "      <td>0.196721</td>\n",
       "      <td>0</td>\n",
       "    </tr>\n",
       "    <tr>\n",
       "      <th>20</th>\n",
       "      <td>2016-05-31</td>\n",
       "      <td>4279</td>\n",
       "      <td>767</td>\n",
       "      <td>0.179247</td>\n",
       "      <td>1</td>\n",
       "    </tr>\n",
       "    <tr>\n",
       "      <th>21</th>\n",
       "      <td>2016-06-01</td>\n",
       "      <td>4464</td>\n",
       "      <td>812</td>\n",
       "      <td>0.181900</td>\n",
       "      <td>2</td>\n",
       "    </tr>\n",
       "    <tr>\n",
       "      <th>22</th>\n",
       "      <td>2016-06-02</td>\n",
       "      <td>4310</td>\n",
       "      <td>802</td>\n",
       "      <td>0.186079</td>\n",
       "      <td>3</td>\n",
       "    </tr>\n",
       "    <tr>\n",
       "      <th>23</th>\n",
       "      <td>2016-06-03</td>\n",
       "      <td>4090</td>\n",
       "      <td>805</td>\n",
       "      <td>0.196822</td>\n",
       "      <td>4</td>\n",
       "    </tr>\n",
       "    <tr>\n",
       "      <th>24</th>\n",
       "      <td>2016-06-06</td>\n",
       "      <td>4691</td>\n",
       "      <td>873</td>\n",
       "      <td>0.186101</td>\n",
       "      <td>0</td>\n",
       "    </tr>\n",
       "    <tr>\n",
       "      <th>25</th>\n",
       "      <td>2016-06-07</td>\n",
       "      <td>4416</td>\n",
       "      <td>816</td>\n",
       "      <td>0.184783</td>\n",
       "      <td>1</td>\n",
       "    </tr>\n",
       "    <tr>\n",
       "      <th>26</th>\n",
       "      <td>2016-06-08</td>\n",
       "      <td>4479</td>\n",
       "      <td>774</td>\n",
       "      <td>0.172806</td>\n",
       "      <td>2</td>\n",
       "    </tr>\n",
       "  </tbody>\n",
       "</table>\n",
       "</div>"
      ],
      "text/plain": [
       "         appt  ApptDay_Count  No-show-indexed  no-show-rate  weekday\n",
       "0  2016-04-29           3235              633      0.195672        4\n",
       "1  2016-05-02           4376              861      0.196755        0\n",
       "2  2016-05-03           4255              830      0.195065        1\n",
       "4  2016-05-05           4272              806      0.188670        3\n",
       "8  2016-05-11           4474              885      0.197810        2\n",
       "9  2016-05-12           4394              837      0.190487        3\n",
       "17 2016-05-24           4009              811      0.202295        1\n",
       "18 2016-05-25           3909              759      0.194167        2\n",
       "19 2016-05-30           4514              888      0.196721        0\n",
       "20 2016-05-31           4279              767      0.179247        1\n",
       "21 2016-06-01           4464              812      0.181900        2\n",
       "22 2016-06-02           4310              802      0.186079        3\n",
       "23 2016-06-03           4090              805      0.196822        4\n",
       "24 2016-06-06           4691              873      0.186101        0\n",
       "25 2016-06-07           4416              816      0.184783        1\n",
       "26 2016-06-08           4479              774      0.172806        2"
      ]
     },
     "execution_count": 225,
     "metadata": {},
     "output_type": "execute_result"
    }
   ],
   "source": [
    "below_avg = appt_date[appt_date[\"no-show-rate\"] < appt_date.loc[:, 'no-show-rate'].describe()[\"mean\"]].copy()\n",
    "below_avg[\"weekday\"] = below_avg[\"appt\"].apply(get_week_day)\n",
    "below_avg"
   ]
  },
  {
   "cell_type": "markdown",
   "metadata": {},
   "source": [
    "The no-show rate for scheduled day has mean of 0.20. and there are a few dips and spikes during the first week and the second week of May in 2016. The no-show rate then show a decreasing trend after the the forth week of May. The days that are having higher no-show rate appear to be any day of the week, although Friday, encoded as 4, has higher frequency. For days that are below the mean no-show rate, Tuesday and Wednesday, encoded as 1 and 2, have higher frequncy. However, I do not feel comfortable to make the conclusion that the no-show rate is correlated to the day of the week due to the small sample size."
   ]
  },
  {
   "cell_type": "markdown",
   "metadata": {},
   "source": [
    "**Q15: How is no-show rate distributed with what day the scheduled day is in a week?**"
   ]
  },
  {
   "cell_type": "code",
   "execution_count": 201,
   "metadata": {},
   "outputs": [
    {
     "data": {
      "text/html": [
       "<div>\n",
       "<style scoped>\n",
       "    .dataframe tbody tr th:only-of-type {\n",
       "        vertical-align: middle;\n",
       "    }\n",
       "\n",
       "    .dataframe tbody tr th {\n",
       "        vertical-align: top;\n",
       "    }\n",
       "\n",
       "    .dataframe thead th {\n",
       "        text-align: right;\n",
       "    }\n",
       "</style>\n",
       "<table border=\"1\" class=\"dataframe\">\n",
       "  <thead>\n",
       "    <tr style=\"text-align: right;\">\n",
       "      <th></th>\n",
       "      <th>Week</th>\n",
       "      <th>Day_Week_Count</th>\n",
       "      <th>No-show-indexed</th>\n",
       "      <th>no-show-rate</th>\n",
       "    </tr>\n",
       "  </thead>\n",
       "  <tbody>\n",
       "    <tr>\n",
       "      <th>0</th>\n",
       "      <td>0</td>\n",
       "      <td>23084</td>\n",
       "      <td>4561</td>\n",
       "      <td>0.197583</td>\n",
       "    </tr>\n",
       "    <tr>\n",
       "      <th>1</th>\n",
       "      <td>1</td>\n",
       "      <td>26167</td>\n",
       "      <td>5290</td>\n",
       "      <td>0.202163</td>\n",
       "    </tr>\n",
       "    <tr>\n",
       "      <th>2</th>\n",
       "      <td>2</td>\n",
       "      <td>24259</td>\n",
       "      <td>4876</td>\n",
       "      <td>0.200998</td>\n",
       "    </tr>\n",
       "    <tr>\n",
       "      <th>3</th>\n",
       "      <td>3</td>\n",
       "      <td>18072</td>\n",
       "      <td>3699</td>\n",
       "      <td>0.204681</td>\n",
       "    </tr>\n",
       "    <tr>\n",
       "      <th>4</th>\n",
       "      <td>4</td>\n",
       "      <td>18915</td>\n",
       "      <td>3887</td>\n",
       "      <td>0.205498</td>\n",
       "    </tr>\n",
       "    <tr>\n",
       "      <th>5</th>\n",
       "      <td>5</td>\n",
       "      <td>24</td>\n",
       "      <td>1</td>\n",
       "      <td>0.041667</td>\n",
       "    </tr>\n",
       "  </tbody>\n",
       "</table>\n",
       "</div>"
      ],
      "text/plain": [
       "   Week  Day_Week_Count  No-show-indexed  no-show-rate\n",
       "0     0           23084             4561      0.197583\n",
       "1     1           26167             5290      0.202163\n",
       "2     2           24259             4876      0.200998\n",
       "3     3           18072             3699      0.204681\n",
       "4     4           18915             3887      0.205498\n",
       "5     5              24                1      0.041667"
      ]
     },
     "execution_count": 201,
     "metadata": {},
     "output_type": "execute_result"
    }
   ],
   "source": [
    "time_exploration[\"Week\"] = time_exploration[\"ScheduledDayofWeek\"]\n",
    "schedule_day_week  = (time_exploration.groupby(\"Week\")\n",
    "                 .agg({'ScheduledDayofWeek':'count','No-show-indexed': 'sum'})\n",
    "                 .reset_index()\n",
    "                .rename( columns={'ScheduledDayofWeek':'Day_Week_Count'}))\n",
    "schedule_day_week[\"no-show-rate\"] = schedule_day_week[\"No-show-indexed\"]/schedule_day_week[\"Day_Week_Count\"]\n",
    "schedule_day_week"
   ]
  },
  {
   "cell_type": "code",
   "execution_count": 202,
   "metadata": {},
   "outputs": [
    {
     "data": {
      "text/plain": [
       "count    6.000000\n",
       "mean     0.175432\n",
       "std      0.065592\n",
       "min      0.041667\n",
       "25%      0.198436\n",
       "50%      0.201580\n",
       "75%      0.204052\n",
       "max      0.205498\n",
       "Name: no-show-rate, dtype: float64"
      ]
     },
     "execution_count": 202,
     "metadata": {},
     "output_type": "execute_result"
    }
   ],
   "source": [
    "schedule_day_week.loc[:, 'no-show-rate'].describe()"
   ]
  },
  {
   "cell_type": "code",
   "execution_count": 234,
   "metadata": {
    "scrolled": false
   },
   "outputs": [
    {
     "data": {
      "text/plain": [
       "([<matplotlib.axis.XTick at 0x1a336ef940>,\n",
       "  <matplotlib.axis.XTick at 0x1a337dafd0>,\n",
       "  <matplotlib.axis.XTick at 0x1a336f4438>,\n",
       "  <matplotlib.axis.XTick at 0x1a337f7ef0>,\n",
       "  <matplotlib.axis.XTick at 0x1a337fe588>,\n",
       "  <matplotlib.axis.XTick at 0x1a337febe0>],\n",
       " <a list of 6 Text xticklabel objects>)"
      ]
     },
     "execution_count": 234,
     "metadata": {},
     "output_type": "execute_result"
    },
    {
     "data": {
      "image/png": "[encoded data removed]",
      "text/plain": [
       "<matplotlib.figure.Figure at 0x1a33739550>"
      ]
     },
     "metadata": {},
     "output_type": "display_data"
    }
   ],
   "source": [
    "plt.plot(schedule_day_week[\"no-show-rate\"])\n",
    "plt.title(\"Line Graph for No-show Rate and Days of Week for Scheduled Day\")\n",
    "plt.xlabel(\"Days of the Week\")\n",
    "plt.ylabel(\"No-show Rate\")\n",
    "plt.xticks(np.arange(6), [\"Mon\", \"Tue\", \"Wed\", \"Thur\", \"Fri\", \"Sat\"])"
   ]
  },
  {
   "cell_type": "code",
   "execution_count": 204,
   "metadata": {},
   "outputs": [
    {
     "name": "stdout",
     "output_type": "stream",
     "text": [
      "The correlation coefficient for scheduled day of week is 0.006\n"
     ]
    }
   ],
   "source": [
    "corr_scheduled = np.corrcoef(time_exploration[\"ScheduledDayofWeek\"], \n",
    "                             time_exploration[\"No-show-indexed\"])[0][1].round(4)\n",
    "print (\"The correlation coefficient for scheduled day of week is\", str(corr_scheduled))"
   ]
  },
  {
   "cell_type": "markdown",
   "metadata": {},
   "source": [
    "From the line plot and the calculation of correlation coefficient, there is not a significant difference in no-show rate with respect to what day it is in the week that the appointment is scheduled."
   ]
  },
  {
   "cell_type": "markdown",
   "metadata": {},
   "source": [
    "**Q16: How is no-show rate distributed with what day the appointment day is in a week?**"
   ]
  },
  {
   "cell_type": "code",
   "execution_count": 205,
   "metadata": {},
   "outputs": [
    {
     "data": {
      "text/html": [
       "<div>\n",
       "<style scoped>\n",
       "    .dataframe tbody tr th:only-of-type {\n",
       "        vertical-align: middle;\n",
       "    }\n",
       "\n",
       "    .dataframe tbody tr th {\n",
       "        vertical-align: top;\n",
       "    }\n",
       "\n",
       "    .dataframe thead th {\n",
       "        text-align: right;\n",
       "    }\n",
       "</style>\n",
       "<table border=\"1\" class=\"dataframe\">\n",
       "  <thead>\n",
       "    <tr style=\"text-align: right;\">\n",
       "      <th></th>\n",
       "      <th>Week_appt</th>\n",
       "      <th>Appt_day_count</th>\n",
       "      <th>No-show-indexed</th>\n",
       "      <th>no-show-rate</th>\n",
       "    </tr>\n",
       "  </thead>\n",
       "  <tbody>\n",
       "    <tr>\n",
       "      <th>0</th>\n",
       "      <td>0</td>\n",
       "      <td>22713</td>\n",
       "      <td>4689</td>\n",
       "      <td>0.206446</td>\n",
       "    </tr>\n",
       "    <tr>\n",
       "      <th>1</th>\n",
       "      <td>1</td>\n",
       "      <td>25638</td>\n",
       "      <td>5150</td>\n",
       "      <td>0.200874</td>\n",
       "    </tr>\n",
       "    <tr>\n",
       "      <th>2</th>\n",
       "      <td>2</td>\n",
       "      <td>25866</td>\n",
       "      <td>5092</td>\n",
       "      <td>0.196861</td>\n",
       "    </tr>\n",
       "    <tr>\n",
       "      <th>3</th>\n",
       "      <td>3</td>\n",
       "      <td>17246</td>\n",
       "      <td>3337</td>\n",
       "      <td>0.193494</td>\n",
       "    </tr>\n",
       "    <tr>\n",
       "      <th>4</th>\n",
       "      <td>4</td>\n",
       "      <td>19019</td>\n",
       "      <td>4037</td>\n",
       "      <td>0.212261</td>\n",
       "    </tr>\n",
       "    <tr>\n",
       "      <th>5</th>\n",
       "      <td>5</td>\n",
       "      <td>39</td>\n",
       "      <td>9</td>\n",
       "      <td>0.230769</td>\n",
       "    </tr>\n",
       "  </tbody>\n",
       "</table>\n",
       "</div>"
      ],
      "text/plain": [
       "   Week_appt  Appt_day_count  No-show-indexed  no-show-rate\n",
       "0          0           22713             4689      0.206446\n",
       "1          1           25638             5150      0.200874\n",
       "2          2           25866             5092      0.196861\n",
       "3          3           17246             3337      0.193494\n",
       "4          4           19019             4037      0.212261\n",
       "5          5              39                9      0.230769"
      ]
     },
     "execution_count": 205,
     "metadata": {},
     "output_type": "execute_result"
    }
   ],
   "source": [
    "time_exploration[\"Week_appt\"] = time_exploration[\"ApptDayofWeek\"]\n",
    "appt_day_week  = (time_exploration.groupby(\"Week_appt\")\n",
    "                 .agg({'ApptDayofWeek':'count','No-show-indexed': 'sum'})\n",
    "                 .reset_index()\n",
    "                .rename( columns={'ApptDayofWeek':'Appt_day_count'}))\n",
    "appt_day_week[\"no-show-rate\"] = appt_day_week[\"No-show-indexed\"]/appt_day_week[\"Appt_day_count\"]\n",
    "appt_day_week"
   ]
  },
  {
   "cell_type": "code",
   "execution_count": 235,
   "metadata": {},
   "outputs": [
    {
     "data": {
      "text/plain": [
       "([<matplotlib.axis.XTick at 0x1a3373e0b8>,\n",
       "  <matplotlib.axis.XTick at 0x1a337fe438>,\n",
       "  <matplotlib.axis.XTick at 0x1a33778470>,\n",
       "  <matplotlib.axis.XTick at 0x1a33883748>,\n",
       "  <matplotlib.axis.XTick at 0x1a33883da0>,\n",
       "  <matplotlib.axis.XTick at 0x1a33888438>],\n",
       " <a list of 6 Text xticklabel objects>)"
      ]
     },
     "execution_count": 235,
     "metadata": {},
     "output_type": "execute_result"
    },
    {
     "data": {
      "image/png": "[encoded data removed]",
      "text/plain": [
       "<matplotlib.figure.Figure at 0x1a337da3c8>"
      ]
     },
     "metadata": {},
     "output_type": "display_data"
    }
   ],
   "source": [
    "plt.plot(appt_day_week[\"no-show-rate\"])\n",
    "plt.title(\"Line Graph for No-show Rate and Days of Week for Appointment Day\")\n",
    "plt.xlabel(\"Days of the Week\")\n",
    "plt.ylabel(\"No-show Rate\")\n",
    "\n",
    "plt.xticks(np.arange(6), [\"Mon\", \"Tue\", \"Wed\", \"Thur\", \"Fri\", \"Sat\"])"
   ]
  },
  {
   "cell_type": "code",
   "execution_count": 207,
   "metadata": {},
   "outputs": [
    {
     "name": "stdout",
     "output_type": "stream",
     "text": [
      "The correlation coefficient for scheduled day of week is 0.0012\n"
     ]
    }
   ],
   "source": [
    "appt_day_corr = np.corrcoef(time_exploration[\"ApptDayofWeek\"], time_exploration[\"No-show-indexed\"])[0][1].round(4)\n",
    "print (\"The correlation coefficient for scheduled day of week is\", str(appt_day_corr))"
   ]
  },
  {
   "cell_type": "markdown",
   "metadata": {},
   "source": [
    "From the line plot and the calculation of correlation coefficient, there is not a significant difference in no-show rate with respect to what day it is in the week. However, the correlation is a little bit weeaker than that of scheduled date. This possibly because most of the patients are not in urgent, and they can fill in the available spot later that week. The patients usually fill in the clinic quite quickly, and "
   ]
  },
  {
   "cell_type": "markdown",
   "metadata": {},
   "source": [
    "The two line graphs on day of the week of appointment day and scheduled day shows the no-show rate is the lowest when the appointment is made on Saturdays, and is the lowest when the actual appointment is on Thursday. However, the correlation of no-show rate and the day of the week is low, which is 0.006 for scheduled day and 0.0012 for appointment day, which means the day of the week is almost independent to no-show rate."
   ]
  },
  {
   "cell_type": "markdown",
   "metadata": {},
   "source": [
    "# Conclusion"
   ]
  },
  {
   "cell_type": "markdown",
   "metadata": {},
   "source": [
    "To answer the overall question *What factors are important for us to know in order to predict if a patient will show up for their scheduled appointment?*, the report has investigated on patientID, age, categorical variables, and time series data.\n",
    "\n",
    "In the investigation of patientID, the result show 92% of the patients visit the clinic under three times during the given time frame, and the a person's visits takes smaller portion of the appointments as this person is a more frequent visitor to the clinic. Setting the threshold as 3, the correlation coeffcient for frequent visitors and no-show rate is 0.0145, slightly positive correlated to no-show rate. This result means, if a person goes to a clinic more than three times, this person is more likely to not show in an appointment.\n",
    "\n",
    "When looking at no-show rate with age, the ages are divided into every 20 years. The correlation coefficient for age groups is -0.0635 and -0.0605 when comparing to numerical age, which means the older the person is, the more likely this person will show up for the appointment. The mosaic plot shows, in the range of 0 to 79, people in age groups of 0-19 and 20-39 have higher no-show rate than people in the other two age groups. There is also a clear decrease in no-show rate when the age shifts from 40-59 to 60-79.\n",
    "\n",
    "The categorical variables, Gender, Scholarship, Hipertension, Diabetes and Alcoholism are almost independent to no-show rate, as their correlation with no-show rate is between 0.05 to -0.05. SMS received, however, has a better correlation comparing to other categorical variables, with 0.13 correlation coefficient. The mosaic plot shows a visually significant difference in the possibility of no-show with given SMS is received or not. \n",
    "\n",
    "As for the time data, the correlation coefficient for difference in appointment day and scheduled day and no-show rate is 0.1868, which means the larger the difference of shceduled day from the appointment day, the patient is less likely to show. The no-show rate also shows an decreasing trend if the appointment is made after March in 2016, and the apoointments on some day thtat is after the third week of May, 2016. Other factors such as the day of the week that the appointment is scheduled or the actual appointment is independent from no-show rate given the data set."
   ]
  },
  {
   "cell_type": "markdown",
   "metadata": {},
   "source": [
    "## Data Quality and Limitations"
   ]
  },
  {
   "cell_type": "markdown",
   "metadata": {},
   "source": [
    "This dataset, however, has a few drawbacks that may affect the data quality. \n",
    "\n",
    "1. There is one row of entry that has age under 0.\n",
    "2. Five entries having scheduled day later than appointment day.\n",
    "3. Handicap is not binary, but SMS_received is binary which are different from the dictionary\n",
    "5. The line graph for appointment date shows only about five weeks of data has been collected, and the time span is not long enough to demonstrate a trend in no-show rate with respect to time.\n",
    "    1. Since only five months of data is shown, a patient visiting a clinic more than 40 times does not sound rational. It is hard to imagine a person needs to go to the clinic more than once a day. The accuracy of the data may need to be checked again for those frequent visitors.\n",
    "    \n",
    "    \n",
    "The data dictionary should be updated for better accuracy in response to 1, 2 and 3. If one wishes to grasp a better understanding of no-show rate change with respect to time, entries from longer time frame should be analyzed."
   ]
  }
 ],
 "metadata": {
  "kernelspec": {
   "display_name": "Python 3",
   "language": "python",
   "name": "python3"
  },
  "language_info": {
   "codemirror_mode": {
    "name": "ipython",
    "version": 3
   },
   "file_extension": ".py",
   "mimetype": "text/x-python",
   "name": "python",
   "nbconvert_exporter": "python",
   "pygments_lexer": "ipython3",
   "version": "3.6.4"
  }
 },
 "nbformat": 4,
 "nbformat_minor": 2
}
